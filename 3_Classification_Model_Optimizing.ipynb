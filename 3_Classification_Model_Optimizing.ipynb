{
 "cells": [
  {
   "cell_type": "code",
   "execution_count": 1,
   "metadata": {},
   "outputs": [
    {
     "name": "stderr",
     "output_type": "stream",
     "text": [
      "C:\\Users\\User\\Anaconda3\\lib\\site-packages\\sklearn\\utils\\deprecation.py:143: FutureWarning:\n",
      "\n",
      "The sklearn.neighbors.base module is  deprecated in version 0.22 and will be removed in version 0.24. The corresponding classes / functions should instead be imported from sklearn.neighbors. Anything that cannot be imported from sklearn.neighbors is now part of the private API.\n",
      "\n",
      "C:\\Users\\User\\Anaconda3\\lib\\site-packages\\sklearn\\utils\\deprecation.py:143: FutureWarning:\n",
      "\n",
      "The sklearn.ensemble.bagging module is  deprecated in version 0.22 and will be removed in version 0.24. The corresponding classes / functions should instead be imported from sklearn.ensemble. Anything that cannot be imported from sklearn.ensemble is now part of the private API.\n",
      "\n",
      "C:\\Users\\User\\Anaconda3\\lib\\site-packages\\sklearn\\utils\\deprecation.py:143: FutureWarning:\n",
      "\n",
      "The sklearn.ensemble.base module is  deprecated in version 0.22 and will be removed in version 0.24. The corresponding classes / functions should instead be imported from sklearn.ensemble. Anything that cannot be imported from sklearn.ensemble is now part of the private API.\n",
      "\n",
      "C:\\Users\\User\\Anaconda3\\lib\\site-packages\\sklearn\\utils\\deprecation.py:143: FutureWarning:\n",
      "\n",
      "The sklearn.ensemble.forest module is  deprecated in version 0.22 and will be removed in version 0.24. The corresponding classes / functions should instead be imported from sklearn.ensemble. Anything that cannot be imported from sklearn.ensemble is now part of the private API.\n",
      "\n",
      "C:\\Users\\User\\Anaconda3\\lib\\site-packages\\sklearn\\utils\\deprecation.py:143: FutureWarning:\n",
      "\n",
      "The sklearn.utils.testing module is  deprecated in version 0.22 and will be removed in version 0.24. The corresponding classes / functions should instead be imported from sklearn.utils. Anything that cannot be imported from sklearn.utils is now part of the private API.\n",
      "\n",
      "C:\\Users\\User\\Anaconda3\\lib\\site-packages\\sklearn\\utils\\deprecation.py:143: FutureWarning:\n",
      "\n",
      "The sklearn.metrics.classification module is  deprecated in version 0.22 and will be removed in version 0.24. The corresponding classes / functions should instead be imported from sklearn.metrics. Anything that cannot be imported from sklearn.metrics is now part of the private API.\n",
      "\n"
     ]
    }
   ],
   "source": [
    "import numpy as np\n",
    "import pandas as pd\n",
    "import plotly.graph_objs as go\n",
    "import matplotlib.pyplot as plt\n",
    "import seaborn as sns\n",
    "\n",
    "from sklearn.utils import resample\n",
    "from sklearn.preprocessing import StandardScaler\n",
    "from imblearn.over_sampling import SMOTE\n",
    "from sklearn.model_selection import train_test_split\n",
    "from sklearn.linear_model import LogisticRegression\n",
    "from sklearn.neighbors import KNeighborsClassifier\n",
    "from sklearn.tree import DecisionTreeClassifier\n",
    "from sklearn.ensemble import RandomForestClassifier\n",
    "from sklearn.ensemble import AdaBoostClassifier\n",
    "from sklearn.ensemble import GradientBoostingClassifier\n",
    "from sklearn.metrics import plot_confusion_matrix, confusion_matrix, classification_report, f1_score, precision_score, recall_score, roc_curve, roc_auc_score, auc\n",
    "\n",
    "from sklearn.model_selection import RandomizedSearchCV\n",
    "from sklearn.decomposition import PCA\n",
    "\n",
    "import joblib\n",
    "\n",
    "%matplotlib inline\n",
    "pd.set_option('display.max_columns', 100)"
   ]
  },
  {
   "cell_type": "markdown",
   "metadata": {},
   "source": [
    "# TELCOM CHURN PREDICTION | Model Optimizing\n",
    "\n",
    "Goals: This project's aim is to predict whether the customer left the telecommunication services or continues to be a customer.<br>\n",
    "[Datasets Source](https://www.kaggle.com/blastchar/telco-customer-churn)"
   ]
  },
  {
   "cell_type": "markdown",
   "metadata": {},
   "source": [
    "## 1. Import Data"
   ]
  },
  {
   "cell_type": "code",
   "execution_count": 2,
   "metadata": {},
   "outputs": [
    {
     "data": {
      "text/html": [
       "<div>\n",
       "<style scoped>\n",
       "    .dataframe tbody tr th:only-of-type {\n",
       "        vertical-align: middle;\n",
       "    }\n",
       "\n",
       "    .dataframe tbody tr th {\n",
       "        vertical-align: top;\n",
       "    }\n",
       "\n",
       "    .dataframe thead th {\n",
       "        text-align: right;\n",
       "    }\n",
       "</style>\n",
       "<table border=\"1\" class=\"dataframe\">\n",
       "  <thead>\n",
       "    <tr style=\"text-align: right;\">\n",
       "      <th></th>\n",
       "      <th>Female</th>\n",
       "      <th>Male</th>\n",
       "      <th>DSL</th>\n",
       "      <th>FiberOptic</th>\n",
       "      <th>NoIntServ</th>\n",
       "      <th>Month-to-month</th>\n",
       "      <th>One year</th>\n",
       "      <th>Two year</th>\n",
       "      <th>Bank transfer (automatic)</th>\n",
       "      <th>Credit card (automatic)</th>\n",
       "      <th>Electronic check</th>\n",
       "      <th>Mailed check</th>\n",
       "      <th>SeniorCitizen</th>\n",
       "      <th>Partner</th>\n",
       "      <th>Dependents</th>\n",
       "      <th>tenure</th>\n",
       "      <th>PhoneService</th>\n",
       "      <th>MultipleLines</th>\n",
       "      <th>OnlineSecurity</th>\n",
       "      <th>OnlineBackup</th>\n",
       "      <th>DeviceProtection</th>\n",
       "      <th>TechSupport</th>\n",
       "      <th>StreamingTV</th>\n",
       "      <th>StreamingMovies</th>\n",
       "      <th>PaperlessBilling</th>\n",
       "      <th>MonthlyCharges</th>\n",
       "      <th>TotalCharges</th>\n",
       "      <th>Churn</th>\n",
       "    </tr>\n",
       "  </thead>\n",
       "  <tbody>\n",
       "    <tr>\n",
       "      <td>0</td>\n",
       "      <td>1.009559</td>\n",
       "      <td>-1.009559</td>\n",
       "      <td>1.381712</td>\n",
       "      <td>-0.885660</td>\n",
       "      <td>-0.525927</td>\n",
       "      <td>0.904184</td>\n",
       "      <td>-0.514249</td>\n",
       "      <td>-0.562975</td>\n",
       "      <td>-0.529885</td>\n",
       "      <td>-0.525047</td>\n",
       "      <td>1.406418</td>\n",
       "      <td>-0.544807</td>\n",
       "      <td>-0.439916</td>\n",
       "      <td>1.034530</td>\n",
       "      <td>-0.654012</td>\n",
       "      <td>-1.277445</td>\n",
       "      <td>-3.054010</td>\n",
       "      <td>-0.854176</td>\n",
       "      <td>-0.633933</td>\n",
       "      <td>1.378241</td>\n",
       "      <td>-0.723968</td>\n",
       "      <td>-0.639439</td>\n",
       "      <td>-0.790132</td>\n",
       "      <td>-0.796070</td>\n",
       "      <td>0.829798</td>\n",
       "      <td>-1.160323</td>\n",
       "      <td>-0.994194</td>\n",
       "      <td>0</td>\n",
       "    </tr>\n",
       "    <tr>\n",
       "      <td>1</td>\n",
       "      <td>-0.990532</td>\n",
       "      <td>0.990532</td>\n",
       "      <td>1.381712</td>\n",
       "      <td>-0.885660</td>\n",
       "      <td>-0.525927</td>\n",
       "      <td>-1.105970</td>\n",
       "      <td>1.944582</td>\n",
       "      <td>-0.562975</td>\n",
       "      <td>-0.529885</td>\n",
       "      <td>-0.525047</td>\n",
       "      <td>-0.711026</td>\n",
       "      <td>1.835513</td>\n",
       "      <td>-0.439916</td>\n",
       "      <td>-0.966622</td>\n",
       "      <td>-0.654012</td>\n",
       "      <td>0.066327</td>\n",
       "      <td>0.327438</td>\n",
       "      <td>-0.854176</td>\n",
       "      <td>1.577454</td>\n",
       "      <td>-0.725563</td>\n",
       "      <td>1.381277</td>\n",
       "      <td>-0.639439</td>\n",
       "      <td>-0.790132</td>\n",
       "      <td>-0.796070</td>\n",
       "      <td>-1.205113</td>\n",
       "      <td>-0.259629</td>\n",
       "      <td>-0.173740</td>\n",
       "      <td>0</td>\n",
       "    </tr>\n",
       "    <tr>\n",
       "      <td>2</td>\n",
       "      <td>-0.990532</td>\n",
       "      <td>0.990532</td>\n",
       "      <td>1.381712</td>\n",
       "      <td>-0.885660</td>\n",
       "      <td>-0.525927</td>\n",
       "      <td>0.904184</td>\n",
       "      <td>-0.514249</td>\n",
       "      <td>-0.562975</td>\n",
       "      <td>-0.529885</td>\n",
       "      <td>-0.525047</td>\n",
       "      <td>-0.711026</td>\n",
       "      <td>1.835513</td>\n",
       "      <td>-0.439916</td>\n",
       "      <td>-0.966622</td>\n",
       "      <td>-0.654012</td>\n",
       "      <td>-1.236724</td>\n",
       "      <td>0.327438</td>\n",
       "      <td>-0.854176</td>\n",
       "      <td>1.577454</td>\n",
       "      <td>1.378241</td>\n",
       "      <td>-0.723968</td>\n",
       "      <td>-0.639439</td>\n",
       "      <td>-0.790132</td>\n",
       "      <td>-0.796070</td>\n",
       "      <td>0.829798</td>\n",
       "      <td>-0.362660</td>\n",
       "      <td>-0.959649</td>\n",
       "      <td>1</td>\n",
       "    </tr>\n",
       "    <tr>\n",
       "      <td>3</td>\n",
       "      <td>-0.990532</td>\n",
       "      <td>0.990532</td>\n",
       "      <td>1.381712</td>\n",
       "      <td>-0.885660</td>\n",
       "      <td>-0.525927</td>\n",
       "      <td>-1.105970</td>\n",
       "      <td>1.944582</td>\n",
       "      <td>-0.562975</td>\n",
       "      <td>1.887201</td>\n",
       "      <td>-0.525047</td>\n",
       "      <td>-0.711026</td>\n",
       "      <td>-0.544807</td>\n",
       "      <td>-0.439916</td>\n",
       "      <td>-0.966622</td>\n",
       "      <td>-0.654012</td>\n",
       "      <td>0.514251</td>\n",
       "      <td>-3.054010</td>\n",
       "      <td>-0.854176</td>\n",
       "      <td>1.577454</td>\n",
       "      <td>-0.725563</td>\n",
       "      <td>1.381277</td>\n",
       "      <td>1.563872</td>\n",
       "      <td>-0.790132</td>\n",
       "      <td>-0.796070</td>\n",
       "      <td>-1.205113</td>\n",
       "      <td>-0.746535</td>\n",
       "      <td>-0.195248</td>\n",
       "      <td>0</td>\n",
       "    </tr>\n",
       "    <tr>\n",
       "      <td>4</td>\n",
       "      <td>1.009559</td>\n",
       "      <td>-1.009559</td>\n",
       "      <td>-0.723740</td>\n",
       "      <td>1.129102</td>\n",
       "      <td>-0.525927</td>\n",
       "      <td>0.904184</td>\n",
       "      <td>-0.514249</td>\n",
       "      <td>-0.562975</td>\n",
       "      <td>-0.529885</td>\n",
       "      <td>-0.525047</td>\n",
       "      <td>1.406418</td>\n",
       "      <td>-0.544807</td>\n",
       "      <td>-0.439916</td>\n",
       "      <td>-0.966622</td>\n",
       "      <td>-0.654012</td>\n",
       "      <td>-1.236724</td>\n",
       "      <td>0.327438</td>\n",
       "      <td>-0.854176</td>\n",
       "      <td>-0.633933</td>\n",
       "      <td>-0.725563</td>\n",
       "      <td>-0.723968</td>\n",
       "      <td>-0.639439</td>\n",
       "      <td>-0.790132</td>\n",
       "      <td>-0.796070</td>\n",
       "      <td>0.829798</td>\n",
       "      <td>0.197365</td>\n",
       "      <td>-0.940457</td>\n",
       "      <td>1</td>\n",
       "    </tr>\n",
       "    <tr>\n",
       "      <td>...</td>\n",
       "      <td>...</td>\n",
       "      <td>...</td>\n",
       "      <td>...</td>\n",
       "      <td>...</td>\n",
       "      <td>...</td>\n",
       "      <td>...</td>\n",
       "      <td>...</td>\n",
       "      <td>...</td>\n",
       "      <td>...</td>\n",
       "      <td>...</td>\n",
       "      <td>...</td>\n",
       "      <td>...</td>\n",
       "      <td>...</td>\n",
       "      <td>...</td>\n",
       "      <td>...</td>\n",
       "      <td>...</td>\n",
       "      <td>...</td>\n",
       "      <td>...</td>\n",
       "      <td>...</td>\n",
       "      <td>...</td>\n",
       "      <td>...</td>\n",
       "      <td>...</td>\n",
       "      <td>...</td>\n",
       "      <td>...</td>\n",
       "      <td>...</td>\n",
       "      <td>...</td>\n",
       "      <td>...</td>\n",
       "      <td>...</td>\n",
       "    </tr>\n",
       "    <tr>\n",
       "      <td>7027</td>\n",
       "      <td>-0.990532</td>\n",
       "      <td>0.990532</td>\n",
       "      <td>1.381712</td>\n",
       "      <td>-0.885660</td>\n",
       "      <td>-0.525927</td>\n",
       "      <td>-1.105970</td>\n",
       "      <td>1.944582</td>\n",
       "      <td>-0.562975</td>\n",
       "      <td>-0.529885</td>\n",
       "      <td>-0.525047</td>\n",
       "      <td>-0.711026</td>\n",
       "      <td>1.835513</td>\n",
       "      <td>-0.439916</td>\n",
       "      <td>1.034530</td>\n",
       "      <td>1.529024</td>\n",
       "      <td>-0.340876</td>\n",
       "      <td>0.327438</td>\n",
       "      <td>1.170719</td>\n",
       "      <td>1.577454</td>\n",
       "      <td>-0.725563</td>\n",
       "      <td>1.381277</td>\n",
       "      <td>1.563872</td>\n",
       "      <td>1.265612</td>\n",
       "      <td>1.256171</td>\n",
       "      <td>0.829798</td>\n",
       "      <td>0.665992</td>\n",
       "      <td>-0.129180</td>\n",
       "      <td>0</td>\n",
       "    </tr>\n",
       "    <tr>\n",
       "      <td>7028</td>\n",
       "      <td>1.009559</td>\n",
       "      <td>-1.009559</td>\n",
       "      <td>-0.723740</td>\n",
       "      <td>1.129102</td>\n",
       "      <td>-0.525927</td>\n",
       "      <td>-1.105970</td>\n",
       "      <td>1.944582</td>\n",
       "      <td>-0.562975</td>\n",
       "      <td>-0.529885</td>\n",
       "      <td>1.904590</td>\n",
       "      <td>-0.711026</td>\n",
       "      <td>-0.544807</td>\n",
       "      <td>-0.439916</td>\n",
       "      <td>1.034530</td>\n",
       "      <td>1.529024</td>\n",
       "      <td>1.613701</td>\n",
       "      <td>0.327438</td>\n",
       "      <td>1.170719</td>\n",
       "      <td>-0.633933</td>\n",
       "      <td>1.378241</td>\n",
       "      <td>1.381277</td>\n",
       "      <td>-0.639439</td>\n",
       "      <td>1.265612</td>\n",
       "      <td>1.256171</td>\n",
       "      <td>0.829798</td>\n",
       "      <td>1.277533</td>\n",
       "      <td>2.241056</td>\n",
       "      <td>0</td>\n",
       "    </tr>\n",
       "    <tr>\n",
       "      <td>7029</td>\n",
       "      <td>1.009559</td>\n",
       "      <td>-1.009559</td>\n",
       "      <td>1.381712</td>\n",
       "      <td>-0.885660</td>\n",
       "      <td>-0.525927</td>\n",
       "      <td>0.904184</td>\n",
       "      <td>-0.514249</td>\n",
       "      <td>-0.562975</td>\n",
       "      <td>-0.529885</td>\n",
       "      <td>-0.525047</td>\n",
       "      <td>1.406418</td>\n",
       "      <td>-0.544807</td>\n",
       "      <td>-0.439916</td>\n",
       "      <td>1.034530</td>\n",
       "      <td>1.529024</td>\n",
       "      <td>-0.870241</td>\n",
       "      <td>-3.054010</td>\n",
       "      <td>-0.854176</td>\n",
       "      <td>1.577454</td>\n",
       "      <td>-0.725563</td>\n",
       "      <td>-0.723968</td>\n",
       "      <td>-0.639439</td>\n",
       "      <td>-0.790132</td>\n",
       "      <td>-0.796070</td>\n",
       "      <td>0.829798</td>\n",
       "      <td>-1.168632</td>\n",
       "      <td>-0.854514</td>\n",
       "      <td>0</td>\n",
       "    </tr>\n",
       "    <tr>\n",
       "      <td>7030</td>\n",
       "      <td>-0.990532</td>\n",
       "      <td>0.990532</td>\n",
       "      <td>-0.723740</td>\n",
       "      <td>1.129102</td>\n",
       "      <td>-0.525927</td>\n",
       "      <td>0.904184</td>\n",
       "      <td>-0.514249</td>\n",
       "      <td>-0.562975</td>\n",
       "      <td>-0.529885</td>\n",
       "      <td>-0.525047</td>\n",
       "      <td>-0.711026</td>\n",
       "      <td>1.835513</td>\n",
       "      <td>2.273159</td>\n",
       "      <td>1.034530</td>\n",
       "      <td>-0.654012</td>\n",
       "      <td>-1.155283</td>\n",
       "      <td>0.327438</td>\n",
       "      <td>1.170719</td>\n",
       "      <td>-0.633933</td>\n",
       "      <td>-0.725563</td>\n",
       "      <td>-0.723968</td>\n",
       "      <td>-0.639439</td>\n",
       "      <td>-0.790132</td>\n",
       "      <td>-0.796070</td>\n",
       "      <td>0.829798</td>\n",
       "      <td>0.320338</td>\n",
       "      <td>-0.872095</td>\n",
       "      <td>1</td>\n",
       "    </tr>\n",
       "    <tr>\n",
       "      <td>7031</td>\n",
       "      <td>-0.990532</td>\n",
       "      <td>0.990532</td>\n",
       "      <td>-0.723740</td>\n",
       "      <td>1.129102</td>\n",
       "      <td>-0.525927</td>\n",
       "      <td>-1.105970</td>\n",
       "      <td>-0.514249</td>\n",
       "      <td>1.776278</td>\n",
       "      <td>1.887201</td>\n",
       "      <td>-0.525047</td>\n",
       "      <td>-0.711026</td>\n",
       "      <td>-0.544807</td>\n",
       "      <td>-0.439916</td>\n",
       "      <td>-0.966622</td>\n",
       "      <td>-0.654012</td>\n",
       "      <td>1.369379</td>\n",
       "      <td>0.327438</td>\n",
       "      <td>-0.854176</td>\n",
       "      <td>1.577454</td>\n",
       "      <td>-0.725563</td>\n",
       "      <td>1.381277</td>\n",
       "      <td>1.563872</td>\n",
       "      <td>1.265612</td>\n",
       "      <td>1.256171</td>\n",
       "      <td>0.829798</td>\n",
       "      <td>1.358961</td>\n",
       "      <td>2.012344</td>\n",
       "      <td>0</td>\n",
       "    </tr>\n",
       "  </tbody>\n",
       "</table>\n",
       "<p>7032 rows × 28 columns</p>\n",
       "</div>"
      ],
      "text/plain": [
       "        Female      Male       DSL  FiberOptic  NoIntServ  Month-to-month  \\\n",
       "0     1.009559 -1.009559  1.381712   -0.885660  -0.525927        0.904184   \n",
       "1    -0.990532  0.990532  1.381712   -0.885660  -0.525927       -1.105970   \n",
       "2    -0.990532  0.990532  1.381712   -0.885660  -0.525927        0.904184   \n",
       "3    -0.990532  0.990532  1.381712   -0.885660  -0.525927       -1.105970   \n",
       "4     1.009559 -1.009559 -0.723740    1.129102  -0.525927        0.904184   \n",
       "...        ...       ...       ...         ...        ...             ...   \n",
       "7027 -0.990532  0.990532  1.381712   -0.885660  -0.525927       -1.105970   \n",
       "7028  1.009559 -1.009559 -0.723740    1.129102  -0.525927       -1.105970   \n",
       "7029  1.009559 -1.009559  1.381712   -0.885660  -0.525927        0.904184   \n",
       "7030 -0.990532  0.990532 -0.723740    1.129102  -0.525927        0.904184   \n",
       "7031 -0.990532  0.990532 -0.723740    1.129102  -0.525927       -1.105970   \n",
       "\n",
       "      One year  Two year  Bank transfer (automatic)  Credit card (automatic)  \\\n",
       "0    -0.514249 -0.562975                  -0.529885                -0.525047   \n",
       "1     1.944582 -0.562975                  -0.529885                -0.525047   \n",
       "2    -0.514249 -0.562975                  -0.529885                -0.525047   \n",
       "3     1.944582 -0.562975                   1.887201                -0.525047   \n",
       "4    -0.514249 -0.562975                  -0.529885                -0.525047   \n",
       "...        ...       ...                        ...                      ...   \n",
       "7027  1.944582 -0.562975                  -0.529885                -0.525047   \n",
       "7028  1.944582 -0.562975                  -0.529885                 1.904590   \n",
       "7029 -0.514249 -0.562975                  -0.529885                -0.525047   \n",
       "7030 -0.514249 -0.562975                  -0.529885                -0.525047   \n",
       "7031 -0.514249  1.776278                   1.887201                -0.525047   \n",
       "\n",
       "      Electronic check  Mailed check  SeniorCitizen   Partner  Dependents  \\\n",
       "0             1.406418     -0.544807      -0.439916  1.034530   -0.654012   \n",
       "1            -0.711026      1.835513      -0.439916 -0.966622   -0.654012   \n",
       "2            -0.711026      1.835513      -0.439916 -0.966622   -0.654012   \n",
       "3            -0.711026     -0.544807      -0.439916 -0.966622   -0.654012   \n",
       "4             1.406418     -0.544807      -0.439916 -0.966622   -0.654012   \n",
       "...                ...           ...            ...       ...         ...   \n",
       "7027         -0.711026      1.835513      -0.439916  1.034530    1.529024   \n",
       "7028         -0.711026     -0.544807      -0.439916  1.034530    1.529024   \n",
       "7029          1.406418     -0.544807      -0.439916  1.034530    1.529024   \n",
       "7030         -0.711026      1.835513       2.273159  1.034530   -0.654012   \n",
       "7031         -0.711026     -0.544807      -0.439916 -0.966622   -0.654012   \n",
       "\n",
       "        tenure  PhoneService  MultipleLines  OnlineSecurity  OnlineBackup  \\\n",
       "0    -1.277445     -3.054010      -0.854176       -0.633933      1.378241   \n",
       "1     0.066327      0.327438      -0.854176        1.577454     -0.725563   \n",
       "2    -1.236724      0.327438      -0.854176        1.577454      1.378241   \n",
       "3     0.514251     -3.054010      -0.854176        1.577454     -0.725563   \n",
       "4    -1.236724      0.327438      -0.854176       -0.633933     -0.725563   \n",
       "...        ...           ...            ...             ...           ...   \n",
       "7027 -0.340876      0.327438       1.170719        1.577454     -0.725563   \n",
       "7028  1.613701      0.327438       1.170719       -0.633933      1.378241   \n",
       "7029 -0.870241     -3.054010      -0.854176        1.577454     -0.725563   \n",
       "7030 -1.155283      0.327438       1.170719       -0.633933     -0.725563   \n",
       "7031  1.369379      0.327438      -0.854176        1.577454     -0.725563   \n",
       "\n",
       "      DeviceProtection  TechSupport  StreamingTV  StreamingMovies  \\\n",
       "0            -0.723968    -0.639439    -0.790132        -0.796070   \n",
       "1             1.381277    -0.639439    -0.790132        -0.796070   \n",
       "2            -0.723968    -0.639439    -0.790132        -0.796070   \n",
       "3             1.381277     1.563872    -0.790132        -0.796070   \n",
       "4            -0.723968    -0.639439    -0.790132        -0.796070   \n",
       "...                ...          ...          ...              ...   \n",
       "7027          1.381277     1.563872     1.265612         1.256171   \n",
       "7028          1.381277    -0.639439     1.265612         1.256171   \n",
       "7029         -0.723968    -0.639439    -0.790132        -0.796070   \n",
       "7030         -0.723968    -0.639439    -0.790132        -0.796070   \n",
       "7031          1.381277     1.563872     1.265612         1.256171   \n",
       "\n",
       "      PaperlessBilling  MonthlyCharges  TotalCharges  Churn  \n",
       "0             0.829798       -1.160323     -0.994194      0  \n",
       "1            -1.205113       -0.259629     -0.173740      0  \n",
       "2             0.829798       -0.362660     -0.959649      1  \n",
       "3            -1.205113       -0.746535     -0.195248      0  \n",
       "4             0.829798        0.197365     -0.940457      1  \n",
       "...                ...             ...           ...    ...  \n",
       "7027          0.829798        0.665992     -0.129180      0  \n",
       "7028          0.829798        1.277533      2.241056      0  \n",
       "7029          0.829798       -1.168632     -0.854514      0  \n",
       "7030          0.829798        0.320338     -0.872095      1  \n",
       "7031          0.829798        1.358961      2.012344      0  \n",
       "\n",
       "[7032 rows x 28 columns]"
      ]
     },
     "execution_count": 2,
     "metadata": {},
     "output_type": "execute_result"
    }
   ],
   "source": [
    "df = pd.read_csv(\"Telcom_Cleaned.csv\")\n",
    "df"
   ]
  },
  {
   "cell_type": "code",
   "execution_count": 3,
   "metadata": {},
   "outputs": [
    {
     "data": {
      "image/png": "[encoded data removed]",
      "text/plain": [
       "<Figure size 432x288 with 1 Axes>"
      ]
     },
     "metadata": {},
     "output_type": "display_data"
    }
   ],
   "source": [
    "piedata = [len(df[df['Churn']==0]), len(df[df['Churn']==1])]\n",
    "labels = ['exit', 'churn']\n",
    "\n",
    "plt.pie(piedata, labels=labels, autopct='%2.2f%%', startangle=90)\n",
    "plt.show()"
   ]
  },
  {
   "cell_type": "markdown",
   "metadata": {},
   "source": [
    "## 2. Checking Best Correlation"
   ]
  },
  {
   "cell_type": "code",
   "execution_count": 4,
   "metadata": {},
   "outputs": [
    {
     "data": {
      "text/plain": [
       "<matplotlib.axes._subplots.AxesSubplot at 0x208c945d688>"
      ]
     },
     "execution_count": 4,
     "metadata": {},
     "output_type": "execute_result"
    },
    {
     "data": {
      "image/png": "[encoded data removed]",
      "text/plain": [
       "<Figure size 864x720 with 2 Axes>"
      ]
     },
     "metadata": {
      "needs_background": "light"
     },
     "output_type": "display_data"
    }
   ],
   "source": [
    "plt.figure(figsize=(12,10))\n",
    "sns.heatmap(df.corr(), annot=True)"
   ]
  },
  {
   "cell_type": "code",
   "execution_count": 5,
   "metadata": {},
   "outputs": [
    {
     "data": {
      "text/plain": [
       "Churn                        1.000000\n",
       "Month-to-month               0.404565\n",
       "FiberOptic                   0.307463\n",
       "Electronic check             0.301455\n",
       "MonthlyCharges               0.192858\n",
       "PaperlessBilling             0.191454\n",
       "SeniorCitizen                0.150541\n",
       "StreamingTV                  0.063254\n",
       "StreamingMovies              0.060860\n",
       "MultipleLines                0.040033\n",
       "PhoneService                 0.011691\n",
       "Female                       0.008545\n",
       "Male                        -0.008545\n",
       "DeviceProtection            -0.066193\n",
       "OnlineBackup                -0.082307\n",
       "Mailed check                -0.090773\n",
       "Bank transfer (automatic)   -0.118136\n",
       "DSL                         -0.124141\n",
       "Credit card (automatic)     -0.134687\n",
       "Partner                     -0.149982\n",
       "Dependents                  -0.163128\n",
       "TechSupport                 -0.164716\n",
       "OnlineSecurity              -0.171270\n",
       "One year                    -0.178225\n",
       "TotalCharges                -0.199484\n",
       "NoIntServ                   -0.227578\n",
       "Two year                    -0.301552\n",
       "tenure                      -0.354049\n",
       "Name: Churn, dtype: float64"
      ]
     },
     "execution_count": 5,
     "metadata": {},
     "output_type": "execute_result"
    }
   ],
   "source": [
    "df.corr()['Churn'].sort_values(ascending=False)"
   ]
  },
  {
   "cell_type": "markdown",
   "metadata": {},
   "source": [
    "Features that have big correlation:\n",
    "* Month-to-month [Contract] (40.45%)\n",
    "* Tenure (35.40%)\n",
    "* FiberOptic [InternetServices] (30.74%)\n",
    "* Two year [Contract] (30.15%)\n",
    "* Electronic check [PaymentMethod] (30.14%)\n",
    "* NoIntServ [InternetServices] (22.75%)"
   ]
  },
  {
   "cell_type": "markdown",
   "metadata": {},
   "source": [
    "## 3. Splitting Data"
   ]
  },
  {
   "cell_type": "code",
   "execution_count": 6,
   "metadata": {},
   "outputs": [],
   "source": [
    "X = df.drop('Churn',axis=1)\n",
    "y = df['Churn']"
   ]
  },
  {
   "cell_type": "code",
   "execution_count": 7,
   "metadata": {},
   "outputs": [],
   "source": [
    "X_train, X_test, y_train, y_test = train_test_split(X, y, test_size=.3, random_state=42)"
   ]
  },
  {
   "cell_type": "code",
   "execution_count": 8,
   "metadata": {},
   "outputs": [
    {
     "data": {
      "text/plain": [
       "0    3614\n",
       "1    1308\n",
       "Name: Churn, dtype: int64"
      ]
     },
     "execution_count": 8,
     "metadata": {},
     "output_type": "execute_result"
    }
   ],
   "source": [
    "y_train.value_counts()"
   ]
  },
  {
   "cell_type": "code",
   "execution_count": 9,
   "metadata": {},
   "outputs": [
    {
     "data": {
      "image/png": "[encoded data removed]",
      "text/plain": [
       "<Figure size 432x288 with 1 Axes>"
      ]
     },
     "metadata": {},
     "output_type": "display_data"
    }
   ],
   "source": [
    "piedata = [len(y_train[y_train==0]), len(y_train[y_train==1])]\n",
    "labels = ['exit', 'churn']\n",
    "\n",
    "plt.pie(piedata, labels=labels, autopct='%2.2f%%', startangle=90)\n",
    "plt.show()"
   ]
  },
  {
   "cell_type": "markdown",
   "metadata": {},
   "source": [
    "We can see that `churn` and `exit` data is not balance, so I consider to use SMOTE."
   ]
  },
  {
   "cell_type": "markdown",
   "metadata": {},
   "source": [
    "## 4. SMOTE"
   ]
  },
  {
   "cell_type": "code",
   "execution_count": 10,
   "metadata": {},
   "outputs": [
    {
     "name": "stderr",
     "output_type": "stream",
     "text": [
      "C:\\Users\\User\\Anaconda3\\lib\\site-packages\\sklearn\\utils\\deprecation.py:86: FutureWarning:\n",
      "\n",
      "Function safe_indexing is deprecated; safe_indexing is deprecated in version 0.22 and will be removed in version 0.24.\n",
      "\n"
     ]
    }
   ],
   "source": [
    "sm = SMOTE(random_state=42)\n",
    "X_sm, y_sm = sm.fit_resample(X_train,y_train)"
   ]
  },
  {
   "cell_type": "code",
   "execution_count": 11,
   "metadata": {},
   "outputs": [
    {
     "data": {
      "image/png": "[encoded data removed]",
      "text/plain": [
       "<Figure size 432x288 with 1 Axes>"
      ]
     },
     "metadata": {},
     "output_type": "display_data"
    }
   ],
   "source": [
    "piedata = [len(y_sm[y_sm==0]), len(y_sm[y_sm==1])]\n",
    "labels = ['exit', 'churn']\n",
    "\n",
    "plt.pie(piedata, labels=labels, autopct='%2.2f%%', startangle=90)\n",
    "plt.show()"
   ]
  },
  {
   "cell_type": "markdown",
   "metadata": {},
   "source": [
    "Now, we have balance data. So, let's get to started to train with the model! :)"
   ]
  },
  {
   "cell_type": "markdown",
   "metadata": {},
   "source": [
    "## 5. Random Over Sampling"
   ]
  },
  {
   "cell_type": "code",
   "execution_count": 12,
   "metadata": {},
   "outputs": [
    {
     "data": {
      "text/html": [
       "<div>\n",
       "<style scoped>\n",
       "    .dataframe tbody tr th:only-of-type {\n",
       "        vertical-align: middle;\n",
       "    }\n",
       "\n",
       "    .dataframe tbody tr th {\n",
       "        vertical-align: top;\n",
       "    }\n",
       "\n",
       "    .dataframe thead th {\n",
       "        text-align: right;\n",
       "    }\n",
       "</style>\n",
       "<table border=\"1\" class=\"dataframe\">\n",
       "  <thead>\n",
       "    <tr style=\"text-align: right;\">\n",
       "      <th></th>\n",
       "      <th>Female</th>\n",
       "      <th>Male</th>\n",
       "      <th>DSL</th>\n",
       "      <th>FiberOptic</th>\n",
       "      <th>NoIntServ</th>\n",
       "      <th>Month-to-month</th>\n",
       "      <th>One year</th>\n",
       "      <th>Two year</th>\n",
       "      <th>Bank transfer (automatic)</th>\n",
       "      <th>Credit card (automatic)</th>\n",
       "      <th>Electronic check</th>\n",
       "      <th>Mailed check</th>\n",
       "      <th>SeniorCitizen</th>\n",
       "      <th>Partner</th>\n",
       "      <th>Dependents</th>\n",
       "      <th>tenure</th>\n",
       "      <th>PhoneService</th>\n",
       "      <th>MultipleLines</th>\n",
       "      <th>OnlineSecurity</th>\n",
       "      <th>OnlineBackup</th>\n",
       "      <th>DeviceProtection</th>\n",
       "      <th>TechSupport</th>\n",
       "      <th>StreamingTV</th>\n",
       "      <th>StreamingMovies</th>\n",
       "      <th>PaperlessBilling</th>\n",
       "      <th>MonthlyCharges</th>\n",
       "      <th>TotalCharges</th>\n",
       "      <th>Churn</th>\n",
       "    </tr>\n",
       "  </thead>\n",
       "  <tbody>\n",
       "    <tr>\n",
       "      <td>0</td>\n",
       "      <td>1.009559</td>\n",
       "      <td>-1.009559</td>\n",
       "      <td>1.381712</td>\n",
       "      <td>-0.885660</td>\n",
       "      <td>-0.525927</td>\n",
       "      <td>0.904184</td>\n",
       "      <td>-0.514249</td>\n",
       "      <td>-0.562975</td>\n",
       "      <td>-0.529885</td>\n",
       "      <td>-0.525047</td>\n",
       "      <td>1.406418</td>\n",
       "      <td>-0.544807</td>\n",
       "      <td>-0.439916</td>\n",
       "      <td>1.034530</td>\n",
       "      <td>-0.654012</td>\n",
       "      <td>-1.277445</td>\n",
       "      <td>-3.054010</td>\n",
       "      <td>-0.854176</td>\n",
       "      <td>-0.633933</td>\n",
       "      <td>1.378241</td>\n",
       "      <td>-0.723968</td>\n",
       "      <td>-0.639439</td>\n",
       "      <td>-0.790132</td>\n",
       "      <td>-0.796070</td>\n",
       "      <td>0.829798</td>\n",
       "      <td>-1.160323</td>\n",
       "      <td>-0.994194</td>\n",
       "      <td>1</td>\n",
       "    </tr>\n",
       "    <tr>\n",
       "      <td>1</td>\n",
       "      <td>-0.990532</td>\n",
       "      <td>0.990532</td>\n",
       "      <td>1.381712</td>\n",
       "      <td>-0.885660</td>\n",
       "      <td>-0.525927</td>\n",
       "      <td>-1.105970</td>\n",
       "      <td>1.944582</td>\n",
       "      <td>-0.562975</td>\n",
       "      <td>-0.529885</td>\n",
       "      <td>-0.525047</td>\n",
       "      <td>-0.711026</td>\n",
       "      <td>1.835513</td>\n",
       "      <td>-0.439916</td>\n",
       "      <td>-0.966622</td>\n",
       "      <td>-0.654012</td>\n",
       "      <td>0.066327</td>\n",
       "      <td>0.327438</td>\n",
       "      <td>-0.854176</td>\n",
       "      <td>1.577454</td>\n",
       "      <td>-0.725563</td>\n",
       "      <td>1.381277</td>\n",
       "      <td>-0.639439</td>\n",
       "      <td>-0.790132</td>\n",
       "      <td>-0.796070</td>\n",
       "      <td>-1.205113</td>\n",
       "      <td>-0.259629</td>\n",
       "      <td>-0.173740</td>\n",
       "      <td>1</td>\n",
       "    </tr>\n",
       "    <tr>\n",
       "      <td>2</td>\n",
       "      <td>-0.990532</td>\n",
       "      <td>0.990532</td>\n",
       "      <td>1.381712</td>\n",
       "      <td>-0.885660</td>\n",
       "      <td>-0.525927</td>\n",
       "      <td>0.904184</td>\n",
       "      <td>-0.514249</td>\n",
       "      <td>-0.562975</td>\n",
       "      <td>-0.529885</td>\n",
       "      <td>-0.525047</td>\n",
       "      <td>-0.711026</td>\n",
       "      <td>1.835513</td>\n",
       "      <td>-0.439916</td>\n",
       "      <td>-0.966622</td>\n",
       "      <td>-0.654012</td>\n",
       "      <td>-1.236724</td>\n",
       "      <td>0.327438</td>\n",
       "      <td>-0.854176</td>\n",
       "      <td>1.577454</td>\n",
       "      <td>1.378241</td>\n",
       "      <td>-0.723968</td>\n",
       "      <td>-0.639439</td>\n",
       "      <td>-0.790132</td>\n",
       "      <td>-0.796070</td>\n",
       "      <td>0.829798</td>\n",
       "      <td>-0.362660</td>\n",
       "      <td>-0.959649</td>\n",
       "      <td>1</td>\n",
       "    </tr>\n",
       "    <tr>\n",
       "      <td>3</td>\n",
       "      <td>-0.990532</td>\n",
       "      <td>0.990532</td>\n",
       "      <td>1.381712</td>\n",
       "      <td>-0.885660</td>\n",
       "      <td>-0.525927</td>\n",
       "      <td>-1.105970</td>\n",
       "      <td>1.944582</td>\n",
       "      <td>-0.562975</td>\n",
       "      <td>1.887201</td>\n",
       "      <td>-0.525047</td>\n",
       "      <td>-0.711026</td>\n",
       "      <td>-0.544807</td>\n",
       "      <td>-0.439916</td>\n",
       "      <td>-0.966622</td>\n",
       "      <td>-0.654012</td>\n",
       "      <td>0.514251</td>\n",
       "      <td>-3.054010</td>\n",
       "      <td>-0.854176</td>\n",
       "      <td>1.577454</td>\n",
       "      <td>-0.725563</td>\n",
       "      <td>1.381277</td>\n",
       "      <td>1.563872</td>\n",
       "      <td>-0.790132</td>\n",
       "      <td>-0.796070</td>\n",
       "      <td>-1.205113</td>\n",
       "      <td>-0.746535</td>\n",
       "      <td>-0.195248</td>\n",
       "      <td>1</td>\n",
       "    </tr>\n",
       "    <tr>\n",
       "      <td>4</td>\n",
       "      <td>1.009559</td>\n",
       "      <td>-1.009559</td>\n",
       "      <td>-0.723740</td>\n",
       "      <td>1.129102</td>\n",
       "      <td>-0.525927</td>\n",
       "      <td>0.904184</td>\n",
       "      <td>-0.514249</td>\n",
       "      <td>-0.562975</td>\n",
       "      <td>-0.529885</td>\n",
       "      <td>-0.525047</td>\n",
       "      <td>1.406418</td>\n",
       "      <td>-0.544807</td>\n",
       "      <td>-0.439916</td>\n",
       "      <td>-0.966622</td>\n",
       "      <td>-0.654012</td>\n",
       "      <td>-1.236724</td>\n",
       "      <td>0.327438</td>\n",
       "      <td>-0.854176</td>\n",
       "      <td>-0.633933</td>\n",
       "      <td>-0.725563</td>\n",
       "      <td>-0.723968</td>\n",
       "      <td>-0.639439</td>\n",
       "      <td>-0.790132</td>\n",
       "      <td>-0.796070</td>\n",
       "      <td>0.829798</td>\n",
       "      <td>0.197365</td>\n",
       "      <td>-0.940457</td>\n",
       "      <td>1</td>\n",
       "    </tr>\n",
       "    <tr>\n",
       "      <td>...</td>\n",
       "      <td>...</td>\n",
       "      <td>...</td>\n",
       "      <td>...</td>\n",
       "      <td>...</td>\n",
       "      <td>...</td>\n",
       "      <td>...</td>\n",
       "      <td>...</td>\n",
       "      <td>...</td>\n",
       "      <td>...</td>\n",
       "      <td>...</td>\n",
       "      <td>...</td>\n",
       "      <td>...</td>\n",
       "      <td>...</td>\n",
       "      <td>...</td>\n",
       "      <td>...</td>\n",
       "      <td>...</td>\n",
       "      <td>...</td>\n",
       "      <td>...</td>\n",
       "      <td>...</td>\n",
       "      <td>...</td>\n",
       "      <td>...</td>\n",
       "      <td>...</td>\n",
       "      <td>...</td>\n",
       "      <td>...</td>\n",
       "      <td>...</td>\n",
       "      <td>...</td>\n",
       "      <td>...</td>\n",
       "      <td>...</td>\n",
       "    </tr>\n",
       "    <tr>\n",
       "      <td>7027</td>\n",
       "      <td>-0.990532</td>\n",
       "      <td>0.990532</td>\n",
       "      <td>1.381712</td>\n",
       "      <td>-0.885660</td>\n",
       "      <td>-0.525927</td>\n",
       "      <td>-1.105970</td>\n",
       "      <td>1.944582</td>\n",
       "      <td>-0.562975</td>\n",
       "      <td>-0.529885</td>\n",
       "      <td>-0.525047</td>\n",
       "      <td>-0.711026</td>\n",
       "      <td>1.835513</td>\n",
       "      <td>-0.439916</td>\n",
       "      <td>1.034530</td>\n",
       "      <td>1.529024</td>\n",
       "      <td>-0.340876</td>\n",
       "      <td>0.327438</td>\n",
       "      <td>1.170719</td>\n",
       "      <td>1.577454</td>\n",
       "      <td>-0.725563</td>\n",
       "      <td>1.381277</td>\n",
       "      <td>1.563872</td>\n",
       "      <td>1.265612</td>\n",
       "      <td>1.256171</td>\n",
       "      <td>0.829798</td>\n",
       "      <td>0.665992</td>\n",
       "      <td>-0.129180</td>\n",
       "      <td>1</td>\n",
       "    </tr>\n",
       "    <tr>\n",
       "      <td>7028</td>\n",
       "      <td>1.009559</td>\n",
       "      <td>-1.009559</td>\n",
       "      <td>-0.723740</td>\n",
       "      <td>1.129102</td>\n",
       "      <td>-0.525927</td>\n",
       "      <td>-1.105970</td>\n",
       "      <td>1.944582</td>\n",
       "      <td>-0.562975</td>\n",
       "      <td>-0.529885</td>\n",
       "      <td>1.904590</td>\n",
       "      <td>-0.711026</td>\n",
       "      <td>-0.544807</td>\n",
       "      <td>-0.439916</td>\n",
       "      <td>1.034530</td>\n",
       "      <td>1.529024</td>\n",
       "      <td>1.613701</td>\n",
       "      <td>0.327438</td>\n",
       "      <td>1.170719</td>\n",
       "      <td>-0.633933</td>\n",
       "      <td>1.378241</td>\n",
       "      <td>1.381277</td>\n",
       "      <td>-0.639439</td>\n",
       "      <td>1.265612</td>\n",
       "      <td>1.256171</td>\n",
       "      <td>0.829798</td>\n",
       "      <td>1.277533</td>\n",
       "      <td>2.241056</td>\n",
       "      <td>1</td>\n",
       "    </tr>\n",
       "    <tr>\n",
       "      <td>7029</td>\n",
       "      <td>1.009559</td>\n",
       "      <td>-1.009559</td>\n",
       "      <td>1.381712</td>\n",
       "      <td>-0.885660</td>\n",
       "      <td>-0.525927</td>\n",
       "      <td>0.904184</td>\n",
       "      <td>-0.514249</td>\n",
       "      <td>-0.562975</td>\n",
       "      <td>-0.529885</td>\n",
       "      <td>-0.525047</td>\n",
       "      <td>1.406418</td>\n",
       "      <td>-0.544807</td>\n",
       "      <td>-0.439916</td>\n",
       "      <td>1.034530</td>\n",
       "      <td>1.529024</td>\n",
       "      <td>-0.870241</td>\n",
       "      <td>-3.054010</td>\n",
       "      <td>-0.854176</td>\n",
       "      <td>1.577454</td>\n",
       "      <td>-0.725563</td>\n",
       "      <td>-0.723968</td>\n",
       "      <td>-0.639439</td>\n",
       "      <td>-0.790132</td>\n",
       "      <td>-0.796070</td>\n",
       "      <td>0.829798</td>\n",
       "      <td>-1.168632</td>\n",
       "      <td>-0.854514</td>\n",
       "      <td>1</td>\n",
       "    </tr>\n",
       "    <tr>\n",
       "      <td>7030</td>\n",
       "      <td>-0.990532</td>\n",
       "      <td>0.990532</td>\n",
       "      <td>-0.723740</td>\n",
       "      <td>1.129102</td>\n",
       "      <td>-0.525927</td>\n",
       "      <td>0.904184</td>\n",
       "      <td>-0.514249</td>\n",
       "      <td>-0.562975</td>\n",
       "      <td>-0.529885</td>\n",
       "      <td>-0.525047</td>\n",
       "      <td>-0.711026</td>\n",
       "      <td>1.835513</td>\n",
       "      <td>2.273159</td>\n",
       "      <td>1.034530</td>\n",
       "      <td>-0.654012</td>\n",
       "      <td>-1.155283</td>\n",
       "      <td>0.327438</td>\n",
       "      <td>1.170719</td>\n",
       "      <td>-0.633933</td>\n",
       "      <td>-0.725563</td>\n",
       "      <td>-0.723968</td>\n",
       "      <td>-0.639439</td>\n",
       "      <td>-0.790132</td>\n",
       "      <td>-0.796070</td>\n",
       "      <td>0.829798</td>\n",
       "      <td>0.320338</td>\n",
       "      <td>-0.872095</td>\n",
       "      <td>1</td>\n",
       "    </tr>\n",
       "    <tr>\n",
       "      <td>7031</td>\n",
       "      <td>-0.990532</td>\n",
       "      <td>0.990532</td>\n",
       "      <td>-0.723740</td>\n",
       "      <td>1.129102</td>\n",
       "      <td>-0.525927</td>\n",
       "      <td>-1.105970</td>\n",
       "      <td>-0.514249</td>\n",
       "      <td>1.776278</td>\n",
       "      <td>1.887201</td>\n",
       "      <td>-0.525047</td>\n",
       "      <td>-0.711026</td>\n",
       "      <td>-0.544807</td>\n",
       "      <td>-0.439916</td>\n",
       "      <td>-0.966622</td>\n",
       "      <td>-0.654012</td>\n",
       "      <td>1.369379</td>\n",
       "      <td>0.327438</td>\n",
       "      <td>-0.854176</td>\n",
       "      <td>1.577454</td>\n",
       "      <td>-0.725563</td>\n",
       "      <td>1.381277</td>\n",
       "      <td>1.563872</td>\n",
       "      <td>1.265612</td>\n",
       "      <td>1.256171</td>\n",
       "      <td>0.829798</td>\n",
       "      <td>1.358961</td>\n",
       "      <td>2.012344</td>\n",
       "      <td>1</td>\n",
       "    </tr>\n",
       "  </tbody>\n",
       "</table>\n",
       "<p>7032 rows × 28 columns</p>\n",
       "</div>"
      ],
      "text/plain": [
       "        Female      Male       DSL  FiberOptic  NoIntServ  Month-to-month  \\\n",
       "0     1.009559 -1.009559  1.381712   -0.885660  -0.525927        0.904184   \n",
       "1    -0.990532  0.990532  1.381712   -0.885660  -0.525927       -1.105970   \n",
       "2    -0.990532  0.990532  1.381712   -0.885660  -0.525927        0.904184   \n",
       "3    -0.990532  0.990532  1.381712   -0.885660  -0.525927       -1.105970   \n",
       "4     1.009559 -1.009559 -0.723740    1.129102  -0.525927        0.904184   \n",
       "...        ...       ...       ...         ...        ...             ...   \n",
       "7027 -0.990532  0.990532  1.381712   -0.885660  -0.525927       -1.105970   \n",
       "7028  1.009559 -1.009559 -0.723740    1.129102  -0.525927       -1.105970   \n",
       "7029  1.009559 -1.009559  1.381712   -0.885660  -0.525927        0.904184   \n",
       "7030 -0.990532  0.990532 -0.723740    1.129102  -0.525927        0.904184   \n",
       "7031 -0.990532  0.990532 -0.723740    1.129102  -0.525927       -1.105970   \n",
       "\n",
       "      One year  Two year  Bank transfer (automatic)  Credit card (automatic)  \\\n",
       "0    -0.514249 -0.562975                  -0.529885                -0.525047   \n",
       "1     1.944582 -0.562975                  -0.529885                -0.525047   \n",
       "2    -0.514249 -0.562975                  -0.529885                -0.525047   \n",
       "3     1.944582 -0.562975                   1.887201                -0.525047   \n",
       "4    -0.514249 -0.562975                  -0.529885                -0.525047   \n",
       "...        ...       ...                        ...                      ...   \n",
       "7027  1.944582 -0.562975                  -0.529885                -0.525047   \n",
       "7028  1.944582 -0.562975                  -0.529885                 1.904590   \n",
       "7029 -0.514249 -0.562975                  -0.529885                -0.525047   \n",
       "7030 -0.514249 -0.562975                  -0.529885                -0.525047   \n",
       "7031 -0.514249  1.776278                   1.887201                -0.525047   \n",
       "\n",
       "      Electronic check  Mailed check  SeniorCitizen   Partner  Dependents  \\\n",
       "0             1.406418     -0.544807      -0.439916  1.034530   -0.654012   \n",
       "1            -0.711026      1.835513      -0.439916 -0.966622   -0.654012   \n",
       "2            -0.711026      1.835513      -0.439916 -0.966622   -0.654012   \n",
       "3            -0.711026     -0.544807      -0.439916 -0.966622   -0.654012   \n",
       "4             1.406418     -0.544807      -0.439916 -0.966622   -0.654012   \n",
       "...                ...           ...            ...       ...         ...   \n",
       "7027         -0.711026      1.835513      -0.439916  1.034530    1.529024   \n",
       "7028         -0.711026     -0.544807      -0.439916  1.034530    1.529024   \n",
       "7029          1.406418     -0.544807      -0.439916  1.034530    1.529024   \n",
       "7030         -0.711026      1.835513       2.273159  1.034530   -0.654012   \n",
       "7031         -0.711026     -0.544807      -0.439916 -0.966622   -0.654012   \n",
       "\n",
       "        tenure  PhoneService  MultipleLines  OnlineSecurity  OnlineBackup  \\\n",
       "0    -1.277445     -3.054010      -0.854176       -0.633933      1.378241   \n",
       "1     0.066327      0.327438      -0.854176        1.577454     -0.725563   \n",
       "2    -1.236724      0.327438      -0.854176        1.577454      1.378241   \n",
       "3     0.514251     -3.054010      -0.854176        1.577454     -0.725563   \n",
       "4    -1.236724      0.327438      -0.854176       -0.633933     -0.725563   \n",
       "...        ...           ...            ...             ...           ...   \n",
       "7027 -0.340876      0.327438       1.170719        1.577454     -0.725563   \n",
       "7028  1.613701      0.327438       1.170719       -0.633933      1.378241   \n",
       "7029 -0.870241     -3.054010      -0.854176        1.577454     -0.725563   \n",
       "7030 -1.155283      0.327438       1.170719       -0.633933     -0.725563   \n",
       "7031  1.369379      0.327438      -0.854176        1.577454     -0.725563   \n",
       "\n",
       "      DeviceProtection  TechSupport  StreamingTV  StreamingMovies  \\\n",
       "0            -0.723968    -0.639439    -0.790132        -0.796070   \n",
       "1             1.381277    -0.639439    -0.790132        -0.796070   \n",
       "2            -0.723968    -0.639439    -0.790132        -0.796070   \n",
       "3             1.381277     1.563872    -0.790132        -0.796070   \n",
       "4            -0.723968    -0.639439    -0.790132        -0.796070   \n",
       "...                ...          ...          ...              ...   \n",
       "7027          1.381277     1.563872     1.265612         1.256171   \n",
       "7028          1.381277    -0.639439     1.265612         1.256171   \n",
       "7029         -0.723968    -0.639439    -0.790132        -0.796070   \n",
       "7030         -0.723968    -0.639439    -0.790132        -0.796070   \n",
       "7031          1.381277     1.563872     1.265612         1.256171   \n",
       "\n",
       "      PaperlessBilling  MonthlyCharges  TotalCharges  Churn  \n",
       "0             0.829798       -1.160323     -0.994194      1  \n",
       "1            -1.205113       -0.259629     -0.173740      1  \n",
       "2             0.829798       -0.362660     -0.959649      1  \n",
       "3            -1.205113       -0.746535     -0.195248      1  \n",
       "4             0.829798        0.197365     -0.940457      1  \n",
       "...                ...             ...           ...    ...  \n",
       "7027          0.829798        0.665992     -0.129180      1  \n",
       "7028          0.829798        1.277533      2.241056      1  \n",
       "7029          0.829798       -1.168632     -0.854514      1  \n",
       "7030          0.829798        0.320338     -0.872095      1  \n",
       "7031          0.829798        1.358961      2.012344      1  \n",
       "\n",
       "[7032 rows x 28 columns]"
      ]
     },
     "execution_count": 12,
     "metadata": {},
     "output_type": "execute_result"
    }
   ],
   "source": [
    "df_copy = df.copy()\n",
    "new_int = []\n",
    "for i in df_copy['Churn']:\n",
    "    if i == 'No':\n",
    "        new_int.append(0)\n",
    "    else:\n",
    "        new_int.append(1)\n",
    "df_copy['Churn']=new_int\n",
    "df_copy.dropna(axis=0,inplace=True)\n",
    "df_copy"
   ]
  },
  {
   "cell_type": "code",
   "execution_count": 13,
   "metadata": {},
   "outputs": [
    {
     "data": {
      "text/html": [
       "<div>\n",
       "<style scoped>\n",
       "    .dataframe tbody tr th:only-of-type {\n",
       "        vertical-align: middle;\n",
       "    }\n",
       "\n",
       "    .dataframe tbody tr th {\n",
       "        vertical-align: top;\n",
       "    }\n",
       "\n",
       "    .dataframe thead th {\n",
       "        text-align: right;\n",
       "    }\n",
       "</style>\n",
       "<table border=\"1\" class=\"dataframe\">\n",
       "  <thead>\n",
       "    <tr style=\"text-align: right;\">\n",
       "      <th></th>\n",
       "      <th>Female</th>\n",
       "      <th>Male</th>\n",
       "      <th>DSL</th>\n",
       "      <th>FiberOptic</th>\n",
       "      <th>NoIntServ</th>\n",
       "      <th>Month-to-month</th>\n",
       "      <th>One year</th>\n",
       "      <th>Two year</th>\n",
       "      <th>Bank transfer (automatic)</th>\n",
       "      <th>Credit card (automatic)</th>\n",
       "      <th>Electronic check</th>\n",
       "      <th>Mailed check</th>\n",
       "      <th>SeniorCitizen</th>\n",
       "      <th>Partner</th>\n",
       "      <th>Dependents</th>\n",
       "      <th>tenure</th>\n",
       "      <th>PhoneService</th>\n",
       "      <th>MultipleLines</th>\n",
       "      <th>OnlineSecurity</th>\n",
       "      <th>OnlineBackup</th>\n",
       "      <th>DeviceProtection</th>\n",
       "      <th>TechSupport</th>\n",
       "      <th>StreamingTV</th>\n",
       "      <th>StreamingMovies</th>\n",
       "      <th>PaperlessBilling</th>\n",
       "      <th>MonthlyCharges</th>\n",
       "      <th>TotalCharges</th>\n",
       "      <th>Churn</th>\n",
       "    </tr>\n",
       "  </thead>\n",
       "  <tbody>\n",
       "    <tr>\n",
       "      <td>3939</td>\n",
       "      <td>1.009559</td>\n",
       "      <td>-1.009559</td>\n",
       "      <td>1.381712</td>\n",
       "      <td>-0.885660</td>\n",
       "      <td>-0.525927</td>\n",
       "      <td>0.904184</td>\n",
       "      <td>-0.514249</td>\n",
       "      <td>-0.562975</td>\n",
       "      <td>-0.529885</td>\n",
       "      <td>-0.525047</td>\n",
       "      <td>-0.711026</td>\n",
       "      <td>1.835513</td>\n",
       "      <td>-0.439916</td>\n",
       "      <td>-0.966622</td>\n",
       "      <td>-0.654012</td>\n",
       "      <td>-0.951682</td>\n",
       "      <td>-3.054010</td>\n",
       "      <td>-0.854176</td>\n",
       "      <td>1.577454</td>\n",
       "      <td>-0.725563</td>\n",
       "      <td>1.381277</td>\n",
       "      <td>1.563872</td>\n",
       "      <td>1.265612</td>\n",
       "      <td>1.256171</td>\n",
       "      <td>-1.205113</td>\n",
       "      <td>-0.208113</td>\n",
       "      <td>-0.769188</td>\n",
       "      <td>1</td>\n",
       "    </tr>\n",
       "    <tr>\n",
       "      <td>3388</td>\n",
       "      <td>-0.990532</td>\n",
       "      <td>0.990532</td>\n",
       "      <td>1.381712</td>\n",
       "      <td>-0.885660</td>\n",
       "      <td>-0.525927</td>\n",
       "      <td>-1.105970</td>\n",
       "      <td>1.944582</td>\n",
       "      <td>-0.562975</td>\n",
       "      <td>-0.529885</td>\n",
       "      <td>-0.525047</td>\n",
       "      <td>1.406418</td>\n",
       "      <td>-0.544807</td>\n",
       "      <td>-0.439916</td>\n",
       "      <td>-0.966622</td>\n",
       "      <td>-0.654012</td>\n",
       "      <td>-0.259435</td>\n",
       "      <td>0.327438</td>\n",
       "      <td>1.170719</td>\n",
       "      <td>1.577454</td>\n",
       "      <td>1.378241</td>\n",
       "      <td>-0.723968</td>\n",
       "      <td>-0.639439</td>\n",
       "      <td>-0.790132</td>\n",
       "      <td>-0.796070</td>\n",
       "      <td>-1.205113</td>\n",
       "      <td>-0.106744</td>\n",
       "      <td>-0.309427</td>\n",
       "      <td>0</td>\n",
       "    </tr>\n",
       "    <tr>\n",
       "      <td>1630</td>\n",
       "      <td>1.009559</td>\n",
       "      <td>-1.009559</td>\n",
       "      <td>1.381712</td>\n",
       "      <td>-0.885660</td>\n",
       "      <td>-0.525927</td>\n",
       "      <td>-1.105970</td>\n",
       "      <td>1.944582</td>\n",
       "      <td>-0.562975</td>\n",
       "      <td>-0.529885</td>\n",
       "      <td>-0.525047</td>\n",
       "      <td>1.406418</td>\n",
       "      <td>-0.544807</td>\n",
       "      <td>-0.439916</td>\n",
       "      <td>-0.966622</td>\n",
       "      <td>-0.654012</td>\n",
       "      <td>-1.196004</td>\n",
       "      <td>0.327438</td>\n",
       "      <td>-0.854176</td>\n",
       "      <td>-0.633933</td>\n",
       "      <td>-0.725563</td>\n",
       "      <td>1.381277</td>\n",
       "      <td>-0.639439</td>\n",
       "      <td>1.265612</td>\n",
       "      <td>1.256171</td>\n",
       "      <td>0.829798</td>\n",
       "      <td>0.172438</td>\n",
       "      <td>-0.910104</td>\n",
       "      <td>0</td>\n",
       "    </tr>\n",
       "    <tr>\n",
       "      <td>4081</td>\n",
       "      <td>-0.990532</td>\n",
       "      <td>0.990532</td>\n",
       "      <td>-0.723740</td>\n",
       "      <td>1.129102</td>\n",
       "      <td>-0.525927</td>\n",
       "      <td>0.904184</td>\n",
       "      <td>-0.514249</td>\n",
       "      <td>-0.562975</td>\n",
       "      <td>-0.529885</td>\n",
       "      <td>-0.525047</td>\n",
       "      <td>1.406418</td>\n",
       "      <td>-0.544807</td>\n",
       "      <td>-0.439916</td>\n",
       "      <td>-0.966622</td>\n",
       "      <td>-0.654012</td>\n",
       "      <td>-1.033122</td>\n",
       "      <td>0.327438</td>\n",
       "      <td>1.170719</td>\n",
       "      <td>-0.633933</td>\n",
       "      <td>-0.725563</td>\n",
       "      <td>-0.723968</td>\n",
       "      <td>-0.639439</td>\n",
       "      <td>-0.790132</td>\n",
       "      <td>-0.796070</td>\n",
       "      <td>-1.205113</td>\n",
       "      <td>0.293749</td>\n",
       "      <td>-0.777946</td>\n",
       "      <td>1</td>\n",
       "    </tr>\n",
       "    <tr>\n",
       "      <td>1881</td>\n",
       "      <td>-0.990532</td>\n",
       "      <td>0.990532</td>\n",
       "      <td>1.381712</td>\n",
       "      <td>-0.885660</td>\n",
       "      <td>-0.525927</td>\n",
       "      <td>-1.105970</td>\n",
       "      <td>-0.514249</td>\n",
       "      <td>1.776278</td>\n",
       "      <td>1.887201</td>\n",
       "      <td>-0.525047</td>\n",
       "      <td>-0.711026</td>\n",
       "      <td>-0.544807</td>\n",
       "      <td>-0.439916</td>\n",
       "      <td>1.034530</td>\n",
       "      <td>1.529024</td>\n",
       "      <td>1.410099</td>\n",
       "      <td>0.327438</td>\n",
       "      <td>-0.854176</td>\n",
       "      <td>1.577454</td>\n",
       "      <td>-0.725563</td>\n",
       "      <td>1.381277</td>\n",
       "      <td>1.563872</td>\n",
       "      <td>-0.790132</td>\n",
       "      <td>-0.796070</td>\n",
       "      <td>0.829798</td>\n",
       "      <td>-0.144965</td>\n",
       "      <td>0.736959</td>\n",
       "      <td>0</td>\n",
       "    </tr>\n",
       "    <tr>\n",
       "      <td>...</td>\n",
       "      <td>...</td>\n",
       "      <td>...</td>\n",
       "      <td>...</td>\n",
       "      <td>...</td>\n",
       "      <td>...</td>\n",
       "      <td>...</td>\n",
       "      <td>...</td>\n",
       "      <td>...</td>\n",
       "      <td>...</td>\n",
       "      <td>...</td>\n",
       "      <td>...</td>\n",
       "      <td>...</td>\n",
       "      <td>...</td>\n",
       "      <td>...</td>\n",
       "      <td>...</td>\n",
       "      <td>...</td>\n",
       "      <td>...</td>\n",
       "      <td>...</td>\n",
       "      <td>...</td>\n",
       "      <td>...</td>\n",
       "      <td>...</td>\n",
       "      <td>...</td>\n",
       "      <td>...</td>\n",
       "      <td>...</td>\n",
       "      <td>...</td>\n",
       "      <td>...</td>\n",
       "      <td>...</td>\n",
       "      <td>...</td>\n",
       "    </tr>\n",
       "    <tr>\n",
       "      <td>3772</td>\n",
       "      <td>-0.990532</td>\n",
       "      <td>0.990532</td>\n",
       "      <td>1.381712</td>\n",
       "      <td>-0.885660</td>\n",
       "      <td>-0.525927</td>\n",
       "      <td>0.904184</td>\n",
       "      <td>-0.514249</td>\n",
       "      <td>-0.562975</td>\n",
       "      <td>1.887201</td>\n",
       "      <td>-0.525047</td>\n",
       "      <td>-0.711026</td>\n",
       "      <td>-0.544807</td>\n",
       "      <td>-0.439916</td>\n",
       "      <td>-0.966622</td>\n",
       "      <td>-0.654012</td>\n",
       "      <td>-1.196004</td>\n",
       "      <td>0.327438</td>\n",
       "      <td>1.170719</td>\n",
       "      <td>-0.633933</td>\n",
       "      <td>-0.725563</td>\n",
       "      <td>-0.723968</td>\n",
       "      <td>-0.639439</td>\n",
       "      <td>-0.790132</td>\n",
       "      <td>-0.796070</td>\n",
       "      <td>-1.205113</td>\n",
       "      <td>-0.477324</td>\n",
       "      <td>-0.946811</td>\n",
       "      <td>0</td>\n",
       "    </tr>\n",
       "    <tr>\n",
       "      <td>5191</td>\n",
       "      <td>1.009559</td>\n",
       "      <td>-1.009559</td>\n",
       "      <td>-0.723740</td>\n",
       "      <td>1.129102</td>\n",
       "      <td>-0.525927</td>\n",
       "      <td>-1.105970</td>\n",
       "      <td>1.944582</td>\n",
       "      <td>-0.562975</td>\n",
       "      <td>-0.529885</td>\n",
       "      <td>-0.525047</td>\n",
       "      <td>1.406418</td>\n",
       "      <td>-0.544807</td>\n",
       "      <td>-0.439916</td>\n",
       "      <td>-0.966622</td>\n",
       "      <td>-0.654012</td>\n",
       "      <td>0.758574</td>\n",
       "      <td>0.327438</td>\n",
       "      <td>1.170719</td>\n",
       "      <td>-0.633933</td>\n",
       "      <td>1.378241</td>\n",
       "      <td>1.381277</td>\n",
       "      <td>1.563872</td>\n",
       "      <td>1.265612</td>\n",
       "      <td>1.256171</td>\n",
       "      <td>0.829798</td>\n",
       "      <td>1.553392</td>\n",
       "      <td>1.508839</td>\n",
       "      <td>0</td>\n",
       "    </tr>\n",
       "    <tr>\n",
       "      <td>5226</td>\n",
       "      <td>-0.990532</td>\n",
       "      <td>0.990532</td>\n",
       "      <td>-0.723740</td>\n",
       "      <td>1.129102</td>\n",
       "      <td>-0.525927</td>\n",
       "      <td>0.904184</td>\n",
       "      <td>-0.514249</td>\n",
       "      <td>-0.562975</td>\n",
       "      <td>-0.529885</td>\n",
       "      <td>-0.525047</td>\n",
       "      <td>1.406418</td>\n",
       "      <td>-0.544807</td>\n",
       "      <td>-0.439916</td>\n",
       "      <td>-0.966622</td>\n",
       "      <td>-0.654012</td>\n",
       "      <td>-0.951682</td>\n",
       "      <td>0.327438</td>\n",
       "      <td>1.170719</td>\n",
       "      <td>1.577454</td>\n",
       "      <td>-0.725563</td>\n",
       "      <td>-0.723968</td>\n",
       "      <td>-0.639439</td>\n",
       "      <td>-0.790132</td>\n",
       "      <td>-0.796070</td>\n",
       "      <td>0.829798</td>\n",
       "      <td>0.544681</td>\n",
       "      <td>-0.661274</td>\n",
       "      <td>0</td>\n",
       "    </tr>\n",
       "    <tr>\n",
       "      <td>5390</td>\n",
       "      <td>1.009559</td>\n",
       "      <td>-1.009559</td>\n",
       "      <td>-0.723740</td>\n",
       "      <td>-0.885660</td>\n",
       "      <td>1.901403</td>\n",
       "      <td>-1.105970</td>\n",
       "      <td>1.944582</td>\n",
       "      <td>-0.562975</td>\n",
       "      <td>1.887201</td>\n",
       "      <td>-0.525047</td>\n",
       "      <td>-0.711026</td>\n",
       "      <td>-0.544807</td>\n",
       "      <td>-0.439916</td>\n",
       "      <td>-0.966622</td>\n",
       "      <td>-0.654012</td>\n",
       "      <td>0.717853</td>\n",
       "      <td>0.327438</td>\n",
       "      <td>-0.854176</td>\n",
       "      <td>-0.633933</td>\n",
       "      <td>-0.725563</td>\n",
       "      <td>-0.723968</td>\n",
       "      <td>-0.639439</td>\n",
       "      <td>-0.790132</td>\n",
       "      <td>-0.796070</td>\n",
       "      <td>-1.205113</td>\n",
       "      <td>-1.496006</td>\n",
       "      <td>-0.571007</td>\n",
       "      <td>0</td>\n",
       "    </tr>\n",
       "    <tr>\n",
       "      <td>860</td>\n",
       "      <td>-0.990532</td>\n",
       "      <td>0.990532</td>\n",
       "      <td>-0.723740</td>\n",
       "      <td>1.129102</td>\n",
       "      <td>-0.525927</td>\n",
       "      <td>0.904184</td>\n",
       "      <td>-0.514249</td>\n",
       "      <td>-0.562975</td>\n",
       "      <td>-0.529885</td>\n",
       "      <td>-0.525047</td>\n",
       "      <td>1.406418</td>\n",
       "      <td>-0.544807</td>\n",
       "      <td>2.273159</td>\n",
       "      <td>1.034530</td>\n",
       "      <td>-0.654012</td>\n",
       "      <td>-0.503758</td>\n",
       "      <td>0.327438</td>\n",
       "      <td>-0.854176</td>\n",
       "      <td>-0.633933</td>\n",
       "      <td>1.378241</td>\n",
       "      <td>-0.723968</td>\n",
       "      <td>-0.639439</td>\n",
       "      <td>-0.790132</td>\n",
       "      <td>-0.796070</td>\n",
       "      <td>0.829798</td>\n",
       "      <td>0.295411</td>\n",
       "      <td>-0.361686</td>\n",
       "      <td>1</td>\n",
       "    </tr>\n",
       "  </tbody>\n",
       "</table>\n",
       "<p>4922 rows × 28 columns</p>\n",
       "</div>"
      ],
      "text/plain": [
       "        Female      Male       DSL  FiberOptic  NoIntServ  Month-to-month  \\\n",
       "3939  1.009559 -1.009559  1.381712   -0.885660  -0.525927        0.904184   \n",
       "3388 -0.990532  0.990532  1.381712   -0.885660  -0.525927       -1.105970   \n",
       "1630  1.009559 -1.009559  1.381712   -0.885660  -0.525927       -1.105970   \n",
       "4081 -0.990532  0.990532 -0.723740    1.129102  -0.525927        0.904184   \n",
       "1881 -0.990532  0.990532  1.381712   -0.885660  -0.525927       -1.105970   \n",
       "...        ...       ...       ...         ...        ...             ...   \n",
       "3772 -0.990532  0.990532  1.381712   -0.885660  -0.525927        0.904184   \n",
       "5191  1.009559 -1.009559 -0.723740    1.129102  -0.525927       -1.105970   \n",
       "5226 -0.990532  0.990532 -0.723740    1.129102  -0.525927        0.904184   \n",
       "5390  1.009559 -1.009559 -0.723740   -0.885660   1.901403       -1.105970   \n",
       "860  -0.990532  0.990532 -0.723740    1.129102  -0.525927        0.904184   \n",
       "\n",
       "      One year  Two year  Bank transfer (automatic)  Credit card (automatic)  \\\n",
       "3939 -0.514249 -0.562975                  -0.529885                -0.525047   \n",
       "3388  1.944582 -0.562975                  -0.529885                -0.525047   \n",
       "1630  1.944582 -0.562975                  -0.529885                -0.525047   \n",
       "4081 -0.514249 -0.562975                  -0.529885                -0.525047   \n",
       "1881 -0.514249  1.776278                   1.887201                -0.525047   \n",
       "...        ...       ...                        ...                      ...   \n",
       "3772 -0.514249 -0.562975                   1.887201                -0.525047   \n",
       "5191  1.944582 -0.562975                  -0.529885                -0.525047   \n",
       "5226 -0.514249 -0.562975                  -0.529885                -0.525047   \n",
       "5390  1.944582 -0.562975                   1.887201                -0.525047   \n",
       "860  -0.514249 -0.562975                  -0.529885                -0.525047   \n",
       "\n",
       "      Electronic check  Mailed check  SeniorCitizen   Partner  Dependents  \\\n",
       "3939         -0.711026      1.835513      -0.439916 -0.966622   -0.654012   \n",
       "3388          1.406418     -0.544807      -0.439916 -0.966622   -0.654012   \n",
       "1630          1.406418     -0.544807      -0.439916 -0.966622   -0.654012   \n",
       "4081          1.406418     -0.544807      -0.439916 -0.966622   -0.654012   \n",
       "1881         -0.711026     -0.544807      -0.439916  1.034530    1.529024   \n",
       "...                ...           ...            ...       ...         ...   \n",
       "3772         -0.711026     -0.544807      -0.439916 -0.966622   -0.654012   \n",
       "5191          1.406418     -0.544807      -0.439916 -0.966622   -0.654012   \n",
       "5226          1.406418     -0.544807      -0.439916 -0.966622   -0.654012   \n",
       "5390         -0.711026     -0.544807      -0.439916 -0.966622   -0.654012   \n",
       "860           1.406418     -0.544807       2.273159  1.034530   -0.654012   \n",
       "\n",
       "        tenure  PhoneService  MultipleLines  OnlineSecurity  OnlineBackup  \\\n",
       "3939 -0.951682     -3.054010      -0.854176        1.577454     -0.725563   \n",
       "3388 -0.259435      0.327438       1.170719        1.577454      1.378241   \n",
       "1630 -1.196004      0.327438      -0.854176       -0.633933     -0.725563   \n",
       "4081 -1.033122      0.327438       1.170719       -0.633933     -0.725563   \n",
       "1881  1.410099      0.327438      -0.854176        1.577454     -0.725563   \n",
       "...        ...           ...            ...             ...           ...   \n",
       "3772 -1.196004      0.327438       1.170719       -0.633933     -0.725563   \n",
       "5191  0.758574      0.327438       1.170719       -0.633933      1.378241   \n",
       "5226 -0.951682      0.327438       1.170719        1.577454     -0.725563   \n",
       "5390  0.717853      0.327438      -0.854176       -0.633933     -0.725563   \n",
       "860  -0.503758      0.327438      -0.854176       -0.633933      1.378241   \n",
       "\n",
       "      DeviceProtection  TechSupport  StreamingTV  StreamingMovies  \\\n",
       "3939          1.381277     1.563872     1.265612         1.256171   \n",
       "3388         -0.723968    -0.639439    -0.790132        -0.796070   \n",
       "1630          1.381277    -0.639439     1.265612         1.256171   \n",
       "4081         -0.723968    -0.639439    -0.790132        -0.796070   \n",
       "1881          1.381277     1.563872    -0.790132        -0.796070   \n",
       "...                ...          ...          ...              ...   \n",
       "3772         -0.723968    -0.639439    -0.790132        -0.796070   \n",
       "5191          1.381277     1.563872     1.265612         1.256171   \n",
       "5226         -0.723968    -0.639439    -0.790132        -0.796070   \n",
       "5390         -0.723968    -0.639439    -0.790132        -0.796070   \n",
       "860          -0.723968    -0.639439    -0.790132        -0.796070   \n",
       "\n",
       "      PaperlessBilling  MonthlyCharges  TotalCharges  Churn  \n",
       "3939         -1.205113       -0.208113     -0.769188      1  \n",
       "3388         -1.205113       -0.106744     -0.309427      0  \n",
       "1630          0.829798        0.172438     -0.910104      0  \n",
       "4081         -1.205113        0.293749     -0.777946      1  \n",
       "1881          0.829798       -0.144965      0.736959      0  \n",
       "...                ...             ...           ...    ...  \n",
       "3772         -1.205113       -0.477324     -0.946811      0  \n",
       "5191          0.829798        1.553392      1.508839      0  \n",
       "5226          0.829798        0.544681     -0.661274      0  \n",
       "5390         -1.205113       -1.496006     -0.571007      0  \n",
       "860           0.829798        0.295411     -0.361686      1  \n",
       "\n",
       "[4922 rows x 28 columns]"
      ]
     },
     "execution_count": 13,
     "metadata": {},
     "output_type": "execute_result"
    }
   ],
   "source": [
    "df_train = pd.concat([X_train,y_train],axis=1)\n",
    "df_train"
   ]
  },
  {
   "cell_type": "code",
   "execution_count": 14,
   "metadata": {},
   "outputs": [],
   "source": [
    "retain= df_train[df_train['Churn']==1]\n",
    "exit=df_train[df_train['Churn']==0]"
   ]
  },
  {
   "cell_type": "code",
   "execution_count": 15,
   "metadata": {},
   "outputs": [
    {
     "data": {
      "text/plain": [
       "array([1308], dtype=int64)"
      ]
     },
     "execution_count": 15,
     "metadata": {},
     "output_type": "execute_result"
    }
   ],
   "source": [
    "retain['Churn'].value_counts().unique()"
   ]
  },
  {
   "cell_type": "code",
   "execution_count": 16,
   "metadata": {},
   "outputs": [
    {
     "data": {
      "text/plain": [
       "array([3614], dtype=int64)"
      ]
     },
     "execution_count": 16,
     "metadata": {},
     "output_type": "execute_result"
    }
   ],
   "source": [
    "exit['Churn'].value_counts().unique()"
   ]
  },
  {
   "cell_type": "code",
   "execution_count": 17,
   "metadata": {},
   "outputs": [],
   "source": [
    "retain_sample = resample(retain,replace=True,n_samples=len(exit),random_state=42)"
   ]
  },
  {
   "cell_type": "code",
   "execution_count": 18,
   "metadata": {},
   "outputs": [
    {
     "data": {
      "text/html": [
       "<div>\n",
       "<style scoped>\n",
       "    .dataframe tbody tr th:only-of-type {\n",
       "        vertical-align: middle;\n",
       "    }\n",
       "\n",
       "    .dataframe tbody tr th {\n",
       "        vertical-align: top;\n",
       "    }\n",
       "\n",
       "    .dataframe thead th {\n",
       "        text-align: right;\n",
       "    }\n",
       "</style>\n",
       "<table border=\"1\" class=\"dataframe\">\n",
       "  <thead>\n",
       "    <tr style=\"text-align: right;\">\n",
       "      <th></th>\n",
       "      <th>Female</th>\n",
       "      <th>Male</th>\n",
       "      <th>DSL</th>\n",
       "      <th>FiberOptic</th>\n",
       "      <th>NoIntServ</th>\n",
       "      <th>Month-to-month</th>\n",
       "      <th>One year</th>\n",
       "      <th>Two year</th>\n",
       "      <th>Bank transfer (automatic)</th>\n",
       "      <th>Credit card (automatic)</th>\n",
       "      <th>Electronic check</th>\n",
       "      <th>Mailed check</th>\n",
       "      <th>SeniorCitizen</th>\n",
       "      <th>Partner</th>\n",
       "      <th>Dependents</th>\n",
       "      <th>tenure</th>\n",
       "      <th>PhoneService</th>\n",
       "      <th>MultipleLines</th>\n",
       "      <th>OnlineSecurity</th>\n",
       "      <th>OnlineBackup</th>\n",
       "      <th>DeviceProtection</th>\n",
       "      <th>TechSupport</th>\n",
       "      <th>StreamingTV</th>\n",
       "      <th>StreamingMovies</th>\n",
       "      <th>PaperlessBilling</th>\n",
       "      <th>MonthlyCharges</th>\n",
       "      <th>TotalCharges</th>\n",
       "      <th>Churn</th>\n",
       "    </tr>\n",
       "  </thead>\n",
       "  <tbody>\n",
       "    <tr>\n",
       "      <td>3719</td>\n",
       "      <td>1.009559</td>\n",
       "      <td>-1.009559</td>\n",
       "      <td>-0.723740</td>\n",
       "      <td>1.129102</td>\n",
       "      <td>-0.525927</td>\n",
       "      <td>0.904184</td>\n",
       "      <td>-0.514249</td>\n",
       "      <td>-0.562975</td>\n",
       "      <td>-0.529885</td>\n",
       "      <td>-0.525047</td>\n",
       "      <td>-0.711026</td>\n",
       "      <td>1.835513</td>\n",
       "      <td>-0.439916</td>\n",
       "      <td>-0.966622</td>\n",
       "      <td>-0.654012</td>\n",
       "      <td>-1.277445</td>\n",
       "      <td>0.327438</td>\n",
       "      <td>-0.854176</td>\n",
       "      <td>-0.633933</td>\n",
       "      <td>-0.725563</td>\n",
       "      <td>-0.723968</td>\n",
       "      <td>-0.639439</td>\n",
       "      <td>-0.790132</td>\n",
       "      <td>-0.796070</td>\n",
       "      <td>0.829798</td>\n",
       "      <td>0.200689</td>\n",
       "      <td>-0.976127</td>\n",
       "      <td>1</td>\n",
       "    </tr>\n",
       "    <tr>\n",
       "      <td>3760</td>\n",
       "      <td>1.009559</td>\n",
       "      <td>-1.009559</td>\n",
       "      <td>1.381712</td>\n",
       "      <td>-0.885660</td>\n",
       "      <td>-0.525927</td>\n",
       "      <td>0.904184</td>\n",
       "      <td>-0.514249</td>\n",
       "      <td>-0.562975</td>\n",
       "      <td>-0.529885</td>\n",
       "      <td>-0.525047</td>\n",
       "      <td>1.406418</td>\n",
       "      <td>-0.544807</td>\n",
       "      <td>2.273159</td>\n",
       "      <td>-0.966622</td>\n",
       "      <td>-0.654012</td>\n",
       "      <td>-1.277445</td>\n",
       "      <td>0.327438</td>\n",
       "      <td>-0.854176</td>\n",
       "      <td>1.577454</td>\n",
       "      <td>-0.725563</td>\n",
       "      <td>1.381277</td>\n",
       "      <td>-0.639439</td>\n",
       "      <td>-0.790132</td>\n",
       "      <td>-0.796070</td>\n",
       "      <td>0.829798</td>\n",
       "      <td>-0.297850</td>\n",
       "      <td>-0.982745</td>\n",
       "      <td>1</td>\n",
       "    </tr>\n",
       "    <tr>\n",
       "      <td>1899</td>\n",
       "      <td>-0.990532</td>\n",
       "      <td>0.990532</td>\n",
       "      <td>-0.723740</td>\n",
       "      <td>1.129102</td>\n",
       "      <td>-0.525927</td>\n",
       "      <td>0.904184</td>\n",
       "      <td>-0.514249</td>\n",
       "      <td>-0.562975</td>\n",
       "      <td>-0.529885</td>\n",
       "      <td>-0.525047</td>\n",
       "      <td>1.406418</td>\n",
       "      <td>-0.544807</td>\n",
       "      <td>-0.439916</td>\n",
       "      <td>-0.966622</td>\n",
       "      <td>-0.654012</td>\n",
       "      <td>0.962175</td>\n",
       "      <td>0.327438</td>\n",
       "      <td>1.170719</td>\n",
       "      <td>-0.633933</td>\n",
       "      <td>1.378241</td>\n",
       "      <td>-0.723968</td>\n",
       "      <td>1.563872</td>\n",
       "      <td>-0.790132</td>\n",
       "      <td>1.256171</td>\n",
       "      <td>0.829798</td>\n",
       "      <td>0.986719</td>\n",
       "      <td>1.253546</td>\n",
       "      <td>1</td>\n",
       "    </tr>\n",
       "    <tr>\n",
       "      <td>1542</td>\n",
       "      <td>1.009559</td>\n",
       "      <td>-1.009559</td>\n",
       "      <td>-0.723740</td>\n",
       "      <td>1.129102</td>\n",
       "      <td>-0.525927</td>\n",
       "      <td>-1.105970</td>\n",
       "      <td>1.944582</td>\n",
       "      <td>-0.562975</td>\n",
       "      <td>-0.529885</td>\n",
       "      <td>-0.525047</td>\n",
       "      <td>1.406418</td>\n",
       "      <td>-0.544807</td>\n",
       "      <td>-0.439916</td>\n",
       "      <td>1.034530</td>\n",
       "      <td>-0.654012</td>\n",
       "      <td>1.247218</td>\n",
       "      <td>0.327438</td>\n",
       "      <td>1.170719</td>\n",
       "      <td>-0.633933</td>\n",
       "      <td>1.378241</td>\n",
       "      <td>1.381277</td>\n",
       "      <td>-0.639439</td>\n",
       "      <td>1.265612</td>\n",
       "      <td>1.256171</td>\n",
       "      <td>0.829798</td>\n",
       "      <td>1.420448</td>\n",
       "      <td>2.025249</td>\n",
       "      <td>1</td>\n",
       "    </tr>\n",
       "    <tr>\n",
       "      <td>5713</td>\n",
       "      <td>1.009559</td>\n",
       "      <td>-1.009559</td>\n",
       "      <td>-0.723740</td>\n",
       "      <td>1.129102</td>\n",
       "      <td>-0.525927</td>\n",
       "      <td>0.904184</td>\n",
       "      <td>-0.514249</td>\n",
       "      <td>-0.562975</td>\n",
       "      <td>1.887201</td>\n",
       "      <td>-0.525047</td>\n",
       "      <td>-0.711026</td>\n",
       "      <td>-0.544807</td>\n",
       "      <td>2.273159</td>\n",
       "      <td>1.034530</td>\n",
       "      <td>-0.654012</td>\n",
       "      <td>-0.218715</td>\n",
       "      <td>0.327438</td>\n",
       "      <td>1.170719</td>\n",
       "      <td>1.577454</td>\n",
       "      <td>-0.725563</td>\n",
       "      <td>-0.723968</td>\n",
       "      <td>1.563872</td>\n",
       "      <td>1.265612</td>\n",
       "      <td>1.256171</td>\n",
       "      <td>0.829798</td>\n",
       "      <td>1.314093</td>\n",
       "      <td>0.257852</td>\n",
       "      <td>1</td>\n",
       "    </tr>\n",
       "    <tr>\n",
       "      <td>...</td>\n",
       "      <td>...</td>\n",
       "      <td>...</td>\n",
       "      <td>...</td>\n",
       "      <td>...</td>\n",
       "      <td>...</td>\n",
       "      <td>...</td>\n",
       "      <td>...</td>\n",
       "      <td>...</td>\n",
       "      <td>...</td>\n",
       "      <td>...</td>\n",
       "      <td>...</td>\n",
       "      <td>...</td>\n",
       "      <td>...</td>\n",
       "      <td>...</td>\n",
       "      <td>...</td>\n",
       "      <td>...</td>\n",
       "      <td>...</td>\n",
       "      <td>...</td>\n",
       "      <td>...</td>\n",
       "      <td>...</td>\n",
       "      <td>...</td>\n",
       "      <td>...</td>\n",
       "      <td>...</td>\n",
       "      <td>...</td>\n",
       "      <td>...</td>\n",
       "      <td>...</td>\n",
       "      <td>...</td>\n",
       "      <td>...</td>\n",
       "    </tr>\n",
       "    <tr>\n",
       "      <td>2824</td>\n",
       "      <td>-0.990532</td>\n",
       "      <td>0.990532</td>\n",
       "      <td>-0.723740</td>\n",
       "      <td>1.129102</td>\n",
       "      <td>-0.525927</td>\n",
       "      <td>0.904184</td>\n",
       "      <td>-0.514249</td>\n",
       "      <td>-0.562975</td>\n",
       "      <td>-0.529885</td>\n",
       "      <td>-0.525047</td>\n",
       "      <td>1.406418</td>\n",
       "      <td>-0.544807</td>\n",
       "      <td>2.273159</td>\n",
       "      <td>-0.966622</td>\n",
       "      <td>-0.654012</td>\n",
       "      <td>-0.992402</td>\n",
       "      <td>0.327438</td>\n",
       "      <td>-0.854176</td>\n",
       "      <td>-0.633933</td>\n",
       "      <td>-0.725563</td>\n",
       "      <td>-0.723968</td>\n",
       "      <td>-0.639439</td>\n",
       "      <td>-0.790132</td>\n",
       "      <td>-0.796070</td>\n",
       "      <td>0.829798</td>\n",
       "      <td>0.164129</td>\n",
       "      <td>-0.759924</td>\n",
       "      <td>1</td>\n",
       "    </tr>\n",
       "    <tr>\n",
       "      <td>4947</td>\n",
       "      <td>-0.990532</td>\n",
       "      <td>0.990532</td>\n",
       "      <td>-0.723740</td>\n",
       "      <td>1.129102</td>\n",
       "      <td>-0.525927</td>\n",
       "      <td>0.904184</td>\n",
       "      <td>-0.514249</td>\n",
       "      <td>-0.562975</td>\n",
       "      <td>-0.529885</td>\n",
       "      <td>-0.525047</td>\n",
       "      <td>-0.711026</td>\n",
       "      <td>1.835513</td>\n",
       "      <td>-0.439916</td>\n",
       "      <td>-0.966622</td>\n",
       "      <td>-0.654012</td>\n",
       "      <td>-1.277445</td>\n",
       "      <td>0.327438</td>\n",
       "      <td>-0.854176</td>\n",
       "      <td>-0.633933</td>\n",
       "      <td>-0.725563</td>\n",
       "      <td>-0.723968</td>\n",
       "      <td>-0.639439</td>\n",
       "      <td>-0.790132</td>\n",
       "      <td>-0.796070</td>\n",
       "      <td>-1.205113</td>\n",
       "      <td>0.154159</td>\n",
       "      <td>-0.976745</td>\n",
       "      <td>1</td>\n",
       "    </tr>\n",
       "    <tr>\n",
       "      <td>1331</td>\n",
       "      <td>-0.990532</td>\n",
       "      <td>0.990532</td>\n",
       "      <td>1.381712</td>\n",
       "      <td>-0.885660</td>\n",
       "      <td>-0.525927</td>\n",
       "      <td>0.904184</td>\n",
       "      <td>-0.514249</td>\n",
       "      <td>-0.562975</td>\n",
       "      <td>-0.529885</td>\n",
       "      <td>-0.525047</td>\n",
       "      <td>-0.711026</td>\n",
       "      <td>1.835513</td>\n",
       "      <td>-0.439916</td>\n",
       "      <td>-0.966622</td>\n",
       "      <td>-0.654012</td>\n",
       "      <td>-1.236724</td>\n",
       "      <td>0.327438</td>\n",
       "      <td>-0.854176</td>\n",
       "      <td>-0.633933</td>\n",
       "      <td>-0.725563</td>\n",
       "      <td>-0.723968</td>\n",
       "      <td>-0.639439</td>\n",
       "      <td>-0.790132</td>\n",
       "      <td>-0.796070</td>\n",
       "      <td>0.829798</td>\n",
       "      <td>-0.656798</td>\n",
       "      <td>-0.964811</td>\n",
       "      <td>1</td>\n",
       "    </tr>\n",
       "    <tr>\n",
       "      <td>134</td>\n",
       "      <td>-0.990532</td>\n",
       "      <td>0.990532</td>\n",
       "      <td>1.381712</td>\n",
       "      <td>-0.885660</td>\n",
       "      <td>-0.525927</td>\n",
       "      <td>0.904184</td>\n",
       "      <td>-0.514249</td>\n",
       "      <td>-0.562975</td>\n",
       "      <td>-0.529885</td>\n",
       "      <td>-0.525047</td>\n",
       "      <td>1.406418</td>\n",
       "      <td>-0.544807</td>\n",
       "      <td>-0.439916</td>\n",
       "      <td>-0.966622</td>\n",
       "      <td>-0.654012</td>\n",
       "      <td>-1.236724</td>\n",
       "      <td>0.327438</td>\n",
       "      <td>-0.854176</td>\n",
       "      <td>-0.633933</td>\n",
       "      <td>-0.725563</td>\n",
       "      <td>-0.723968</td>\n",
       "      <td>-0.639439</td>\n",
       "      <td>-0.790132</td>\n",
       "      <td>-0.796070</td>\n",
       "      <td>-1.205113</td>\n",
       "      <td>-0.678402</td>\n",
       "      <td>-0.971517</td>\n",
       "      <td>1</td>\n",
       "    </tr>\n",
       "    <tr>\n",
       "      <td>2255</td>\n",
       "      <td>1.009559</td>\n",
       "      <td>-1.009559</td>\n",
       "      <td>-0.723740</td>\n",
       "      <td>1.129102</td>\n",
       "      <td>-0.525927</td>\n",
       "      <td>0.904184</td>\n",
       "      <td>-0.514249</td>\n",
       "      <td>-0.562975</td>\n",
       "      <td>-0.529885</td>\n",
       "      <td>1.904590</td>\n",
       "      <td>-0.711026</td>\n",
       "      <td>-0.544807</td>\n",
       "      <td>-0.439916</td>\n",
       "      <td>-0.966622</td>\n",
       "      <td>-0.654012</td>\n",
       "      <td>-1.196004</td>\n",
       "      <td>0.327438</td>\n",
       "      <td>-0.854176</td>\n",
       "      <td>-0.633933</td>\n",
       "      <td>-0.725563</td>\n",
       "      <td>1.381277</td>\n",
       "      <td>1.563872</td>\n",
       "      <td>-0.790132</td>\n",
       "      <td>-0.796070</td>\n",
       "      <td>-1.205113</td>\n",
       "      <td>0.509783</td>\n",
       "      <td>-0.911383</td>\n",
       "      <td>1</td>\n",
       "    </tr>\n",
       "  </tbody>\n",
       "</table>\n",
       "<p>3614 rows × 28 columns</p>\n",
       "</div>"
      ],
      "text/plain": [
       "        Female      Male       DSL  FiberOptic  NoIntServ  Month-to-month  \\\n",
       "3719  1.009559 -1.009559 -0.723740    1.129102  -0.525927        0.904184   \n",
       "3760  1.009559 -1.009559  1.381712   -0.885660  -0.525927        0.904184   \n",
       "1899 -0.990532  0.990532 -0.723740    1.129102  -0.525927        0.904184   \n",
       "1542  1.009559 -1.009559 -0.723740    1.129102  -0.525927       -1.105970   \n",
       "5713  1.009559 -1.009559 -0.723740    1.129102  -0.525927        0.904184   \n",
       "...        ...       ...       ...         ...        ...             ...   \n",
       "2824 -0.990532  0.990532 -0.723740    1.129102  -0.525927        0.904184   \n",
       "4947 -0.990532  0.990532 -0.723740    1.129102  -0.525927        0.904184   \n",
       "1331 -0.990532  0.990532  1.381712   -0.885660  -0.525927        0.904184   \n",
       "134  -0.990532  0.990532  1.381712   -0.885660  -0.525927        0.904184   \n",
       "2255  1.009559 -1.009559 -0.723740    1.129102  -0.525927        0.904184   \n",
       "\n",
       "      One year  Two year  Bank transfer (automatic)  Credit card (automatic)  \\\n",
       "3719 -0.514249 -0.562975                  -0.529885                -0.525047   \n",
       "3760 -0.514249 -0.562975                  -0.529885                -0.525047   \n",
       "1899 -0.514249 -0.562975                  -0.529885                -0.525047   \n",
       "1542  1.944582 -0.562975                  -0.529885                -0.525047   \n",
       "5713 -0.514249 -0.562975                   1.887201                -0.525047   \n",
       "...        ...       ...                        ...                      ...   \n",
       "2824 -0.514249 -0.562975                  -0.529885                -0.525047   \n",
       "4947 -0.514249 -0.562975                  -0.529885                -0.525047   \n",
       "1331 -0.514249 -0.562975                  -0.529885                -0.525047   \n",
       "134  -0.514249 -0.562975                  -0.529885                -0.525047   \n",
       "2255 -0.514249 -0.562975                  -0.529885                 1.904590   \n",
       "\n",
       "      Electronic check  Mailed check  SeniorCitizen   Partner  Dependents  \\\n",
       "3719         -0.711026      1.835513      -0.439916 -0.966622   -0.654012   \n",
       "3760          1.406418     -0.544807       2.273159 -0.966622   -0.654012   \n",
       "1899          1.406418     -0.544807      -0.439916 -0.966622   -0.654012   \n",
       "1542          1.406418     -0.544807      -0.439916  1.034530   -0.654012   \n",
       "5713         -0.711026     -0.544807       2.273159  1.034530   -0.654012   \n",
       "...                ...           ...            ...       ...         ...   \n",
       "2824          1.406418     -0.544807       2.273159 -0.966622   -0.654012   \n",
       "4947         -0.711026      1.835513      -0.439916 -0.966622   -0.654012   \n",
       "1331         -0.711026      1.835513      -0.439916 -0.966622   -0.654012   \n",
       "134           1.406418     -0.544807      -0.439916 -0.966622   -0.654012   \n",
       "2255         -0.711026     -0.544807      -0.439916 -0.966622   -0.654012   \n",
       "\n",
       "        tenure  PhoneService  MultipleLines  OnlineSecurity  OnlineBackup  \\\n",
       "3719 -1.277445      0.327438      -0.854176       -0.633933     -0.725563   \n",
       "3760 -1.277445      0.327438      -0.854176        1.577454     -0.725563   \n",
       "1899  0.962175      0.327438       1.170719       -0.633933      1.378241   \n",
       "1542  1.247218      0.327438       1.170719       -0.633933      1.378241   \n",
       "5713 -0.218715      0.327438       1.170719        1.577454     -0.725563   \n",
       "...        ...           ...            ...             ...           ...   \n",
       "2824 -0.992402      0.327438      -0.854176       -0.633933     -0.725563   \n",
       "4947 -1.277445      0.327438      -0.854176       -0.633933     -0.725563   \n",
       "1331 -1.236724      0.327438      -0.854176       -0.633933     -0.725563   \n",
       "134  -1.236724      0.327438      -0.854176       -0.633933     -0.725563   \n",
       "2255 -1.196004      0.327438      -0.854176       -0.633933     -0.725563   \n",
       "\n",
       "      DeviceProtection  TechSupport  StreamingTV  StreamingMovies  \\\n",
       "3719         -0.723968    -0.639439    -0.790132        -0.796070   \n",
       "3760          1.381277    -0.639439    -0.790132        -0.796070   \n",
       "1899         -0.723968     1.563872    -0.790132         1.256171   \n",
       "1542          1.381277    -0.639439     1.265612         1.256171   \n",
       "5713         -0.723968     1.563872     1.265612         1.256171   \n",
       "...                ...          ...          ...              ...   \n",
       "2824         -0.723968    -0.639439    -0.790132        -0.796070   \n",
       "4947         -0.723968    -0.639439    -0.790132        -0.796070   \n",
       "1331         -0.723968    -0.639439    -0.790132        -0.796070   \n",
       "134          -0.723968    -0.639439    -0.790132        -0.796070   \n",
       "2255          1.381277     1.563872    -0.790132        -0.796070   \n",
       "\n",
       "      PaperlessBilling  MonthlyCharges  TotalCharges  Churn  \n",
       "3719          0.829798        0.200689     -0.976127      1  \n",
       "3760          0.829798       -0.297850     -0.982745      1  \n",
       "1899          0.829798        0.986719      1.253546      1  \n",
       "1542          0.829798        1.420448      2.025249      1  \n",
       "5713          0.829798        1.314093      0.257852      1  \n",
       "...                ...             ...           ...    ...  \n",
       "2824          0.829798        0.164129     -0.759924      1  \n",
       "4947         -1.205113        0.154159     -0.976745      1  \n",
       "1331          0.829798       -0.656798     -0.964811      1  \n",
       "134          -1.205113       -0.678402     -0.971517      1  \n",
       "2255         -1.205113        0.509783     -0.911383      1  \n",
       "\n",
       "[3614 rows x 28 columns]"
      ]
     },
     "execution_count": 18,
     "metadata": {},
     "output_type": "execute_result"
    }
   ],
   "source": [
    "retain_sample"
   ]
  },
  {
   "cell_type": "code",
   "execution_count": 19,
   "metadata": {},
   "outputs": [
    {
     "data": {
      "text/html": [
       "<div>\n",
       "<style scoped>\n",
       "    .dataframe tbody tr th:only-of-type {\n",
       "        vertical-align: middle;\n",
       "    }\n",
       "\n",
       "    .dataframe tbody tr th {\n",
       "        vertical-align: top;\n",
       "    }\n",
       "\n",
       "    .dataframe thead th {\n",
       "        text-align: right;\n",
       "    }\n",
       "</style>\n",
       "<table border=\"1\" class=\"dataframe\">\n",
       "  <thead>\n",
       "    <tr style=\"text-align: right;\">\n",
       "      <th></th>\n",
       "      <th>Female</th>\n",
       "      <th>Male</th>\n",
       "      <th>DSL</th>\n",
       "      <th>FiberOptic</th>\n",
       "      <th>NoIntServ</th>\n",
       "      <th>Month-to-month</th>\n",
       "      <th>One year</th>\n",
       "      <th>Two year</th>\n",
       "      <th>Bank transfer (automatic)</th>\n",
       "      <th>Credit card (automatic)</th>\n",
       "      <th>Electronic check</th>\n",
       "      <th>Mailed check</th>\n",
       "      <th>SeniorCitizen</th>\n",
       "      <th>Partner</th>\n",
       "      <th>Dependents</th>\n",
       "      <th>tenure</th>\n",
       "      <th>PhoneService</th>\n",
       "      <th>MultipleLines</th>\n",
       "      <th>OnlineSecurity</th>\n",
       "      <th>OnlineBackup</th>\n",
       "      <th>DeviceProtection</th>\n",
       "      <th>TechSupport</th>\n",
       "      <th>StreamingTV</th>\n",
       "      <th>StreamingMovies</th>\n",
       "      <th>PaperlessBilling</th>\n",
       "      <th>MonthlyCharges</th>\n",
       "      <th>TotalCharges</th>\n",
       "      <th>Churn</th>\n",
       "    </tr>\n",
       "  </thead>\n",
       "  <tbody>\n",
       "    <tr>\n",
       "      <td>3388</td>\n",
       "      <td>-0.990532</td>\n",
       "      <td>0.990532</td>\n",
       "      <td>1.381712</td>\n",
       "      <td>-0.885660</td>\n",
       "      <td>-0.525927</td>\n",
       "      <td>-1.105970</td>\n",
       "      <td>1.944582</td>\n",
       "      <td>-0.562975</td>\n",
       "      <td>-0.529885</td>\n",
       "      <td>-0.525047</td>\n",
       "      <td>1.406418</td>\n",
       "      <td>-0.544807</td>\n",
       "      <td>-0.439916</td>\n",
       "      <td>-0.966622</td>\n",
       "      <td>-0.654012</td>\n",
       "      <td>-0.259435</td>\n",
       "      <td>0.327438</td>\n",
       "      <td>1.170719</td>\n",
       "      <td>1.577454</td>\n",
       "      <td>1.378241</td>\n",
       "      <td>-0.723968</td>\n",
       "      <td>-0.639439</td>\n",
       "      <td>-0.790132</td>\n",
       "      <td>-0.796070</td>\n",
       "      <td>-1.205113</td>\n",
       "      <td>-0.106744</td>\n",
       "      <td>-0.309427</td>\n",
       "      <td>0</td>\n",
       "    </tr>\n",
       "    <tr>\n",
       "      <td>1630</td>\n",
       "      <td>1.009559</td>\n",
       "      <td>-1.009559</td>\n",
       "      <td>1.381712</td>\n",
       "      <td>-0.885660</td>\n",
       "      <td>-0.525927</td>\n",
       "      <td>-1.105970</td>\n",
       "      <td>1.944582</td>\n",
       "      <td>-0.562975</td>\n",
       "      <td>-0.529885</td>\n",
       "      <td>-0.525047</td>\n",
       "      <td>1.406418</td>\n",
       "      <td>-0.544807</td>\n",
       "      <td>-0.439916</td>\n",
       "      <td>-0.966622</td>\n",
       "      <td>-0.654012</td>\n",
       "      <td>-1.196004</td>\n",
       "      <td>0.327438</td>\n",
       "      <td>-0.854176</td>\n",
       "      <td>-0.633933</td>\n",
       "      <td>-0.725563</td>\n",
       "      <td>1.381277</td>\n",
       "      <td>-0.639439</td>\n",
       "      <td>1.265612</td>\n",
       "      <td>1.256171</td>\n",
       "      <td>0.829798</td>\n",
       "      <td>0.172438</td>\n",
       "      <td>-0.910104</td>\n",
       "      <td>0</td>\n",
       "    </tr>\n",
       "    <tr>\n",
       "      <td>1881</td>\n",
       "      <td>-0.990532</td>\n",
       "      <td>0.990532</td>\n",
       "      <td>1.381712</td>\n",
       "      <td>-0.885660</td>\n",
       "      <td>-0.525927</td>\n",
       "      <td>-1.105970</td>\n",
       "      <td>-0.514249</td>\n",
       "      <td>1.776278</td>\n",
       "      <td>1.887201</td>\n",
       "      <td>-0.525047</td>\n",
       "      <td>-0.711026</td>\n",
       "      <td>-0.544807</td>\n",
       "      <td>-0.439916</td>\n",
       "      <td>1.034530</td>\n",
       "      <td>1.529024</td>\n",
       "      <td>1.410099</td>\n",
       "      <td>0.327438</td>\n",
       "      <td>-0.854176</td>\n",
       "      <td>1.577454</td>\n",
       "      <td>-0.725563</td>\n",
       "      <td>1.381277</td>\n",
       "      <td>1.563872</td>\n",
       "      <td>-0.790132</td>\n",
       "      <td>-0.796070</td>\n",
       "      <td>0.829798</td>\n",
       "      <td>-0.144965</td>\n",
       "      <td>0.736959</td>\n",
       "      <td>0</td>\n",
       "    </tr>\n",
       "    <tr>\n",
       "      <td>5141</td>\n",
       "      <td>1.009559</td>\n",
       "      <td>-1.009559</td>\n",
       "      <td>-0.723740</td>\n",
       "      <td>-0.885660</td>\n",
       "      <td>1.901403</td>\n",
       "      <td>-1.105970</td>\n",
       "      <td>-0.514249</td>\n",
       "      <td>1.776278</td>\n",
       "      <td>-0.529885</td>\n",
       "      <td>1.904590</td>\n",
       "      <td>-0.711026</td>\n",
       "      <td>-0.544807</td>\n",
       "      <td>-0.439916</td>\n",
       "      <td>-0.966622</td>\n",
       "      <td>-0.654012</td>\n",
       "      <td>1.206498</td>\n",
       "      <td>0.327438</td>\n",
       "      <td>-0.854176</td>\n",
       "      <td>-0.633933</td>\n",
       "      <td>-0.725563</td>\n",
       "      <td>-0.723968</td>\n",
       "      <td>-0.639439</td>\n",
       "      <td>-0.790132</td>\n",
       "      <td>-0.796070</td>\n",
       "      <td>0.829798</td>\n",
       "      <td>-1.514286</td>\n",
       "      <td>-0.511623</td>\n",
       "      <td>0</td>\n",
       "    </tr>\n",
       "    <tr>\n",
       "      <td>1612</td>\n",
       "      <td>-0.990532</td>\n",
       "      <td>0.990532</td>\n",
       "      <td>1.381712</td>\n",
       "      <td>-0.885660</td>\n",
       "      <td>-0.525927</td>\n",
       "      <td>0.904184</td>\n",
       "      <td>-0.514249</td>\n",
       "      <td>-0.562975</td>\n",
       "      <td>-0.529885</td>\n",
       "      <td>-0.525047</td>\n",
       "      <td>1.406418</td>\n",
       "      <td>-0.544807</td>\n",
       "      <td>-0.439916</td>\n",
       "      <td>-0.966622</td>\n",
       "      <td>-0.654012</td>\n",
       "      <td>-0.218715</td>\n",
       "      <td>0.327438</td>\n",
       "      <td>1.170719</td>\n",
       "      <td>-0.633933</td>\n",
       "      <td>-0.725563</td>\n",
       "      <td>1.381277</td>\n",
       "      <td>1.563872</td>\n",
       "      <td>-0.790132</td>\n",
       "      <td>-0.796070</td>\n",
       "      <td>-1.205113</td>\n",
       "      <td>-0.176539</td>\n",
       "      <td>-0.296324</td>\n",
       "      <td>0</td>\n",
       "    </tr>\n",
       "    <tr>\n",
       "      <td>...</td>\n",
       "      <td>...</td>\n",
       "      <td>...</td>\n",
       "      <td>...</td>\n",
       "      <td>...</td>\n",
       "      <td>...</td>\n",
       "      <td>...</td>\n",
       "      <td>...</td>\n",
       "      <td>...</td>\n",
       "      <td>...</td>\n",
       "      <td>...</td>\n",
       "      <td>...</td>\n",
       "      <td>...</td>\n",
       "      <td>...</td>\n",
       "      <td>...</td>\n",
       "      <td>...</td>\n",
       "      <td>...</td>\n",
       "      <td>...</td>\n",
       "      <td>...</td>\n",
       "      <td>...</td>\n",
       "      <td>...</td>\n",
       "      <td>...</td>\n",
       "      <td>...</td>\n",
       "      <td>...</td>\n",
       "      <td>...</td>\n",
       "      <td>...</td>\n",
       "      <td>...</td>\n",
       "      <td>...</td>\n",
       "      <td>...</td>\n",
       "    </tr>\n",
       "    <tr>\n",
       "      <td>2824</td>\n",
       "      <td>-0.990532</td>\n",
       "      <td>0.990532</td>\n",
       "      <td>-0.723740</td>\n",
       "      <td>1.129102</td>\n",
       "      <td>-0.525927</td>\n",
       "      <td>0.904184</td>\n",
       "      <td>-0.514249</td>\n",
       "      <td>-0.562975</td>\n",
       "      <td>-0.529885</td>\n",
       "      <td>-0.525047</td>\n",
       "      <td>1.406418</td>\n",
       "      <td>-0.544807</td>\n",
       "      <td>2.273159</td>\n",
       "      <td>-0.966622</td>\n",
       "      <td>-0.654012</td>\n",
       "      <td>-0.992402</td>\n",
       "      <td>0.327438</td>\n",
       "      <td>-0.854176</td>\n",
       "      <td>-0.633933</td>\n",
       "      <td>-0.725563</td>\n",
       "      <td>-0.723968</td>\n",
       "      <td>-0.639439</td>\n",
       "      <td>-0.790132</td>\n",
       "      <td>-0.796070</td>\n",
       "      <td>0.829798</td>\n",
       "      <td>0.164129</td>\n",
       "      <td>-0.759924</td>\n",
       "      <td>1</td>\n",
       "    </tr>\n",
       "    <tr>\n",
       "      <td>4947</td>\n",
       "      <td>-0.990532</td>\n",
       "      <td>0.990532</td>\n",
       "      <td>-0.723740</td>\n",
       "      <td>1.129102</td>\n",
       "      <td>-0.525927</td>\n",
       "      <td>0.904184</td>\n",
       "      <td>-0.514249</td>\n",
       "      <td>-0.562975</td>\n",
       "      <td>-0.529885</td>\n",
       "      <td>-0.525047</td>\n",
       "      <td>-0.711026</td>\n",
       "      <td>1.835513</td>\n",
       "      <td>-0.439916</td>\n",
       "      <td>-0.966622</td>\n",
       "      <td>-0.654012</td>\n",
       "      <td>-1.277445</td>\n",
       "      <td>0.327438</td>\n",
       "      <td>-0.854176</td>\n",
       "      <td>-0.633933</td>\n",
       "      <td>-0.725563</td>\n",
       "      <td>-0.723968</td>\n",
       "      <td>-0.639439</td>\n",
       "      <td>-0.790132</td>\n",
       "      <td>-0.796070</td>\n",
       "      <td>-1.205113</td>\n",
       "      <td>0.154159</td>\n",
       "      <td>-0.976745</td>\n",
       "      <td>1</td>\n",
       "    </tr>\n",
       "    <tr>\n",
       "      <td>1331</td>\n",
       "      <td>-0.990532</td>\n",
       "      <td>0.990532</td>\n",
       "      <td>1.381712</td>\n",
       "      <td>-0.885660</td>\n",
       "      <td>-0.525927</td>\n",
       "      <td>0.904184</td>\n",
       "      <td>-0.514249</td>\n",
       "      <td>-0.562975</td>\n",
       "      <td>-0.529885</td>\n",
       "      <td>-0.525047</td>\n",
       "      <td>-0.711026</td>\n",
       "      <td>1.835513</td>\n",
       "      <td>-0.439916</td>\n",
       "      <td>-0.966622</td>\n",
       "      <td>-0.654012</td>\n",
       "      <td>-1.236724</td>\n",
       "      <td>0.327438</td>\n",
       "      <td>-0.854176</td>\n",
       "      <td>-0.633933</td>\n",
       "      <td>-0.725563</td>\n",
       "      <td>-0.723968</td>\n",
       "      <td>-0.639439</td>\n",
       "      <td>-0.790132</td>\n",
       "      <td>-0.796070</td>\n",
       "      <td>0.829798</td>\n",
       "      <td>-0.656798</td>\n",
       "      <td>-0.964811</td>\n",
       "      <td>1</td>\n",
       "    </tr>\n",
       "    <tr>\n",
       "      <td>134</td>\n",
       "      <td>-0.990532</td>\n",
       "      <td>0.990532</td>\n",
       "      <td>1.381712</td>\n",
       "      <td>-0.885660</td>\n",
       "      <td>-0.525927</td>\n",
       "      <td>0.904184</td>\n",
       "      <td>-0.514249</td>\n",
       "      <td>-0.562975</td>\n",
       "      <td>-0.529885</td>\n",
       "      <td>-0.525047</td>\n",
       "      <td>1.406418</td>\n",
       "      <td>-0.544807</td>\n",
       "      <td>-0.439916</td>\n",
       "      <td>-0.966622</td>\n",
       "      <td>-0.654012</td>\n",
       "      <td>-1.236724</td>\n",
       "      <td>0.327438</td>\n",
       "      <td>-0.854176</td>\n",
       "      <td>-0.633933</td>\n",
       "      <td>-0.725563</td>\n",
       "      <td>-0.723968</td>\n",
       "      <td>-0.639439</td>\n",
       "      <td>-0.790132</td>\n",
       "      <td>-0.796070</td>\n",
       "      <td>-1.205113</td>\n",
       "      <td>-0.678402</td>\n",
       "      <td>-0.971517</td>\n",
       "      <td>1</td>\n",
       "    </tr>\n",
       "    <tr>\n",
       "      <td>2255</td>\n",
       "      <td>1.009559</td>\n",
       "      <td>-1.009559</td>\n",
       "      <td>-0.723740</td>\n",
       "      <td>1.129102</td>\n",
       "      <td>-0.525927</td>\n",
       "      <td>0.904184</td>\n",
       "      <td>-0.514249</td>\n",
       "      <td>-0.562975</td>\n",
       "      <td>-0.529885</td>\n",
       "      <td>1.904590</td>\n",
       "      <td>-0.711026</td>\n",
       "      <td>-0.544807</td>\n",
       "      <td>-0.439916</td>\n",
       "      <td>-0.966622</td>\n",
       "      <td>-0.654012</td>\n",
       "      <td>-1.196004</td>\n",
       "      <td>0.327438</td>\n",
       "      <td>-0.854176</td>\n",
       "      <td>-0.633933</td>\n",
       "      <td>-0.725563</td>\n",
       "      <td>1.381277</td>\n",
       "      <td>1.563872</td>\n",
       "      <td>-0.790132</td>\n",
       "      <td>-0.796070</td>\n",
       "      <td>-1.205113</td>\n",
       "      <td>0.509783</td>\n",
       "      <td>-0.911383</td>\n",
       "      <td>1</td>\n",
       "    </tr>\n",
       "  </tbody>\n",
       "</table>\n",
       "<p>7228 rows × 28 columns</p>\n",
       "</div>"
      ],
      "text/plain": [
       "        Female      Male       DSL  FiberOptic  NoIntServ  Month-to-month  \\\n",
       "3388 -0.990532  0.990532  1.381712   -0.885660  -0.525927       -1.105970   \n",
       "1630  1.009559 -1.009559  1.381712   -0.885660  -0.525927       -1.105970   \n",
       "1881 -0.990532  0.990532  1.381712   -0.885660  -0.525927       -1.105970   \n",
       "5141  1.009559 -1.009559 -0.723740   -0.885660   1.901403       -1.105970   \n",
       "1612 -0.990532  0.990532  1.381712   -0.885660  -0.525927        0.904184   \n",
       "...        ...       ...       ...         ...        ...             ...   \n",
       "2824 -0.990532  0.990532 -0.723740    1.129102  -0.525927        0.904184   \n",
       "4947 -0.990532  0.990532 -0.723740    1.129102  -0.525927        0.904184   \n",
       "1331 -0.990532  0.990532  1.381712   -0.885660  -0.525927        0.904184   \n",
       "134  -0.990532  0.990532  1.381712   -0.885660  -0.525927        0.904184   \n",
       "2255  1.009559 -1.009559 -0.723740    1.129102  -0.525927        0.904184   \n",
       "\n",
       "      One year  Two year  Bank transfer (automatic)  Credit card (automatic)  \\\n",
       "3388  1.944582 -0.562975                  -0.529885                -0.525047   \n",
       "1630  1.944582 -0.562975                  -0.529885                -0.525047   \n",
       "1881 -0.514249  1.776278                   1.887201                -0.525047   \n",
       "5141 -0.514249  1.776278                  -0.529885                 1.904590   \n",
       "1612 -0.514249 -0.562975                  -0.529885                -0.525047   \n",
       "...        ...       ...                        ...                      ...   \n",
       "2824 -0.514249 -0.562975                  -0.529885                -0.525047   \n",
       "4947 -0.514249 -0.562975                  -0.529885                -0.525047   \n",
       "1331 -0.514249 -0.562975                  -0.529885                -0.525047   \n",
       "134  -0.514249 -0.562975                  -0.529885                -0.525047   \n",
       "2255 -0.514249 -0.562975                  -0.529885                 1.904590   \n",
       "\n",
       "      Electronic check  Mailed check  SeniorCitizen   Partner  Dependents  \\\n",
       "3388          1.406418     -0.544807      -0.439916 -0.966622   -0.654012   \n",
       "1630          1.406418     -0.544807      -0.439916 -0.966622   -0.654012   \n",
       "1881         -0.711026     -0.544807      -0.439916  1.034530    1.529024   \n",
       "5141         -0.711026     -0.544807      -0.439916 -0.966622   -0.654012   \n",
       "1612          1.406418     -0.544807      -0.439916 -0.966622   -0.654012   \n",
       "...                ...           ...            ...       ...         ...   \n",
       "2824          1.406418     -0.544807       2.273159 -0.966622   -0.654012   \n",
       "4947         -0.711026      1.835513      -0.439916 -0.966622   -0.654012   \n",
       "1331         -0.711026      1.835513      -0.439916 -0.966622   -0.654012   \n",
       "134           1.406418     -0.544807      -0.439916 -0.966622   -0.654012   \n",
       "2255         -0.711026     -0.544807      -0.439916 -0.966622   -0.654012   \n",
       "\n",
       "        tenure  PhoneService  MultipleLines  OnlineSecurity  OnlineBackup  \\\n",
       "3388 -0.259435      0.327438       1.170719        1.577454      1.378241   \n",
       "1630 -1.196004      0.327438      -0.854176       -0.633933     -0.725563   \n",
       "1881  1.410099      0.327438      -0.854176        1.577454     -0.725563   \n",
       "5141  1.206498      0.327438      -0.854176       -0.633933     -0.725563   \n",
       "1612 -0.218715      0.327438       1.170719       -0.633933     -0.725563   \n",
       "...        ...           ...            ...             ...           ...   \n",
       "2824 -0.992402      0.327438      -0.854176       -0.633933     -0.725563   \n",
       "4947 -1.277445      0.327438      -0.854176       -0.633933     -0.725563   \n",
       "1331 -1.236724      0.327438      -0.854176       -0.633933     -0.725563   \n",
       "134  -1.236724      0.327438      -0.854176       -0.633933     -0.725563   \n",
       "2255 -1.196004      0.327438      -0.854176       -0.633933     -0.725563   \n",
       "\n",
       "      DeviceProtection  TechSupport  StreamingTV  StreamingMovies  \\\n",
       "3388         -0.723968    -0.639439    -0.790132        -0.796070   \n",
       "1630          1.381277    -0.639439     1.265612         1.256171   \n",
       "1881          1.381277     1.563872    -0.790132        -0.796070   \n",
       "5141         -0.723968    -0.639439    -0.790132        -0.796070   \n",
       "1612          1.381277     1.563872    -0.790132        -0.796070   \n",
       "...                ...          ...          ...              ...   \n",
       "2824         -0.723968    -0.639439    -0.790132        -0.796070   \n",
       "4947         -0.723968    -0.639439    -0.790132        -0.796070   \n",
       "1331         -0.723968    -0.639439    -0.790132        -0.796070   \n",
       "134          -0.723968    -0.639439    -0.790132        -0.796070   \n",
       "2255          1.381277     1.563872    -0.790132        -0.796070   \n",
       "\n",
       "      PaperlessBilling  MonthlyCharges  TotalCharges  Churn  \n",
       "3388         -1.205113       -0.106744     -0.309427      0  \n",
       "1630          0.829798        0.172438     -0.910104      0  \n",
       "1881          0.829798       -0.144965      0.736959      0  \n",
       "5141          0.829798       -1.514286     -0.511623      0  \n",
       "1612         -1.205113       -0.176539     -0.296324      0  \n",
       "...                ...             ...           ...    ...  \n",
       "2824          0.829798        0.164129     -0.759924      1  \n",
       "4947         -1.205113        0.154159     -0.976745      1  \n",
       "1331          0.829798       -0.656798     -0.964811      1  \n",
       "134          -1.205113       -0.678402     -0.971517      1  \n",
       "2255         -1.205113        0.509783     -0.911383      1  \n",
       "\n",
       "[7228 rows x 28 columns]"
      ]
     },
     "execution_count": 19,
     "metadata": {},
     "output_type": "execute_result"
    }
   ],
   "source": [
    "upsample_df = pd.concat([exit,retain_sample])\n",
    "upsample_df"
   ]
  },
  {
   "cell_type": "code",
   "execution_count": 20,
   "metadata": {},
   "outputs": [],
   "source": [
    "X_up=upsample_df.drop('Churn',axis=1)\n",
    "y_up=upsample_df['Churn']"
   ]
  },
  {
   "cell_type": "code",
   "execution_count": 21,
   "metadata": {},
   "outputs": [
    {
     "data": {
      "text/plain": [
       "1    3614\n",
       "0    3614\n",
       "Name: Churn, dtype: int64"
      ]
     },
     "execution_count": 21,
     "metadata": {},
     "output_type": "execute_result"
    }
   ],
   "source": [
    "upsample_df['Churn'].value_counts()"
   ]
  },
  {
   "cell_type": "code",
   "execution_count": 22,
   "metadata": {},
   "outputs": [
    {
     "data": {
      "image/png": "[encoded data removed]",
      "text/plain": [
       "<Figure size 432x288 with 1 Axes>"
      ]
     },
     "metadata": {},
     "output_type": "display_data"
    }
   ],
   "source": [
    "piedata = [len(y_up[y_up==0]), len(y_up[y_up==1])]\n",
    "labels = ['exit', 'churn']\n",
    "\n",
    "plt.pie(piedata, labels=labels, autopct='%2.2f%%', startangle=90)\n",
    "plt.show()"
   ]
  },
  {
   "cell_type": "markdown",
   "metadata": {},
   "source": [
    "## 6. Model Building"
   ]
  },
  {
   "cell_type": "markdown",
   "metadata": {},
   "source": [
    "For optimizing the result, I am using `hyperparameter tuning` by creating function to deciding the best parameter score when building the model. Also, I am using `non-SMOTE` when training the model to compare the result for deciding which one is the best."
   ]
  },
  {
   "cell_type": "markdown",
   "metadata": {},
   "source": [
    "### 6.1. Logistic Regression"
   ]
  },
  {
   "cell_type": "markdown",
   "metadata": {},
   "source": [
    "#### 6.1.1. Non-SMOTE"
   ]
  },
  {
   "cell_type": "code",
   "execution_count": 23,
   "metadata": {},
   "outputs": [],
   "source": [
    "lr = LogisticRegression()"
   ]
  },
  {
   "cell_type": "code",
   "execution_count": 24,
   "metadata": {},
   "outputs": [
    {
     "data": {
      "text/plain": [
       "RandomizedSearchCV(cv=5, estimator=LogisticRegression(), n_iter=15, n_jobs=-1,\n",
       "                   param_distributions={'C': [0.1, 0.5, 0.9, 1, 2, 5],\n",
       "                                        'penalty': ['l1', 'l2'],\n",
       "                                        'random_state': [24, 32, 56, 65]},\n",
       "                   scoring='roc_auc')"
      ]
     },
     "execution_count": 24,
     "metadata": {},
     "output_type": "execute_result"
    }
   ],
   "source": [
    "lr_params = {\n",
    "    'C': [0.1, 0.5, 0.9, 1, 2, 5],\n",
    "    'penalty':['l1','l2'],\n",
    "    'random_state':[24,32,56,65]\n",
    "}\n",
    "logreg_random = RandomizedSearchCV(estimator= lr,\n",
    "                              param_distributions= lr_params,\n",
    "                              n_iter=15, cv=5, n_jobs=-1, scoring='roc_auc')\n",
    "logreg_random.fit(X_train, y_train)"
   ]
  },
  {
   "cell_type": "code",
   "execution_count": 25,
   "metadata": {},
   "outputs": [
    {
     "data": {
      "text/plain": [
       "{'random_state': 32, 'penalty': 'l2', 'C': 2}"
      ]
     },
     "execution_count": 25,
     "metadata": {},
     "output_type": "execute_result"
    }
   ],
   "source": [
    "logreg_random.best_params_"
   ]
  },
  {
   "cell_type": "code",
   "execution_count": 26,
   "metadata": {},
   "outputs": [
    {
     "data": {
      "text/plain": [
       "0.7943127962085308"
      ]
     },
     "execution_count": 26,
     "metadata": {},
     "output_type": "execute_result"
    }
   ],
   "source": [
    "logreg_random.best_estimator_.score(X_test, y_test)"
   ]
  },
  {
   "cell_type": "code",
   "execution_count": 27,
   "metadata": {},
   "outputs": [
    {
     "name": "stdout",
     "output_type": "stream",
     "text": [
      "              precision    recall  f1-score   support\n",
      "\n",
      "           0       0.84      0.89      0.86      1549\n",
      "           1       0.63      0.54      0.58       561\n",
      "\n",
      "    accuracy                           0.79      2110\n",
      "   macro avg       0.74      0.71      0.72      2110\n",
      "weighted avg       0.79      0.79      0.79      2110\n",
      "\n",
      "[[1375  174]\n",
      " [ 260  301]]\n"
     ]
    }
   ],
   "source": [
    "best_lr = logreg_random.best_estimator_\n",
    "\n",
    "predict_lr = best_lr.predict(X_test)\n",
    "proba_lr = best_lr.predict_proba(X_test)\n",
    "print(classification_report(y_test, predict_lr))\n",
    "print(confusion_matrix(y_test, predict_lr))"
   ]
  },
  {
   "cell_type": "markdown",
   "metadata": {},
   "source": [
    "#### 6.1.2. SMOTE"
   ]
  },
  {
   "cell_type": "code",
   "execution_count": 28,
   "metadata": {},
   "outputs": [
    {
     "data": {
      "text/plain": [
       "RandomizedSearchCV(cv=5, estimator=LogisticRegression(), n_iter=15, n_jobs=-1,\n",
       "                   param_distributions={'C': [0.1, 0.5, 0.9, 1, 2, 5],\n",
       "                                        'penalty': ['l1', 'l2'],\n",
       "                                        'random_state': [24, 32, 56, 65]},\n",
       "                   scoring='roc_auc')"
      ]
     },
     "execution_count": 28,
     "metadata": {},
     "output_type": "execute_result"
    }
   ],
   "source": [
    "lrsm_random = RandomizedSearchCV(estimator= lr,\n",
    "                              param_distributions= lr_params,\n",
    "                              n_iter=15, cv=5, n_jobs=-1, scoring='roc_auc')\n",
    "lrsm_random.fit(X_sm, y_sm)"
   ]
  },
  {
   "cell_type": "code",
   "execution_count": 29,
   "metadata": {},
   "outputs": [
    {
     "data": {
      "text/plain": [
       "{'random_state': 32, 'penalty': 'l2', 'C': 5}"
      ]
     },
     "execution_count": 29,
     "metadata": {},
     "output_type": "execute_result"
    }
   ],
   "source": [
    "lrsm_random.best_params_"
   ]
  },
  {
   "cell_type": "code",
   "execution_count": 30,
   "metadata": {},
   "outputs": [
    {
     "data": {
      "text/plain": [
       "0.747867298578199"
      ]
     },
     "execution_count": 30,
     "metadata": {},
     "output_type": "execute_result"
    }
   ],
   "source": [
    "lrsm_random.best_estimator_.score(X_test, y_test)"
   ]
  },
  {
   "cell_type": "code",
   "execution_count": 31,
   "metadata": {},
   "outputs": [
    {
     "name": "stdout",
     "output_type": "stream",
     "text": [
      "              precision    recall  f1-score   support\n",
      "\n",
      "           0       0.91      0.73      0.81      1549\n",
      "           1       0.52      0.81      0.63       561\n",
      "\n",
      "    accuracy                           0.75      2110\n",
      "   macro avg       0.71      0.77      0.72      2110\n",
      "weighted avg       0.81      0.75      0.76      2110\n",
      "\n",
      "[[1126  423]\n",
      " [ 109  452]]\n"
     ]
    }
   ],
   "source": [
    "best_lrsm = lrsm_random.best_estimator_\n",
    "\n",
    "predict_lrsm = best_lrsm.predict(X_test)\n",
    "proba_lrsm = best_lrsm.predict_proba(X_test)\n",
    "print(classification_report(y_test, predict_lrsm))\n",
    "print(confusion_matrix(y_test, predict_lrsm))"
   ]
  },
  {
   "cell_type": "markdown",
   "metadata": {},
   "source": [
    "#### 6.1.3. Oversampling"
   ]
  },
  {
   "cell_type": "code",
   "execution_count": 32,
   "metadata": {},
   "outputs": [
    {
     "data": {
      "text/plain": [
       "RandomizedSearchCV(cv=5, estimator=LogisticRegression(), n_iter=15, n_jobs=-1,\n",
       "                   param_distributions={'C': [0.1, 0.5, 0.9, 1, 2, 5],\n",
       "                                        'penalty': ['l1', 'l2'],\n",
       "                                        'random_state': [24, 32, 56, 65]},\n",
       "                   scoring='roc_auc')"
      ]
     },
     "execution_count": 32,
     "metadata": {},
     "output_type": "execute_result"
    }
   ],
   "source": [
    "lrup_random = RandomizedSearchCV(estimator= lr,\n",
    "                              param_distributions= lr_params,\n",
    "                              n_iter=15, cv=5, n_jobs=-1, scoring='roc_auc')\n",
    "lrup_random.fit(X_up, y_up)"
   ]
  },
  {
   "cell_type": "code",
   "execution_count": 33,
   "metadata": {},
   "outputs": [
    {
     "data": {
      "text/plain": [
       "{'random_state': 32, 'penalty': 'l2', 'C': 5}"
      ]
     },
     "execution_count": 33,
     "metadata": {},
     "output_type": "execute_result"
    }
   ],
   "source": [
    "lrup_random.best_params_"
   ]
  },
  {
   "cell_type": "code",
   "execution_count": 34,
   "metadata": {},
   "outputs": [
    {
     "data": {
      "text/plain": [
       "0.7402843601895734"
      ]
     },
     "execution_count": 34,
     "metadata": {},
     "output_type": "execute_result"
    }
   ],
   "source": [
    "lrup_random.best_estimator_.score(X_test, y_test)"
   ]
  },
  {
   "cell_type": "code",
   "execution_count": 35,
   "metadata": {},
   "outputs": [
    {
     "name": "stdout",
     "output_type": "stream",
     "text": [
      "              precision    recall  f1-score   support\n",
      "\n",
      "           0       0.91      0.72      0.80      1549\n",
      "           1       0.51      0.81      0.62       561\n",
      "\n",
      "    accuracy                           0.74      2110\n",
      "   macro avg       0.71      0.76      0.71      2110\n",
      "weighted avg       0.80      0.74      0.75      2110\n",
      "\n",
      "[[1110  439]\n",
      " [ 109  452]]\n"
     ]
    }
   ],
   "source": [
    "best_lrup = lrup_random.best_estimator_\n",
    "\n",
    "predict_lrup = best_lrup.predict(X_test)\n",
    "proba_lrup = best_lrup.predict_proba(X_test)\n",
    "print(classification_report(y_test, predict_lrup))\n",
    "print(confusion_matrix(y_test, predict_lrup))"
   ]
  },
  {
   "cell_type": "markdown",
   "metadata": {},
   "source": [
    "### 6.2. K-Nearest Neighbour"
   ]
  },
  {
   "cell_type": "markdown",
   "metadata": {},
   "source": [
    "#### 6.2.1. Non-SMOTE"
   ]
  },
  {
   "cell_type": "code",
   "execution_count": 36,
   "metadata": {},
   "outputs": [],
   "source": [
    "knn = KNeighborsClassifier()"
   ]
  },
  {
   "cell_type": "code",
   "execution_count": 37,
   "metadata": {},
   "outputs": [
    {
     "data": {
      "text/plain": [
       "RandomizedSearchCV(cv=5, estimator=KNeighborsClassifier(),\n",
       "                   param_distributions={'algorithm': ['ball_tree', 'kd_tree',\n",
       "                                                      'brute', 'auto'],\n",
       "                                        'leaf_size': [30],\n",
       "                                        'metric': ['minkowski'],\n",
       "                                        'metric_params': [None],\n",
       "                                        'n_jobs': [None],\n",
       "                                        'n_neighbors': [66, 67, 68, 69, 70, 71,\n",
       "                                                        72, 73, 74, 75],\n",
       "                                        'p': [2], 'weights': ['uniform']},\n",
       "                   scoring='roc_auc')"
      ]
     },
     "execution_count": 37,
     "metadata": {},
     "output_type": "execute_result"
    }
   ],
   "source": [
    "k = round(X_train.shape[0] ** .5)\n",
    "if k % 2 == 0:\n",
    "    k+=1\n",
    "    \n",
    "n_neighbors = list(range(k-5, k+5))\n",
    "algo = [\"ball_tree\", \"kd_tree\", \"brute\", \"auto\"]\n",
    "\n",
    "paramKNN = {\n",
    "    \"n_neighbors\": n_neighbors,\n",
    "    \"algorithm\": algo,\n",
    "    \"leaf_size\" : [30],\n",
    "    \"metric\" : ['minkowski'],\n",
    "    \"metric_params\" : [None],\n",
    "    \"n_jobs\" : [None],\n",
    "    \"p\": [2], \"weights\" : [\"uniform\"]\n",
    "}\n",
    "\n",
    "knn_random = RandomizedSearchCV(estimator= knn, param_distributions= paramKNN, cv= 5, scoring='roc_auc')\n",
    "knn_random.fit(X_train, y_train)"
   ]
  },
  {
   "cell_type": "code",
   "execution_count": 38,
   "metadata": {},
   "outputs": [
    {
     "data": {
      "text/plain": [
       "{'weights': 'uniform',\n",
       " 'p': 2,\n",
       " 'n_neighbors': 75,\n",
       " 'n_jobs': None,\n",
       " 'metric_params': None,\n",
       " 'metric': 'minkowski',\n",
       " 'leaf_size': 30,\n",
       " 'algorithm': 'brute'}"
      ]
     },
     "execution_count": 38,
     "metadata": {},
     "output_type": "execute_result"
    }
   ],
   "source": [
    "knn_random.best_params_"
   ]
  },
  {
   "cell_type": "code",
   "execution_count": 39,
   "metadata": {},
   "outputs": [
    {
     "data": {
      "text/plain": [
       "0.7838862559241706"
      ]
     },
     "execution_count": 39,
     "metadata": {},
     "output_type": "execute_result"
    }
   ],
   "source": [
    "knn_random.best_estimator_.score(X_test, y_test)"
   ]
  },
  {
   "cell_type": "code",
   "execution_count": 40,
   "metadata": {},
   "outputs": [
    {
     "name": "stdout",
     "output_type": "stream",
     "text": [
      "              precision    recall  f1-score   support\n",
      "\n",
      "           0       0.85      0.85      0.85      1549\n",
      "           1       0.59      0.60      0.60       561\n",
      "\n",
      "    accuracy                           0.78      2110\n",
      "   macro avg       0.72      0.72      0.72      2110\n",
      "weighted avg       0.78      0.78      0.78      2110\n",
      "\n",
      "[[1319  230]\n",
      " [ 226  335]]\n"
     ]
    }
   ],
   "source": [
    "best_knn = knn_random.best_estimator_\n",
    "\n",
    "predict_knn = best_knn.predict(X_test)\n",
    "proba_knn = best_knn.predict_proba(X_test)\n",
    "print(classification_report(y_test, predict_knn))\n",
    "print(confusion_matrix(y_test, predict_knn))"
   ]
  },
  {
   "cell_type": "markdown",
   "metadata": {},
   "source": [
    "#### 6.2.2. SMOTE"
   ]
  },
  {
   "cell_type": "code",
   "execution_count": 41,
   "metadata": {},
   "outputs": [
    {
     "data": {
      "text/plain": [
       "RandomizedSearchCV(cv=5, estimator=KNeighborsClassifier(),\n",
       "                   param_distributions={'algorithm': ['ball_tree', 'kd_tree',\n",
       "                                                      'brute', 'auto'],\n",
       "                                        'leaf_size': [30],\n",
       "                                        'metric': ['minkowski'],\n",
       "                                        'metric_params': [None],\n",
       "                                        'n_jobs': [None],\n",
       "                                        'n_neighbors': [66, 67, 68, 69, 70, 71,\n",
       "                                                        72, 73, 74, 75],\n",
       "                                        'p': [2], 'weights': ['uniform']},\n",
       "                   scoring='roc_auc')"
      ]
     },
     "execution_count": 41,
     "metadata": {},
     "output_type": "execute_result"
    }
   ],
   "source": [
    "knnsm_random = RandomizedSearchCV(estimator= knn, param_distributions= paramKNN, cv= 5, scoring='roc_auc')\n",
    "knnsm_random.fit(X_sm, y_sm)"
   ]
  },
  {
   "cell_type": "code",
   "execution_count": 42,
   "metadata": {},
   "outputs": [
    {
     "data": {
      "text/plain": [
       "{'weights': 'uniform',\n",
       " 'p': 2,\n",
       " 'n_neighbors': 66,\n",
       " 'n_jobs': None,\n",
       " 'metric_params': None,\n",
       " 'metric': 'minkowski',\n",
       " 'leaf_size': 30,\n",
       " 'algorithm': 'auto'}"
      ]
     },
     "execution_count": 42,
     "metadata": {},
     "output_type": "execute_result"
    }
   ],
   "source": [
    "knnsm_random.best_params_"
   ]
  },
  {
   "cell_type": "code",
   "execution_count": 43,
   "metadata": {},
   "outputs": [
    {
     "data": {
      "text/plain": [
       "0.6881516587677725"
      ]
     },
     "execution_count": 43,
     "metadata": {},
     "output_type": "execute_result"
    }
   ],
   "source": [
    "knnsm_random.best_estimator_.score(X_test, y_test)"
   ]
  },
  {
   "cell_type": "code",
   "execution_count": 44,
   "metadata": {},
   "outputs": [
    {
     "name": "stdout",
     "output_type": "stream",
     "text": [
      "              precision    recall  f1-score   support\n",
      "\n",
      "           0       0.92      0.63      0.75      1549\n",
      "           1       0.45      0.84      0.59       561\n",
      "\n",
      "    accuracy                           0.69      2110\n",
      "   macro avg       0.69      0.74      0.67      2110\n",
      "weighted avg       0.79      0.69      0.71      2110\n",
      "\n",
      "[[979 570]\n",
      " [ 88 473]]\n"
     ]
    }
   ],
   "source": [
    "best_knnsm = knnsm_random.best_estimator_\n",
    "\n",
    "predict_knnsm = best_knnsm.predict(X_test)\n",
    "proba_knnsm = best_knnsm.predict_proba(X_test)\n",
    "print(classification_report(y_test, predict_knnsm))\n",
    "print(confusion_matrix(y_test, predict_knnsm))"
   ]
  },
  {
   "cell_type": "markdown",
   "metadata": {},
   "source": [
    "#### 6.2.3. Oversampling"
   ]
  },
  {
   "cell_type": "code",
   "execution_count": 45,
   "metadata": {},
   "outputs": [
    {
     "data": {
      "text/plain": [
       "RandomizedSearchCV(cv=5, estimator=KNeighborsClassifier(),\n",
       "                   param_distributions={'algorithm': ['ball_tree', 'kd_tree',\n",
       "                                                      'brute', 'auto'],\n",
       "                                        'leaf_size': [30],\n",
       "                                        'metric': ['minkowski'],\n",
       "                                        'metric_params': [None],\n",
       "                                        'n_jobs': [None],\n",
       "                                        'n_neighbors': [66, 67, 68, 69, 70, 71,\n",
       "                                                        72, 73, 74, 75],\n",
       "                                        'p': [2], 'weights': ['uniform']},\n",
       "                   scoring='roc_auc')"
      ]
     },
     "execution_count": 45,
     "metadata": {},
     "output_type": "execute_result"
    }
   ],
   "source": [
    "knnup_random = RandomizedSearchCV(estimator= knn, param_distributions= paramKNN, cv= 5, scoring='roc_auc')\n",
    "knnup_random.fit(X_up, y_up)"
   ]
  },
  {
   "cell_type": "code",
   "execution_count": 46,
   "metadata": {},
   "outputs": [
    {
     "data": {
      "text/plain": [
       "{'weights': 'uniform',\n",
       " 'p': 2,\n",
       " 'n_neighbors': 75,\n",
       " 'n_jobs': None,\n",
       " 'metric_params': None,\n",
       " 'metric': 'minkowski',\n",
       " 'leaf_size': 30,\n",
       " 'algorithm': 'brute'}"
      ]
     },
     "execution_count": 46,
     "metadata": {},
     "output_type": "execute_result"
    }
   ],
   "source": [
    "knnup_random.best_params_"
   ]
  },
  {
   "cell_type": "code",
   "execution_count": 47,
   "metadata": {},
   "outputs": [
    {
     "data": {
      "text/plain": [
       "0.7004739336492891"
      ]
     },
     "execution_count": 47,
     "metadata": {},
     "output_type": "execute_result"
    }
   ],
   "source": [
    "knnup_random.best_estimator_.score(X_test, y_test)"
   ]
  },
  {
   "cell_type": "code",
   "execution_count": 48,
   "metadata": {},
   "outputs": [
    {
     "name": "stdout",
     "output_type": "stream",
     "text": [
      "              precision    recall  f1-score   support\n",
      "\n",
      "           0       0.91      0.65      0.76      1549\n",
      "           1       0.46      0.83      0.60       561\n",
      "\n",
      "    accuracy                           0.70      2110\n",
      "   macro avg       0.69      0.74      0.68      2110\n",
      "weighted avg       0.80      0.70      0.72      2110\n",
      "\n",
      "[[1011  538]\n",
      " [  94  467]]\n"
     ]
    }
   ],
   "source": [
    "best_knnup = knnup_random.best_estimator_\n",
    "\n",
    "predict_knnup = best_knnup.predict(X_test)\n",
    "proba_knnup = best_knnup.predict_proba(X_test)\n",
    "print(classification_report(y_test, predict_knnup))\n",
    "print(confusion_matrix(y_test, predict_knnup))"
   ]
  },
  {
   "cell_type": "markdown",
   "metadata": {},
   "source": [
    "### 6.3. Decision Tree Classifier"
   ]
  },
  {
   "cell_type": "markdown",
   "metadata": {},
   "source": [
    "#### 6.3.1. Non-SMOTE"
   ]
  },
  {
   "cell_type": "code",
   "execution_count": 49,
   "metadata": {},
   "outputs": [],
   "source": [
    "dtr = DecisionTreeClassifier()"
   ]
  },
  {
   "cell_type": "code",
   "execution_count": 50,
   "metadata": {},
   "outputs": [
    {
     "data": {
      "text/plain": [
       "RandomizedSearchCV(cv=5, estimator=DecisionTreeClassifier(), n_iter=15,\n",
       "                   n_jobs=-1,\n",
       "                   param_distributions={'criterion': ['gini', 'entropy'],\n",
       "                                        'max_depth': [10, 20, 30, 40],\n",
       "                                        'max_features': ['auto', 'sqrt',\n",
       "                                                         'log2'],\n",
       "                                        'min_samples_split': [4, 5, 6, 7, 8,\n",
       "                                                              9]},\n",
       "                   scoring='roc_auc')"
      ]
     },
     "execution_count": 50,
     "metadata": {},
     "output_type": "execute_result"
    }
   ],
   "source": [
    "dtr_params = {\n",
    "    'criterion': ['gini', 'entropy'],\n",
    "    'max_depth': [10,20,30,40],\n",
    "    'min_samples_split': [4,5,6,7,8,9],\n",
    "    'max_features': ['auto', 'sqrt', 'log2']\n",
    "}\n",
    "dtr_random = RandomizedSearchCV(estimator= dtr,\n",
    "                              param_distributions= dtr_params,\n",
    "                              n_iter=15, cv=5, n_jobs=-1, scoring='roc_auc')\n",
    "dtr_random.fit(X_train, y_train)"
   ]
  },
  {
   "cell_type": "code",
   "execution_count": 51,
   "metadata": {},
   "outputs": [
    {
     "data": {
      "text/plain": [
       "{'min_samples_split': 9,\n",
       " 'max_features': 'log2',\n",
       " 'max_depth': 10,\n",
       " 'criterion': 'entropy'}"
      ]
     },
     "execution_count": 51,
     "metadata": {},
     "output_type": "execute_result"
    }
   ],
   "source": [
    "dtr_random.best_params_"
   ]
  },
  {
   "cell_type": "code",
   "execution_count": 52,
   "metadata": {},
   "outputs": [
    {
     "data": {
      "text/plain": [
       "0.771563981042654"
      ]
     },
     "execution_count": 52,
     "metadata": {},
     "output_type": "execute_result"
    }
   ],
   "source": [
    "dtr_random.best_estimator_.score(X_test, y_test)"
   ]
  },
  {
   "cell_type": "code",
   "execution_count": 53,
   "metadata": {},
   "outputs": [
    {
     "name": "stdout",
     "output_type": "stream",
     "text": [
      "              precision    recall  f1-score   support\n",
      "\n",
      "           0       0.83      0.87      0.85      1549\n",
      "           1       0.58      0.51      0.54       561\n",
      "\n",
      "    accuracy                           0.77      2110\n",
      "   macro avg       0.71      0.69      0.70      2110\n",
      "weighted avg       0.76      0.77      0.77      2110\n",
      "\n",
      "[[1341  208]\n",
      " [ 274  287]]\n"
     ]
    }
   ],
   "source": [
    "best_dtr = dtr_random.best_estimator_\n",
    "\n",
    "predict_dtr = best_dtr.predict(X_test)\n",
    "proba_dtr = best_dtr.predict_proba(X_test)\n",
    "print(classification_report(y_test, predict_dtr))\n",
    "print(confusion_matrix(y_test, predict_dtr))"
   ]
  },
  {
   "cell_type": "markdown",
   "metadata": {},
   "source": [
    "#### 6.3.2. SMOTE"
   ]
  },
  {
   "cell_type": "code",
   "execution_count": 54,
   "metadata": {},
   "outputs": [
    {
     "data": {
      "text/plain": [
       "RandomizedSearchCV(cv=5, estimator=DecisionTreeClassifier(), n_iter=15,\n",
       "                   n_jobs=-1,\n",
       "                   param_distributions={'criterion': ['gini', 'entropy'],\n",
       "                                        'max_depth': [10, 20, 30, 40],\n",
       "                                        'max_features': ['auto', 'sqrt',\n",
       "                                                         'log2'],\n",
       "                                        'min_samples_split': [4, 5, 6, 7, 8,\n",
       "                                                              9]},\n",
       "                   scoring='roc_auc')"
      ]
     },
     "execution_count": 54,
     "metadata": {},
     "output_type": "execute_result"
    }
   ],
   "source": [
    "dtrsm_random = RandomizedSearchCV(estimator= dtr,\n",
    "                              param_distributions= dtr_params,\n",
    "                              n_iter=15, cv=5, n_jobs=-1, scoring='roc_auc')\n",
    "dtrsm_random.fit(X_sm, y_sm)"
   ]
  },
  {
   "cell_type": "code",
   "execution_count": 55,
   "metadata": {},
   "outputs": [
    {
     "data": {
      "text/plain": [
       "{'min_samples_split': 8,\n",
       " 'max_features': 'sqrt',\n",
       " 'max_depth': 10,\n",
       " 'criterion': 'gini'}"
      ]
     },
     "execution_count": 55,
     "metadata": {},
     "output_type": "execute_result"
    }
   ],
   "source": [
    "dtrsm_random.best_params_"
   ]
  },
  {
   "cell_type": "code",
   "execution_count": 56,
   "metadata": {},
   "outputs": [
    {
     "data": {
      "text/plain": [
       "0.7270142180094786"
      ]
     },
     "execution_count": 56,
     "metadata": {},
     "output_type": "execute_result"
    }
   ],
   "source": [
    "dtrsm_random.best_estimator_.score(X_test, y_test)"
   ]
  },
  {
   "cell_type": "code",
   "execution_count": 57,
   "metadata": {},
   "outputs": [
    {
     "name": "stdout",
     "output_type": "stream",
     "text": [
      "              precision    recall  f1-score   support\n",
      "\n",
      "           0       0.87      0.74      0.80      1549\n",
      "           1       0.49      0.69      0.57       561\n",
      "\n",
      "    accuracy                           0.73      2110\n",
      "   macro avg       0.68      0.71      0.69      2110\n",
      "weighted avg       0.77      0.73      0.74      2110\n",
      "\n",
      "[[1148  401]\n",
      " [ 175  386]]\n"
     ]
    }
   ],
   "source": [
    "best_dtrsm = dtrsm_random.best_estimator_\n",
    "\n",
    "predict_dtrsm = best_dtrsm.predict(X_test)\n",
    "proba_dtrsm = best_dtrsm.predict_proba(X_test)\n",
    "print(classification_report(y_test, predict_dtrsm))\n",
    "print(confusion_matrix(y_test, predict_dtrsm))"
   ]
  },
  {
   "cell_type": "markdown",
   "metadata": {},
   "source": [
    "#### 6.3.3. Oversampling"
   ]
  },
  {
   "cell_type": "code",
   "execution_count": 58,
   "metadata": {},
   "outputs": [
    {
     "data": {
      "text/plain": [
       "RandomizedSearchCV(cv=5, estimator=DecisionTreeClassifier(), n_iter=15,\n",
       "                   n_jobs=-1,\n",
       "                   param_distributions={'criterion': ['gini', 'entropy'],\n",
       "                                        'max_depth': [10, 20, 30, 40],\n",
       "                                        'max_features': ['auto', 'sqrt',\n",
       "                                                         'log2'],\n",
       "                                        'min_samples_split': [4, 5, 6, 7, 8,\n",
       "                                                              9]},\n",
       "                   scoring='roc_auc')"
      ]
     },
     "execution_count": 58,
     "metadata": {},
     "output_type": "execute_result"
    }
   ],
   "source": [
    "dtrup_random = RandomizedSearchCV(estimator= dtr,\n",
    "                              param_distributions= dtr_params,\n",
    "                              n_iter=15, cv=5, n_jobs=-1, scoring='roc_auc')\n",
    "dtrup_random.fit(X_up, y_up)"
   ]
  },
  {
   "cell_type": "code",
   "execution_count": 59,
   "metadata": {},
   "outputs": [
    {
     "data": {
      "text/plain": [
       "{'min_samples_split': 7,\n",
       " 'max_features': 'auto',\n",
       " 'max_depth': 30,\n",
       " 'criterion': 'gini'}"
      ]
     },
     "execution_count": 59,
     "metadata": {},
     "output_type": "execute_result"
    }
   ],
   "source": [
    "dtrup_random.best_params_"
   ]
  },
  {
   "cell_type": "code",
   "execution_count": 60,
   "metadata": {},
   "outputs": [
    {
     "data": {
      "text/plain": [
       "0.7274881516587678"
      ]
     },
     "execution_count": 60,
     "metadata": {},
     "output_type": "execute_result"
    }
   ],
   "source": [
    "dtrup_random.best_estimator_.score(X_test, y_test)"
   ]
  },
  {
   "cell_type": "code",
   "execution_count": 61,
   "metadata": {},
   "outputs": [
    {
     "name": "stdout",
     "output_type": "stream",
     "text": [
      "              precision    recall  f1-score   support\n",
      "\n",
      "           0       0.87      0.74      0.80      1549\n",
      "           1       0.49      0.69      0.57       561\n",
      "\n",
      "    accuracy                           0.73      2110\n",
      "   macro avg       0.68      0.71      0.69      2110\n",
      "weighted avg       0.77      0.73      0.74      2110\n",
      "\n",
      "[[1148  401]\n",
      " [ 175  386]]\n"
     ]
    }
   ],
   "source": [
    "best_dtrup = dtrsm_random.best_estimator_\n",
    "\n",
    "predict_dtrup = best_dtrup.predict(X_test)\n",
    "proba_dtrup = best_dtrup.predict_proba(X_test)\n",
    "print(classification_report(y_test, predict_dtrup))\n",
    "print(confusion_matrix(y_test, predict_dtrup))"
   ]
  },
  {
   "cell_type": "markdown",
   "metadata": {},
   "source": [
    "### 6.4. Random Forest"
   ]
  },
  {
   "cell_type": "markdown",
   "metadata": {},
   "source": [
    "#### 6.4.1. Non-SMOTE"
   ]
  },
  {
   "cell_type": "code",
   "execution_count": 62,
   "metadata": {},
   "outputs": [],
   "source": [
    "rfc = RandomForestClassifier()"
   ]
  },
  {
   "cell_type": "code",
   "execution_count": 63,
   "metadata": {},
   "outputs": [
    {
     "data": {
      "text/plain": [
       "RandomizedSearchCV(cv=5, estimator=RandomForestClassifier(), n_iter=15,\n",
       "                   n_jobs=-1,\n",
       "                   param_distributions={'bootstrap': [True, False],\n",
       "                                        'criterion': ['gini', 'entropy'],\n",
       "                                        'max_depth': [10, 20, 30, 40],\n",
       "                                        'min_samples_split': [2, 3, 4, 5, 6, 7,\n",
       "                                                              8, 9],\n",
       "                                        'n_estimators': [100, 147, 194, 242,\n",
       "                                                         289, 336, 384, 431,\n",
       "                                                         478, 526, 573, 621,\n",
       "                                                         668, 715, 763, 810,\n",
       "                                                         857, 905, 952, 1000]},\n",
       "                   scoring='roc_auc')"
      ]
     },
     "execution_count": 63,
     "metadata": {},
     "output_type": "execute_result"
    }
   ],
   "source": [
    "rfc_param = {\n",
    "    'bootstrap': [True, False],\n",
    "    'criterion' : ['gini', 'entropy'],\n",
    "    'max_depth' : [int(x) for x in np.arange(10,50,10)],\n",
    "    'min_samples_split' : [int(x) for x in np.arange(2,10,1)],\n",
    "    'n_estimators' : [int(x) for x in np.linspace(start=100, stop=1000, num=20)]\n",
    "}\n",
    "\n",
    "rfc_random = RandomizedSearchCV(estimator= rfc,\n",
    "                              param_distributions= rfc_param,\n",
    "                              n_iter=15, cv=5, n_jobs=-1, scoring='roc_auc')\n",
    "rfc_random.fit(X_train, y_train)"
   ]
  },
  {
   "cell_type": "code",
   "execution_count": 64,
   "metadata": {},
   "outputs": [
    {
     "data": {
      "text/plain": [
       "{'n_estimators': 384,\n",
       " 'min_samples_split': 7,\n",
       " 'max_depth': 10,\n",
       " 'criterion': 'entropy',\n",
       " 'bootstrap': True}"
      ]
     },
     "execution_count": 64,
     "metadata": {},
     "output_type": "execute_result"
    }
   ],
   "source": [
    "rfc_random.best_params_"
   ]
  },
  {
   "cell_type": "code",
   "execution_count": 65,
   "metadata": {},
   "outputs": [
    {
     "data": {
      "text/plain": [
       "0.79478672985782"
      ]
     },
     "execution_count": 65,
     "metadata": {},
     "output_type": "execute_result"
    }
   ],
   "source": [
    "rfc_random.best_estimator_.score(X_test, y_test)"
   ]
  },
  {
   "cell_type": "code",
   "execution_count": 66,
   "metadata": {},
   "outputs": [
    {
     "name": "stdout",
     "output_type": "stream",
     "text": [
      "              precision    recall  f1-score   support\n",
      "\n",
      "           0       0.83      0.90      0.87      1549\n",
      "           1       0.65      0.50      0.56       561\n",
      "\n",
      "    accuracy                           0.79      2110\n",
      "   macro avg       0.74      0.70      0.71      2110\n",
      "weighted avg       0.78      0.79      0.79      2110\n",
      "\n",
      "[[1397  152]\n",
      " [ 281  280]]\n"
     ]
    }
   ],
   "source": [
    "best_rfc = rfc_random.best_estimator_\n",
    "\n",
    "predict_rfc = best_rfc.predict(X_test)\n",
    "proba_rfc = best_rfc.predict_proba(X_test)\n",
    "print(classification_report(y_test, predict_rfc))\n",
    "print(confusion_matrix(y_test, predict_rfc))"
   ]
  },
  {
   "cell_type": "markdown",
   "metadata": {},
   "source": [
    "#### 6.4.2. SMOTE"
   ]
  },
  {
   "cell_type": "code",
   "execution_count": 67,
   "metadata": {},
   "outputs": [
    {
     "data": {
      "text/plain": [
       "RandomizedSearchCV(cv=5, estimator=RandomForestClassifier(), n_iter=15,\n",
       "                   n_jobs=-1,\n",
       "                   param_distributions={'bootstrap': [True, False],\n",
       "                                        'criterion': ['gini', 'entropy'],\n",
       "                                        'max_depth': [10, 20, 30, 40],\n",
       "                                        'min_samples_split': [2, 3, 4, 5, 6, 7,\n",
       "                                                              8, 9],\n",
       "                                        'n_estimators': [100, 147, 194, 242,\n",
       "                                                         289, 336, 384, 431,\n",
       "                                                         478, 526, 573, 621,\n",
       "                                                         668, 715, 763, 810,\n",
       "                                                         857, 905, 952, 1000]},\n",
       "                   scoring='roc_auc')"
      ]
     },
     "execution_count": 67,
     "metadata": {},
     "output_type": "execute_result"
    }
   ],
   "source": [
    "rfcsm_random = RandomizedSearchCV(estimator= rfc,\n",
    "                              param_distributions= rfc_param,\n",
    "                              n_iter=15, cv=5, n_jobs=-1, scoring='roc_auc')\n",
    "rfcsm_random.fit(X_sm, y_sm)"
   ]
  },
  {
   "cell_type": "code",
   "execution_count": 68,
   "metadata": {},
   "outputs": [
    {
     "data": {
      "text/plain": [
       "{'n_estimators': 384,\n",
       " 'min_samples_split': 7,\n",
       " 'max_depth': 20,\n",
       " 'criterion': 'entropy',\n",
       " 'bootstrap': False}"
      ]
     },
     "execution_count": 68,
     "metadata": {},
     "output_type": "execute_result"
    }
   ],
   "source": [
    "rfcsm_random.best_params_"
   ]
  },
  {
   "cell_type": "code",
   "execution_count": 69,
   "metadata": {},
   "outputs": [
    {
     "data": {
      "text/plain": [
       "0.7729857819905214"
      ]
     },
     "execution_count": 69,
     "metadata": {},
     "output_type": "execute_result"
    }
   ],
   "source": [
    "rfcsm_random.best_estimator_.score(X_test,y_test)"
   ]
  },
  {
   "cell_type": "code",
   "execution_count": 70,
   "metadata": {},
   "outputs": [
    {
     "name": "stdout",
     "output_type": "stream",
     "text": [
      "              precision    recall  f1-score   support\n",
      "\n",
      "           0       0.85      0.84      0.84      1549\n",
      "           1       0.57      0.59      0.58       561\n",
      "\n",
      "    accuracy                           0.77      2110\n",
      "   macro avg       0.71      0.72      0.71      2110\n",
      "weighted avg       0.78      0.77      0.77      2110\n",
      "\n",
      "[[1298  251]\n",
      " [ 228  333]]\n"
     ]
    }
   ],
   "source": [
    "best_rfcsm = rfcsm_random.best_estimator_\n",
    "\n",
    "predict_rfcsm = best_rfcsm.predict(X_test)\n",
    "proba_rfcsm = best_rfcsm.predict_proba(X_test)\n",
    "print(classification_report(y_test, predict_rfcsm))\n",
    "print(confusion_matrix(y_test, predict_rfcsm))"
   ]
  },
  {
   "cell_type": "markdown",
   "metadata": {},
   "source": [
    "#### 6.4.3. Oversampling"
   ]
  },
  {
   "cell_type": "code",
   "execution_count": 71,
   "metadata": {},
   "outputs": [
    {
     "data": {
      "text/plain": [
       "RandomizedSearchCV(cv=5, estimator=RandomForestClassifier(), n_iter=15,\n",
       "                   n_jobs=-1,\n",
       "                   param_distributions={'bootstrap': [True, False],\n",
       "                                        'criterion': ['gini', 'entropy'],\n",
       "                                        'max_depth': [10, 20, 30, 40],\n",
       "                                        'min_samples_split': [2, 3, 4, 5, 6, 7,\n",
       "                                                              8, 9],\n",
       "                                        'n_estimators': [100, 147, 194, 242,\n",
       "                                                         289, 336, 384, 431,\n",
       "                                                         478, 526, 573, 621,\n",
       "                                                         668, 715, 763, 810,\n",
       "                                                         857, 905, 952, 1000]},\n",
       "                   scoring='roc_auc')"
      ]
     },
     "execution_count": 71,
     "metadata": {},
     "output_type": "execute_result"
    }
   ],
   "source": [
    "rfcup_random = RandomizedSearchCV(estimator= rfc,\n",
    "                              param_distributions= rfc_param,\n",
    "                              n_iter=15, cv=5, n_jobs=-1, scoring='roc_auc')\n",
    "rfcup_random.fit(X_up, y_up)"
   ]
  },
  {
   "cell_type": "code",
   "execution_count": 72,
   "metadata": {},
   "outputs": [
    {
     "data": {
      "text/plain": [
       "{'n_estimators': 526,\n",
       " 'min_samples_split': 2,\n",
       " 'max_depth': 40,\n",
       " 'criterion': 'gini',\n",
       " 'bootstrap': False}"
      ]
     },
     "execution_count": 72,
     "metadata": {},
     "output_type": "execute_result"
    }
   ],
   "source": [
    "rfcup_random.best_params_"
   ]
  },
  {
   "cell_type": "code",
   "execution_count": 73,
   "metadata": {},
   "outputs": [
    {
     "data": {
      "text/plain": [
       "0.7744075829383886"
      ]
     },
     "execution_count": 73,
     "metadata": {},
     "output_type": "execute_result"
    }
   ],
   "source": [
    "rfcup_random.best_estimator_.score(X_test,y_test)"
   ]
  },
  {
   "cell_type": "code",
   "execution_count": 74,
   "metadata": {},
   "outputs": [
    {
     "name": "stdout",
     "output_type": "stream",
     "text": [
      "              precision    recall  f1-score   support\n",
      "\n",
      "           0       0.82      0.89      0.85      1549\n",
      "           1       0.60      0.44      0.51       561\n",
      "\n",
      "    accuracy                           0.77      2110\n",
      "   macro avg       0.71      0.67      0.68      2110\n",
      "weighted avg       0.76      0.77      0.76      2110\n",
      "\n",
      "[[1385  164]\n",
      " [ 312  249]]\n"
     ]
    }
   ],
   "source": [
    "best_rfcup = rfcup_random.best_estimator_\n",
    "\n",
    "predict_rfcup = best_rfcup.predict(X_test)\n",
    "proba_rfcup = best_rfcup.predict_proba(X_test)\n",
    "print(classification_report(y_test, predict_rfcup))\n",
    "print(confusion_matrix(y_test, predict_rfcup))"
   ]
  },
  {
   "cell_type": "markdown",
   "metadata": {},
   "source": [
    "### 6.5. Comparing The Score"
   ]
  },
  {
   "cell_type": "markdown",
   "metadata": {},
   "source": [
    "#### 6.5.1. Non-SMOTE"
   ]
  },
  {
   "cell_type": "code",
   "execution_count": 75,
   "metadata": {},
   "outputs": [
    {
     "data": {
      "text/html": [
       "<div>\n",
       "<style scoped>\n",
       "    .dataframe tbody tr th:only-of-type {\n",
       "        vertical-align: middle;\n",
       "    }\n",
       "\n",
       "    .dataframe tbody tr th {\n",
       "        vertical-align: top;\n",
       "    }\n",
       "\n",
       "    .dataframe thead th {\n",
       "        text-align: right;\n",
       "    }\n",
       "</style>\n",
       "<table border=\"1\" class=\"dataframe\">\n",
       "  <thead>\n",
       "    <tr style=\"text-align: right;\">\n",
       "      <th></th>\n",
       "      <th>model</th>\n",
       "      <th>scores</th>\n",
       "    </tr>\n",
       "  </thead>\n",
       "  <tbody>\n",
       "    <tr>\n",
       "      <td>0</td>\n",
       "      <td>Logistic Regression</td>\n",
       "      <td>0.794313</td>\n",
       "    </tr>\n",
       "    <tr>\n",
       "      <td>1</td>\n",
       "      <td>K-Nearest Neighbour</td>\n",
       "      <td>0.783886</td>\n",
       "    </tr>\n",
       "    <tr>\n",
       "      <td>2</td>\n",
       "      <td>Decision Tree</td>\n",
       "      <td>0.771564</td>\n",
       "    </tr>\n",
       "    <tr>\n",
       "      <td>3</td>\n",
       "      <td>Random Forest</td>\n",
       "      <td>0.794787</td>\n",
       "    </tr>\n",
       "  </tbody>\n",
       "</table>\n",
       "</div>"
      ],
      "text/plain": [
       "                 model    scores\n",
       "0  Logistic Regression  0.794313\n",
       "1  K-Nearest Neighbour  0.783886\n",
       "2        Decision Tree  0.771564\n",
       "3        Random Forest  0.794787"
      ]
     },
     "execution_count": 75,
     "metadata": {},
     "output_type": "execute_result"
    }
   ],
   "source": [
    "scores = []\n",
    "for model in [best_lr, best_knn, best_dtr, best_rfc]:\n",
    "    scores.append(model.score(X_test, y_test))\n",
    "\n",
    "scores_df = pd.DataFrame({'model': ['Logistic Regression', 'K-Nearest Neighbour', 'Decision Tree', 'Random Forest'], 'scores': scores})\n",
    "scores_df"
   ]
  },
  {
   "cell_type": "markdown",
   "metadata": {},
   "source": [
    "#### 6.5.2. SMOTE"
   ]
  },
  {
   "cell_type": "code",
   "execution_count": 76,
   "metadata": {},
   "outputs": [
    {
     "data": {
      "text/html": [
       "<div>\n",
       "<style scoped>\n",
       "    .dataframe tbody tr th:only-of-type {\n",
       "        vertical-align: middle;\n",
       "    }\n",
       "\n",
       "    .dataframe tbody tr th {\n",
       "        vertical-align: top;\n",
       "    }\n",
       "\n",
       "    .dataframe thead th {\n",
       "        text-align: right;\n",
       "    }\n",
       "</style>\n",
       "<table border=\"1\" class=\"dataframe\">\n",
       "  <thead>\n",
       "    <tr style=\"text-align: right;\">\n",
       "      <th></th>\n",
       "      <th>model</th>\n",
       "      <th>scores</th>\n",
       "    </tr>\n",
       "  </thead>\n",
       "  <tbody>\n",
       "    <tr>\n",
       "      <td>0</td>\n",
       "      <td>Logistic Regression</td>\n",
       "      <td>0.779192</td>\n",
       "    </tr>\n",
       "    <tr>\n",
       "      <td>1</td>\n",
       "      <td>K-Nearest Neighbour</td>\n",
       "      <td>0.770891</td>\n",
       "    </tr>\n",
       "    <tr>\n",
       "      <td>2</td>\n",
       "      <td>Decision Tree</td>\n",
       "      <td>0.840897</td>\n",
       "    </tr>\n",
       "    <tr>\n",
       "      <td>3</td>\n",
       "      <td>Random Forest</td>\n",
       "      <td>0.986995</td>\n",
       "    </tr>\n",
       "  </tbody>\n",
       "</table>\n",
       "</div>"
      ],
      "text/plain": [
       "                 model    scores\n",
       "0  Logistic Regression  0.779192\n",
       "1  K-Nearest Neighbour  0.770891\n",
       "2        Decision Tree  0.840897\n",
       "3        Random Forest  0.986995"
      ]
     },
     "execution_count": 76,
     "metadata": {},
     "output_type": "execute_result"
    }
   ],
   "source": [
    "scores = []\n",
    "for model in [best_lrsm, best_knnsm, best_dtrsm, best_rfcsm]:\n",
    "    scores.append(model.score(X_sm, y_sm))\n",
    "\n",
    "scores_dfsm = pd.DataFrame({'model': ['Logistic Regression', 'K-Nearest Neighbour', 'Decision Tree', 'Random Forest'], 'scores': scores})\n",
    "scores_dfsm"
   ]
  },
  {
   "cell_type": "markdown",
   "metadata": {},
   "source": [
    "#### 6.5.3. Oversampling"
   ]
  },
  {
   "cell_type": "code",
   "execution_count": 77,
   "metadata": {},
   "outputs": [
    {
     "data": {
      "text/html": [
       "<div>\n",
       "<style scoped>\n",
       "    .dataframe tbody tr th:only-of-type {\n",
       "        vertical-align: middle;\n",
       "    }\n",
       "\n",
       "    .dataframe tbody tr th {\n",
       "        vertical-align: top;\n",
       "    }\n",
       "\n",
       "    .dataframe thead th {\n",
       "        text-align: right;\n",
       "    }\n",
       "</style>\n",
       "<table border=\"1\" class=\"dataframe\">\n",
       "  <thead>\n",
       "    <tr style=\"text-align: right;\">\n",
       "      <th></th>\n",
       "      <th>model</th>\n",
       "      <th>scores</th>\n",
       "    </tr>\n",
       "  </thead>\n",
       "  <tbody>\n",
       "    <tr>\n",
       "      <td>0</td>\n",
       "      <td>Logistic Regression</td>\n",
       "      <td>0.765495</td>\n",
       "    </tr>\n",
       "    <tr>\n",
       "      <td>1</td>\n",
       "      <td>K-Nearest Neighbour</td>\n",
       "      <td>0.758578</td>\n",
       "    </tr>\n",
       "    <tr>\n",
       "      <td>2</td>\n",
       "      <td>Decision Tree</td>\n",
       "      <td>0.807416</td>\n",
       "    </tr>\n",
       "    <tr>\n",
       "      <td>3</td>\n",
       "      <td>Random Forest</td>\n",
       "      <td>0.999170</td>\n",
       "    </tr>\n",
       "  </tbody>\n",
       "</table>\n",
       "</div>"
      ],
      "text/plain": [
       "                 model    scores\n",
       "0  Logistic Regression  0.765495\n",
       "1  K-Nearest Neighbour  0.758578\n",
       "2        Decision Tree  0.807416\n",
       "3        Random Forest  0.999170"
      ]
     },
     "execution_count": 77,
     "metadata": {},
     "output_type": "execute_result"
    }
   ],
   "source": [
    "scores = []\n",
    "for model in [best_lrup, best_knnup, best_dtrup, best_rfcup]:\n",
    "    scores.append(model.score(X_up, y_up))\n",
    "\n",
    "scores_dfup = pd.DataFrame({'model': ['Logistic Regression', 'K-Nearest Neighbour', 'Decision Tree', 'Random Forest'], 'scores': scores})\n",
    "scores_dfup"
   ]
  },
  {
   "cell_type": "markdown",
   "metadata": {},
   "source": [
    "## 7. Evaluation Metrics"
   ]
  },
  {
   "cell_type": "markdown",
   "metadata": {},
   "source": [
    "### Logistic Regression"
   ]
  },
  {
   "cell_type": "markdown",
   "metadata": {},
   "source": [
    "#### >> Non-SMOTE"
   ]
  },
  {
   "cell_type": "code",
   "execution_count": 79,
   "metadata": {},
   "outputs": [
    {
     "data": {
      "text/html": [
       "<div>\n",
       "<style scoped>\n",
       "    .dataframe tbody tr th:only-of-type {\n",
       "        vertical-align: middle;\n",
       "    }\n",
       "\n",
       "    .dataframe tbody tr th {\n",
       "        vertical-align: top;\n",
       "    }\n",
       "\n",
       "    .dataframe thead th {\n",
       "        text-align: right;\n",
       "    }\n",
       "</style>\n",
       "<table border=\"1\" class=\"dataframe\">\n",
       "  <thead>\n",
       "    <tr style=\"text-align: right;\">\n",
       "      <th></th>\n",
       "      <th>precision</th>\n",
       "      <th>recall</th>\n",
       "      <th>f1-score</th>\n",
       "      <th>support</th>\n",
       "    </tr>\n",
       "  </thead>\n",
       "  <tbody>\n",
       "    <tr>\n",
       "      <td>0</td>\n",
       "      <td>0.840979</td>\n",
       "      <td>0.887669</td>\n",
       "      <td>0.863693</td>\n",
       "      <td>1549.000000</td>\n",
       "    </tr>\n",
       "    <tr>\n",
       "      <td>1</td>\n",
       "      <td>0.633684</td>\n",
       "      <td>0.536542</td>\n",
       "      <td>0.581081</td>\n",
       "      <td>561.000000</td>\n",
       "    </tr>\n",
       "    <tr>\n",
       "      <td>accuracy</td>\n",
       "      <td>0.794313</td>\n",
       "      <td>0.794313</td>\n",
       "      <td>0.794313</td>\n",
       "      <td>0.794313</td>\n",
       "    </tr>\n",
       "    <tr>\n",
       "      <td>macro avg</td>\n",
       "      <td>0.737331</td>\n",
       "      <td>0.712106</td>\n",
       "      <td>0.722387</td>\n",
       "      <td>2110.000000</td>\n",
       "    </tr>\n",
       "    <tr>\n",
       "      <td>weighted avg</td>\n",
       "      <td>0.785864</td>\n",
       "      <td>0.794313</td>\n",
       "      <td>0.788553</td>\n",
       "      <td>2110.000000</td>\n",
       "    </tr>\n",
       "  </tbody>\n",
       "</table>\n",
       "</div>"
      ],
      "text/plain": [
       "              precision    recall  f1-score      support\n",
       "0              0.840979  0.887669  0.863693  1549.000000\n",
       "1              0.633684  0.536542  0.581081   561.000000\n",
       "accuracy       0.794313  0.794313  0.794313     0.794313\n",
       "macro avg      0.737331  0.712106  0.722387  2110.000000\n",
       "weighted avg   0.785864  0.794313  0.788553  2110.000000"
      ]
     },
     "execution_count": 79,
     "metadata": {},
     "output_type": "execute_result"
    }
   ],
   "source": [
    "cm_lr = confusion_matrix(y_test, predict_lr)\n",
    "cr_lr = classification_report(y_test, predict_lr, output_dict=True)\n",
    "cr_lr = pd.DataFrame(cr_lr).transpose()\n",
    "cr_lr"
   ]
  },
  {
   "cell_type": "markdown",
   "metadata": {},
   "source": [
    "#### >> SMOTE"
   ]
  },
  {
   "cell_type": "code",
   "execution_count": 81,
   "metadata": {},
   "outputs": [
    {
     "data": {
      "text/html": [
       "<div>\n",
       "<style scoped>\n",
       "    .dataframe tbody tr th:only-of-type {\n",
       "        vertical-align: middle;\n",
       "    }\n",
       "\n",
       "    .dataframe tbody tr th {\n",
       "        vertical-align: top;\n",
       "    }\n",
       "\n",
       "    .dataframe thead th {\n",
       "        text-align: right;\n",
       "    }\n",
       "</style>\n",
       "<table border=\"1\" class=\"dataframe\">\n",
       "  <thead>\n",
       "    <tr style=\"text-align: right;\">\n",
       "      <th></th>\n",
       "      <th>precision</th>\n",
       "      <th>recall</th>\n",
       "      <th>f1-score</th>\n",
       "      <th>support</th>\n",
       "    </tr>\n",
       "  </thead>\n",
       "  <tbody>\n",
       "    <tr>\n",
       "      <td>0</td>\n",
       "      <td>0.911741</td>\n",
       "      <td>0.726921</td>\n",
       "      <td>0.808908</td>\n",
       "      <td>1549.000000</td>\n",
       "    </tr>\n",
       "    <tr>\n",
       "      <td>1</td>\n",
       "      <td>0.516571</td>\n",
       "      <td>0.805704</td>\n",
       "      <td>0.629526</td>\n",
       "      <td>561.000000</td>\n",
       "    </tr>\n",
       "    <tr>\n",
       "      <td>accuracy</td>\n",
       "      <td>0.747867</td>\n",
       "      <td>0.747867</td>\n",
       "      <td>0.747867</td>\n",
       "      <td>0.747867</td>\n",
       "    </tr>\n",
       "    <tr>\n",
       "      <td>macro avg</td>\n",
       "      <td>0.714156</td>\n",
       "      <td>0.766312</td>\n",
       "      <td>0.719217</td>\n",
       "      <td>2110.000000</td>\n",
       "    </tr>\n",
       "    <tr>\n",
       "      <td>weighted avg</td>\n",
       "      <td>0.806675</td>\n",
       "      <td>0.747867</td>\n",
       "      <td>0.761215</td>\n",
       "      <td>2110.000000</td>\n",
       "    </tr>\n",
       "  </tbody>\n",
       "</table>\n",
       "</div>"
      ],
      "text/plain": [
       "              precision    recall  f1-score      support\n",
       "0              0.911741  0.726921  0.808908  1549.000000\n",
       "1              0.516571  0.805704  0.629526   561.000000\n",
       "accuracy       0.747867  0.747867  0.747867     0.747867\n",
       "macro avg      0.714156  0.766312  0.719217  2110.000000\n",
       "weighted avg   0.806675  0.747867  0.761215  2110.000000"
      ]
     },
     "execution_count": 81,
     "metadata": {},
     "output_type": "execute_result"
    }
   ],
   "source": [
    "cm_lrsm = confusion_matrix(y_test, predict_lrsm)\n",
    "cr_lrsm = classification_report(y_test, predict_lrsm, output_dict=True)\n",
    "cr_lrsm = pd.DataFrame(cr_lrsm).transpose()\n",
    "cr_lrsm"
   ]
  },
  {
   "cell_type": "markdown",
   "metadata": {},
   "source": [
    "#### >> Oversampling"
   ]
  },
  {
   "cell_type": "code",
   "execution_count": 83,
   "metadata": {},
   "outputs": [
    {
     "data": {
      "text/html": [
       "<div>\n",
       "<style scoped>\n",
       "    .dataframe tbody tr th:only-of-type {\n",
       "        vertical-align: middle;\n",
       "    }\n",
       "\n",
       "    .dataframe tbody tr th {\n",
       "        vertical-align: top;\n",
       "    }\n",
       "\n",
       "    .dataframe thead th {\n",
       "        text-align: right;\n",
       "    }\n",
       "</style>\n",
       "<table border=\"1\" class=\"dataframe\">\n",
       "  <thead>\n",
       "    <tr style=\"text-align: right;\">\n",
       "      <th></th>\n",
       "      <th>precision</th>\n",
       "      <th>recall</th>\n",
       "      <th>f1-score</th>\n",
       "      <th>support</th>\n",
       "    </tr>\n",
       "  </thead>\n",
       "  <tbody>\n",
       "    <tr>\n",
       "      <td>0</td>\n",
       "      <td>0.910582</td>\n",
       "      <td>0.716591</td>\n",
       "      <td>0.802023</td>\n",
       "      <td>1549.000000</td>\n",
       "    </tr>\n",
       "    <tr>\n",
       "      <td>1</td>\n",
       "      <td>0.507295</td>\n",
       "      <td>0.805704</td>\n",
       "      <td>0.622590</td>\n",
       "      <td>561.000000</td>\n",
       "    </tr>\n",
       "    <tr>\n",
       "      <td>accuracy</td>\n",
       "      <td>0.740284</td>\n",
       "      <td>0.740284</td>\n",
       "      <td>0.740284</td>\n",
       "      <td>0.740284</td>\n",
       "    </tr>\n",
       "    <tr>\n",
       "      <td>macro avg</td>\n",
       "      <td>0.708939</td>\n",
       "      <td>0.761148</td>\n",
       "      <td>0.712306</td>\n",
       "      <td>2110.000000</td>\n",
       "    </tr>\n",
       "    <tr>\n",
       "      <td>weighted avg</td>\n",
       "      <td>0.803358</td>\n",
       "      <td>0.740284</td>\n",
       "      <td>0.754316</td>\n",
       "      <td>2110.000000</td>\n",
       "    </tr>\n",
       "  </tbody>\n",
       "</table>\n",
       "</div>"
      ],
      "text/plain": [
       "              precision    recall  f1-score      support\n",
       "0              0.910582  0.716591  0.802023  1549.000000\n",
       "1              0.507295  0.805704  0.622590   561.000000\n",
       "accuracy       0.740284  0.740284  0.740284     0.740284\n",
       "macro avg      0.708939  0.761148  0.712306  2110.000000\n",
       "weighted avg   0.803358  0.740284  0.754316  2110.000000"
      ]
     },
     "execution_count": 83,
     "metadata": {},
     "output_type": "execute_result"
    }
   ],
   "source": [
    "cm_lrup = confusion_matrix(y_test, predict_lrup)\n",
    "cr_lrup = classification_report(y_test, predict_lrup, output_dict=True)\n",
    "cr_lrup = pd.DataFrame(cr_lrup).transpose()\n",
    "cr_lrup"
   ]
  },
  {
   "cell_type": "markdown",
   "metadata": {},
   "source": [
    "### K-Nearest Neighbour"
   ]
  },
  {
   "cell_type": "markdown",
   "metadata": {},
   "source": [
    "#### >> Non-SMOTE"
   ]
  },
  {
   "cell_type": "code",
   "execution_count": 84,
   "metadata": {},
   "outputs": [
    {
     "data": {
      "text/html": [
       "<div>\n",
       "<style scoped>\n",
       "    .dataframe tbody tr th:only-of-type {\n",
       "        vertical-align: middle;\n",
       "    }\n",
       "\n",
       "    .dataframe tbody tr th {\n",
       "        vertical-align: top;\n",
       "    }\n",
       "\n",
       "    .dataframe thead th {\n",
       "        text-align: right;\n",
       "    }\n",
       "</style>\n",
       "<table border=\"1\" class=\"dataframe\">\n",
       "  <thead>\n",
       "    <tr style=\"text-align: right;\">\n",
       "      <th></th>\n",
       "      <th>precision</th>\n",
       "      <th>recall</th>\n",
       "      <th>f1-score</th>\n",
       "      <th>support</th>\n",
       "    </tr>\n",
       "  </thead>\n",
       "  <tbody>\n",
       "    <tr>\n",
       "      <td>0</td>\n",
       "      <td>0.853722</td>\n",
       "      <td>0.851517</td>\n",
       "      <td>0.852618</td>\n",
       "      <td>1549.000000</td>\n",
       "    </tr>\n",
       "    <tr>\n",
       "      <td>1</td>\n",
       "      <td>0.592920</td>\n",
       "      <td>0.597148</td>\n",
       "      <td>0.595027</td>\n",
       "      <td>561.000000</td>\n",
       "    </tr>\n",
       "    <tr>\n",
       "      <td>accuracy</td>\n",
       "      <td>0.783886</td>\n",
       "      <td>0.783886</td>\n",
       "      <td>0.783886</td>\n",
       "      <td>0.783886</td>\n",
       "    </tr>\n",
       "    <tr>\n",
       "      <td>macro avg</td>\n",
       "      <td>0.723321</td>\n",
       "      <td>0.724333</td>\n",
       "      <td>0.723822</td>\n",
       "      <td>2110.000000</td>\n",
       "    </tr>\n",
       "    <tr>\n",
       "      <td>weighted avg</td>\n",
       "      <td>0.784381</td>\n",
       "      <td>0.783886</td>\n",
       "      <td>0.784130</td>\n",
       "      <td>2110.000000</td>\n",
       "    </tr>\n",
       "  </tbody>\n",
       "</table>\n",
       "</div>"
      ],
      "text/plain": [
       "              precision    recall  f1-score      support\n",
       "0              0.853722  0.851517  0.852618  1549.000000\n",
       "1              0.592920  0.597148  0.595027   561.000000\n",
       "accuracy       0.783886  0.783886  0.783886     0.783886\n",
       "macro avg      0.723321  0.724333  0.723822  2110.000000\n",
       "weighted avg   0.784381  0.783886  0.784130  2110.000000"
      ]
     },
     "execution_count": 84,
     "metadata": {},
     "output_type": "execute_result"
    }
   ],
   "source": [
    "cm_knn = confusion_matrix(y_test, predict_knn)\n",
    "cr_knn = classification_report(y_test, predict_knn, output_dict=True)\n",
    "cr_knn = pd.DataFrame(cr_knn).transpose()\n",
    "cr_knn"
   ]
  },
  {
   "cell_type": "markdown",
   "metadata": {},
   "source": [
    "#### >> SMOTE"
   ]
  },
  {
   "cell_type": "code",
   "execution_count": 85,
   "metadata": {},
   "outputs": [
    {
     "data": {
      "text/html": [
       "<div>\n",
       "<style scoped>\n",
       "    .dataframe tbody tr th:only-of-type {\n",
       "        vertical-align: middle;\n",
       "    }\n",
       "\n",
       "    .dataframe tbody tr th {\n",
       "        vertical-align: top;\n",
       "    }\n",
       "\n",
       "    .dataframe thead th {\n",
       "        text-align: right;\n",
       "    }\n",
       "</style>\n",
       "<table border=\"1\" class=\"dataframe\">\n",
       "  <thead>\n",
       "    <tr style=\"text-align: right;\">\n",
       "      <th></th>\n",
       "      <th>precision</th>\n",
       "      <th>recall</th>\n",
       "      <th>f1-score</th>\n",
       "      <th>support</th>\n",
       "    </tr>\n",
       "  </thead>\n",
       "  <tbody>\n",
       "    <tr>\n",
       "      <td>0</td>\n",
       "      <td>0.917526</td>\n",
       "      <td>0.632021</td>\n",
       "      <td>0.748471</td>\n",
       "      <td>1549.000000</td>\n",
       "    </tr>\n",
       "    <tr>\n",
       "      <td>1</td>\n",
       "      <td>0.453500</td>\n",
       "      <td>0.843137</td>\n",
       "      <td>0.589776</td>\n",
       "      <td>561.000000</td>\n",
       "    </tr>\n",
       "    <tr>\n",
       "      <td>accuracy</td>\n",
       "      <td>0.688152</td>\n",
       "      <td>0.688152</td>\n",
       "      <td>0.688152</td>\n",
       "      <td>0.688152</td>\n",
       "    </tr>\n",
       "    <tr>\n",
       "      <td>macro avg</td>\n",
       "      <td>0.685513</td>\n",
       "      <td>0.737579</td>\n",
       "      <td>0.669123</td>\n",
       "      <td>2110.000000</td>\n",
       "    </tr>\n",
       "    <tr>\n",
       "      <td>weighted avg</td>\n",
       "      <td>0.794152</td>\n",
       "      <td>0.688152</td>\n",
       "      <td>0.706278</td>\n",
       "      <td>2110.000000</td>\n",
       "    </tr>\n",
       "  </tbody>\n",
       "</table>\n",
       "</div>"
      ],
      "text/plain": [
       "              precision    recall  f1-score      support\n",
       "0              0.917526  0.632021  0.748471  1549.000000\n",
       "1              0.453500  0.843137  0.589776   561.000000\n",
       "accuracy       0.688152  0.688152  0.688152     0.688152\n",
       "macro avg      0.685513  0.737579  0.669123  2110.000000\n",
       "weighted avg   0.794152  0.688152  0.706278  2110.000000"
      ]
     },
     "execution_count": 85,
     "metadata": {},
     "output_type": "execute_result"
    }
   ],
   "source": [
    "cm_knnsm = confusion_matrix(y_test, predict_knnsm)\n",
    "cr_knnsm = classification_report(y_test, predict_knnsm, output_dict=True)\n",
    "cr_knnsm = pd.DataFrame(cr_knnsm).transpose()\n",
    "cr_knnsm"
   ]
  },
  {
   "cell_type": "markdown",
   "metadata": {},
   "source": [
    "#### >> Oversampling"
   ]
  },
  {
   "cell_type": "code",
   "execution_count": 86,
   "metadata": {},
   "outputs": [
    {
     "data": {
      "text/html": [
       "<div>\n",
       "<style scoped>\n",
       "    .dataframe tbody tr th:only-of-type {\n",
       "        vertical-align: middle;\n",
       "    }\n",
       "\n",
       "    .dataframe tbody tr th {\n",
       "        vertical-align: top;\n",
       "    }\n",
       "\n",
       "    .dataframe thead th {\n",
       "        text-align: right;\n",
       "    }\n",
       "</style>\n",
       "<table border=\"1\" class=\"dataframe\">\n",
       "  <thead>\n",
       "    <tr style=\"text-align: right;\">\n",
       "      <th></th>\n",
       "      <th>precision</th>\n",
       "      <th>recall</th>\n",
       "      <th>f1-score</th>\n",
       "      <th>support</th>\n",
       "    </tr>\n",
       "  </thead>\n",
       "  <tbody>\n",
       "    <tr>\n",
       "      <td>0</td>\n",
       "      <td>0.914932</td>\n",
       "      <td>0.652679</td>\n",
       "      <td>0.761869</td>\n",
       "      <td>1549.000000</td>\n",
       "    </tr>\n",
       "    <tr>\n",
       "      <td>1</td>\n",
       "      <td>0.464677</td>\n",
       "      <td>0.832442</td>\n",
       "      <td>0.596424</td>\n",
       "      <td>561.000000</td>\n",
       "    </tr>\n",
       "    <tr>\n",
       "      <td>accuracy</td>\n",
       "      <td>0.700474</td>\n",
       "      <td>0.700474</td>\n",
       "      <td>0.700474</td>\n",
       "      <td>0.700474</td>\n",
       "    </tr>\n",
       "    <tr>\n",
       "      <td>macro avg</td>\n",
       "      <td>0.689804</td>\n",
       "      <td>0.742561</td>\n",
       "      <td>0.679146</td>\n",
       "      <td>2110.000000</td>\n",
       "    </tr>\n",
       "    <tr>\n",
       "      <td>weighted avg</td>\n",
       "      <td>0.795220</td>\n",
       "      <td>0.700474</td>\n",
       "      <td>0.717881</td>\n",
       "      <td>2110.000000</td>\n",
       "    </tr>\n",
       "  </tbody>\n",
       "</table>\n",
       "</div>"
      ],
      "text/plain": [
       "              precision    recall  f1-score      support\n",
       "0              0.914932  0.652679  0.761869  1549.000000\n",
       "1              0.464677  0.832442  0.596424   561.000000\n",
       "accuracy       0.700474  0.700474  0.700474     0.700474\n",
       "macro avg      0.689804  0.742561  0.679146  2110.000000\n",
       "weighted avg   0.795220  0.700474  0.717881  2110.000000"
      ]
     },
     "execution_count": 86,
     "metadata": {},
     "output_type": "execute_result"
    }
   ],
   "source": [
    "cm_knnup = confusion_matrix(y_test, predict_knnup)\n",
    "cr_knnup = classification_report(y_test, predict_knnup, output_dict=True)\n",
    "cr_knnup = pd.DataFrame(cr_knnup).transpose()\n",
    "cr_knnup"
   ]
  },
  {
   "cell_type": "markdown",
   "metadata": {},
   "source": [
    "### Decision Tree"
   ]
  },
  {
   "cell_type": "markdown",
   "metadata": {},
   "source": [
    "#### >> Non-SMOTE"
   ]
  },
  {
   "cell_type": "code",
   "execution_count": 87,
   "metadata": {},
   "outputs": [
    {
     "data": {
      "text/html": [
       "<div>\n",
       "<style scoped>\n",
       "    .dataframe tbody tr th:only-of-type {\n",
       "        vertical-align: middle;\n",
       "    }\n",
       "\n",
       "    .dataframe tbody tr th {\n",
       "        vertical-align: top;\n",
       "    }\n",
       "\n",
       "    .dataframe thead th {\n",
       "        text-align: right;\n",
       "    }\n",
       "</style>\n",
       "<table border=\"1\" class=\"dataframe\">\n",
       "  <thead>\n",
       "    <tr style=\"text-align: right;\">\n",
       "      <th></th>\n",
       "      <th>precision</th>\n",
       "      <th>recall</th>\n",
       "      <th>f1-score</th>\n",
       "      <th>support</th>\n",
       "    </tr>\n",
       "  </thead>\n",
       "  <tbody>\n",
       "    <tr>\n",
       "      <td>0</td>\n",
       "      <td>0.830341</td>\n",
       "      <td>0.865720</td>\n",
       "      <td>0.847661</td>\n",
       "      <td>1549.000000</td>\n",
       "    </tr>\n",
       "    <tr>\n",
       "      <td>1</td>\n",
       "      <td>0.579798</td>\n",
       "      <td>0.511586</td>\n",
       "      <td>0.543561</td>\n",
       "      <td>561.000000</td>\n",
       "    </tr>\n",
       "    <tr>\n",
       "      <td>accuracy</td>\n",
       "      <td>0.771564</td>\n",
       "      <td>0.771564</td>\n",
       "      <td>0.771564</td>\n",
       "      <td>0.771564</td>\n",
       "    </tr>\n",
       "    <tr>\n",
       "      <td>macro avg</td>\n",
       "      <td>0.705069</td>\n",
       "      <td>0.688653</td>\n",
       "      <td>0.695611</td>\n",
       "      <td>2110.000000</td>\n",
       "    </tr>\n",
       "    <tr>\n",
       "      <td>weighted avg</td>\n",
       "      <td>0.763727</td>\n",
       "      <td>0.771564</td>\n",
       "      <td>0.766808</td>\n",
       "      <td>2110.000000</td>\n",
       "    </tr>\n",
       "  </tbody>\n",
       "</table>\n",
       "</div>"
      ],
      "text/plain": [
       "              precision    recall  f1-score      support\n",
       "0              0.830341  0.865720  0.847661  1549.000000\n",
       "1              0.579798  0.511586  0.543561   561.000000\n",
       "accuracy       0.771564  0.771564  0.771564     0.771564\n",
       "macro avg      0.705069  0.688653  0.695611  2110.000000\n",
       "weighted avg   0.763727  0.771564  0.766808  2110.000000"
      ]
     },
     "execution_count": 87,
     "metadata": {},
     "output_type": "execute_result"
    }
   ],
   "source": [
    "cm_dtr = confusion_matrix(y_test, predict_dtr)\n",
    "cr_dtr = classification_report(y_test, predict_dtr, output_dict=True)\n",
    "cr_dtr = pd.DataFrame(cr_dtr).transpose()\n",
    "cr_dtr"
   ]
  },
  {
   "cell_type": "markdown",
   "metadata": {},
   "source": [
    "#### >> SMOTE"
   ]
  },
  {
   "cell_type": "code",
   "execution_count": 88,
   "metadata": {},
   "outputs": [
    {
     "data": {
      "text/html": [
       "<div>\n",
       "<style scoped>\n",
       "    .dataframe tbody tr th:only-of-type {\n",
       "        vertical-align: middle;\n",
       "    }\n",
       "\n",
       "    .dataframe tbody tr th {\n",
       "        vertical-align: top;\n",
       "    }\n",
       "\n",
       "    .dataframe thead th {\n",
       "        text-align: right;\n",
       "    }\n",
       "</style>\n",
       "<table border=\"1\" class=\"dataframe\">\n",
       "  <thead>\n",
       "    <tr style=\"text-align: right;\">\n",
       "      <th></th>\n",
       "      <th>precision</th>\n",
       "      <th>recall</th>\n",
       "      <th>f1-score</th>\n",
       "      <th>support</th>\n",
       "    </tr>\n",
       "  </thead>\n",
       "  <tbody>\n",
       "    <tr>\n",
       "      <td>0</td>\n",
       "      <td>0.867725</td>\n",
       "      <td>0.741123</td>\n",
       "      <td>0.799443</td>\n",
       "      <td>1549.000000</td>\n",
       "    </tr>\n",
       "    <tr>\n",
       "      <td>1</td>\n",
       "      <td>0.490470</td>\n",
       "      <td>0.688057</td>\n",
       "      <td>0.572700</td>\n",
       "      <td>561.000000</td>\n",
       "    </tr>\n",
       "    <tr>\n",
       "      <td>accuracy</td>\n",
       "      <td>0.727014</td>\n",
       "      <td>0.727014</td>\n",
       "      <td>0.727014</td>\n",
       "      <td>0.727014</td>\n",
       "    </tr>\n",
       "    <tr>\n",
       "      <td>macro avg</td>\n",
       "      <td>0.679098</td>\n",
       "      <td>0.714590</td>\n",
       "      <td>0.686072</td>\n",
       "      <td>2110.000000</td>\n",
       "    </tr>\n",
       "    <tr>\n",
       "      <td>weighted avg</td>\n",
       "      <td>0.767422</td>\n",
       "      <td>0.727014</td>\n",
       "      <td>0.739157</td>\n",
       "      <td>2110.000000</td>\n",
       "    </tr>\n",
       "  </tbody>\n",
       "</table>\n",
       "</div>"
      ],
      "text/plain": [
       "              precision    recall  f1-score      support\n",
       "0              0.867725  0.741123  0.799443  1549.000000\n",
       "1              0.490470  0.688057  0.572700   561.000000\n",
       "accuracy       0.727014  0.727014  0.727014     0.727014\n",
       "macro avg      0.679098  0.714590  0.686072  2110.000000\n",
       "weighted avg   0.767422  0.727014  0.739157  2110.000000"
      ]
     },
     "execution_count": 88,
     "metadata": {},
     "output_type": "execute_result"
    }
   ],
   "source": [
    "cm_dtrsm = confusion_matrix(y_test, predict_dtrsm)\n",
    "cr_dtrsm = classification_report(y_test, predict_dtrsm, output_dict=True)\n",
    "cr_dtrsm = pd.DataFrame(cr_dtrsm).transpose()\n",
    "cr_dtrsm"
   ]
  },
  {
   "cell_type": "markdown",
   "metadata": {},
   "source": [
    "#### >> Oversampling"
   ]
  },
  {
   "cell_type": "code",
   "execution_count": 89,
   "metadata": {},
   "outputs": [
    {
     "data": {
      "text/html": [
       "<div>\n",
       "<style scoped>\n",
       "    .dataframe tbody tr th:only-of-type {\n",
       "        vertical-align: middle;\n",
       "    }\n",
       "\n",
       "    .dataframe tbody tr th {\n",
       "        vertical-align: top;\n",
       "    }\n",
       "\n",
       "    .dataframe thead th {\n",
       "        text-align: right;\n",
       "    }\n",
       "</style>\n",
       "<table border=\"1\" class=\"dataframe\">\n",
       "  <thead>\n",
       "    <tr style=\"text-align: right;\">\n",
       "      <th></th>\n",
       "      <th>precision</th>\n",
       "      <th>recall</th>\n",
       "      <th>f1-score</th>\n",
       "      <th>support</th>\n",
       "    </tr>\n",
       "  </thead>\n",
       "  <tbody>\n",
       "    <tr>\n",
       "      <td>0</td>\n",
       "      <td>0.867725</td>\n",
       "      <td>0.741123</td>\n",
       "      <td>0.799443</td>\n",
       "      <td>1549.000000</td>\n",
       "    </tr>\n",
       "    <tr>\n",
       "      <td>1</td>\n",
       "      <td>0.490470</td>\n",
       "      <td>0.688057</td>\n",
       "      <td>0.572700</td>\n",
       "      <td>561.000000</td>\n",
       "    </tr>\n",
       "    <tr>\n",
       "      <td>accuracy</td>\n",
       "      <td>0.727014</td>\n",
       "      <td>0.727014</td>\n",
       "      <td>0.727014</td>\n",
       "      <td>0.727014</td>\n",
       "    </tr>\n",
       "    <tr>\n",
       "      <td>macro avg</td>\n",
       "      <td>0.679098</td>\n",
       "      <td>0.714590</td>\n",
       "      <td>0.686072</td>\n",
       "      <td>2110.000000</td>\n",
       "    </tr>\n",
       "    <tr>\n",
       "      <td>weighted avg</td>\n",
       "      <td>0.767422</td>\n",
       "      <td>0.727014</td>\n",
       "      <td>0.739157</td>\n",
       "      <td>2110.000000</td>\n",
       "    </tr>\n",
       "  </tbody>\n",
       "</table>\n",
       "</div>"
      ],
      "text/plain": [
       "              precision    recall  f1-score      support\n",
       "0              0.867725  0.741123  0.799443  1549.000000\n",
       "1              0.490470  0.688057  0.572700   561.000000\n",
       "accuracy       0.727014  0.727014  0.727014     0.727014\n",
       "macro avg      0.679098  0.714590  0.686072  2110.000000\n",
       "weighted avg   0.767422  0.727014  0.739157  2110.000000"
      ]
     },
     "execution_count": 89,
     "metadata": {},
     "output_type": "execute_result"
    }
   ],
   "source": [
    "cm_dtrup = confusion_matrix(y_test, predict_dtrup)\n",
    "cr_dtrup = classification_report(y_test, predict_dtrup, output_dict=True)\n",
    "cr_dtrup = pd.DataFrame(cr_dtrup).transpose()\n",
    "cr_dtrup"
   ]
  },
  {
   "cell_type": "markdown",
   "metadata": {},
   "source": [
    "### Random Forest"
   ]
  },
  {
   "cell_type": "markdown",
   "metadata": {},
   "source": [
    "#### >> Non-SMOTE"
   ]
  },
  {
   "cell_type": "code",
   "execution_count": 91,
   "metadata": {},
   "outputs": [
    {
     "data": {
      "text/html": [
       "<div>\n",
       "<style scoped>\n",
       "    .dataframe tbody tr th:only-of-type {\n",
       "        vertical-align: middle;\n",
       "    }\n",
       "\n",
       "    .dataframe tbody tr th {\n",
       "        vertical-align: top;\n",
       "    }\n",
       "\n",
       "    .dataframe thead th {\n",
       "        text-align: right;\n",
       "    }\n",
       "</style>\n",
       "<table border=\"1\" class=\"dataframe\">\n",
       "  <thead>\n",
       "    <tr style=\"text-align: right;\">\n",
       "      <th></th>\n",
       "      <th>precision</th>\n",
       "      <th>recall</th>\n",
       "      <th>f1-score</th>\n",
       "      <th>support</th>\n",
       "    </tr>\n",
       "  </thead>\n",
       "  <tbody>\n",
       "    <tr>\n",
       "      <td>0</td>\n",
       "      <td>0.832539</td>\n",
       "      <td>0.901872</td>\n",
       "      <td>0.865820</td>\n",
       "      <td>1549.000000</td>\n",
       "    </tr>\n",
       "    <tr>\n",
       "      <td>1</td>\n",
       "      <td>0.648148</td>\n",
       "      <td>0.499109</td>\n",
       "      <td>0.563948</td>\n",
       "      <td>561.000000</td>\n",
       "    </tr>\n",
       "    <tr>\n",
       "      <td>accuracy</td>\n",
       "      <td>0.794787</td>\n",
       "      <td>0.794787</td>\n",
       "      <td>0.794787</td>\n",
       "      <td>0.794787</td>\n",
       "    </tr>\n",
       "    <tr>\n",
       "      <td>macro avg</td>\n",
       "      <td>0.740343</td>\n",
       "      <td>0.700490</td>\n",
       "      <td>0.714884</td>\n",
       "      <td>2110.000000</td>\n",
       "    </tr>\n",
       "    <tr>\n",
       "      <td>weighted avg</td>\n",
       "      <td>0.783514</td>\n",
       "      <td>0.794787</td>\n",
       "      <td>0.785559</td>\n",
       "      <td>2110.000000</td>\n",
       "    </tr>\n",
       "  </tbody>\n",
       "</table>\n",
       "</div>"
      ],
      "text/plain": [
       "              precision    recall  f1-score      support\n",
       "0              0.832539  0.901872  0.865820  1549.000000\n",
       "1              0.648148  0.499109  0.563948   561.000000\n",
       "accuracy       0.794787  0.794787  0.794787     0.794787\n",
       "macro avg      0.740343  0.700490  0.714884  2110.000000\n",
       "weighted avg   0.783514  0.794787  0.785559  2110.000000"
      ]
     },
     "execution_count": 91,
     "metadata": {},
     "output_type": "execute_result"
    }
   ],
   "source": [
    "cm_rfc = confusion_matrix(y_test, predict_rfc)\n",
    "cr_rfc = classification_report(y_test, predict_rfc, output_dict=True)\n",
    "cr_rfc = pd.DataFrame(cr_rfc).transpose()\n",
    "cr_rfc"
   ]
  },
  {
   "cell_type": "markdown",
   "metadata": {},
   "source": [
    "#### >> SMOTE"
   ]
  },
  {
   "cell_type": "code",
   "execution_count": 93,
   "metadata": {},
   "outputs": [
    {
     "data": {
      "text/html": [
       "<div>\n",
       "<style scoped>\n",
       "    .dataframe tbody tr th:only-of-type {\n",
       "        vertical-align: middle;\n",
       "    }\n",
       "\n",
       "    .dataframe tbody tr th {\n",
       "        vertical-align: top;\n",
       "    }\n",
       "\n",
       "    .dataframe thead th {\n",
       "        text-align: right;\n",
       "    }\n",
       "</style>\n",
       "<table border=\"1\" class=\"dataframe\">\n",
       "  <thead>\n",
       "    <tr style=\"text-align: right;\">\n",
       "      <th></th>\n",
       "      <th>precision</th>\n",
       "      <th>recall</th>\n",
       "      <th>f1-score</th>\n",
       "      <th>support</th>\n",
       "    </tr>\n",
       "  </thead>\n",
       "  <tbody>\n",
       "    <tr>\n",
       "      <td>0</td>\n",
       "      <td>0.850590</td>\n",
       "      <td>0.837960</td>\n",
       "      <td>0.844228</td>\n",
       "      <td>1549.000000</td>\n",
       "    </tr>\n",
       "    <tr>\n",
       "      <td>1</td>\n",
       "      <td>0.570205</td>\n",
       "      <td>0.593583</td>\n",
       "      <td>0.581659</td>\n",
       "      <td>561.000000</td>\n",
       "    </tr>\n",
       "    <tr>\n",
       "      <td>accuracy</td>\n",
       "      <td>0.772986</td>\n",
       "      <td>0.772986</td>\n",
       "      <td>0.772986</td>\n",
       "      <td>0.772986</td>\n",
       "    </tr>\n",
       "    <tr>\n",
       "      <td>macro avg</td>\n",
       "      <td>0.710398</td>\n",
       "      <td>0.715771</td>\n",
       "      <td>0.712944</td>\n",
       "      <td>2110.000000</td>\n",
       "    </tr>\n",
       "    <tr>\n",
       "      <td>weighted avg</td>\n",
       "      <td>0.776042</td>\n",
       "      <td>0.772986</td>\n",
       "      <td>0.774417</td>\n",
       "      <td>2110.000000</td>\n",
       "    </tr>\n",
       "  </tbody>\n",
       "</table>\n",
       "</div>"
      ],
      "text/plain": [
       "              precision    recall  f1-score      support\n",
       "0              0.850590  0.837960  0.844228  1549.000000\n",
       "1              0.570205  0.593583  0.581659   561.000000\n",
       "accuracy       0.772986  0.772986  0.772986     0.772986\n",
       "macro avg      0.710398  0.715771  0.712944  2110.000000\n",
       "weighted avg   0.776042  0.772986  0.774417  2110.000000"
      ]
     },
     "execution_count": 93,
     "metadata": {},
     "output_type": "execute_result"
    }
   ],
   "source": [
    "cm_rfcsm = confusion_matrix(y_test, predict_rfcsm)\n",
    "cr_rfcsm = classification_report(y_test, predict_rfcsm, output_dict=True)\n",
    "cr_rfcsm = pd.DataFrame(cr_rfcsm).transpose()\n",
    "cr_rfcsm"
   ]
  },
  {
   "cell_type": "markdown",
   "metadata": {},
   "source": [
    "#### >> Oversampling"
   ]
  },
  {
   "cell_type": "code",
   "execution_count": 94,
   "metadata": {},
   "outputs": [
    {
     "data": {
      "text/html": [
       "<div>\n",
       "<style scoped>\n",
       "    .dataframe tbody tr th:only-of-type {\n",
       "        vertical-align: middle;\n",
       "    }\n",
       "\n",
       "    .dataframe tbody tr th {\n",
       "        vertical-align: top;\n",
       "    }\n",
       "\n",
       "    .dataframe thead th {\n",
       "        text-align: right;\n",
       "    }\n",
       "</style>\n",
       "<table border=\"1\" class=\"dataframe\">\n",
       "  <thead>\n",
       "    <tr style=\"text-align: right;\">\n",
       "      <th></th>\n",
       "      <th>precision</th>\n",
       "      <th>recall</th>\n",
       "      <th>f1-score</th>\n",
       "      <th>support</th>\n",
       "    </tr>\n",
       "  </thead>\n",
       "  <tbody>\n",
       "    <tr>\n",
       "      <td>0</td>\n",
       "      <td>0.816146</td>\n",
       "      <td>0.894125</td>\n",
       "      <td>0.853358</td>\n",
       "      <td>1549.000000</td>\n",
       "    </tr>\n",
       "    <tr>\n",
       "      <td>1</td>\n",
       "      <td>0.602906</td>\n",
       "      <td>0.443850</td>\n",
       "      <td>0.511294</td>\n",
       "      <td>561.000000</td>\n",
       "    </tr>\n",
       "    <tr>\n",
       "      <td>accuracy</td>\n",
       "      <td>0.774408</td>\n",
       "      <td>0.774408</td>\n",
       "      <td>0.774408</td>\n",
       "      <td>0.774408</td>\n",
       "    </tr>\n",
       "    <tr>\n",
       "      <td>macro avg</td>\n",
       "      <td>0.709526</td>\n",
       "      <td>0.668988</td>\n",
       "      <td>0.682326</td>\n",
       "      <td>2110.000000</td>\n",
       "    </tr>\n",
       "    <tr>\n",
       "      <td>weighted avg</td>\n",
       "      <td>0.759450</td>\n",
       "      <td>0.774408</td>\n",
       "      <td>0.762411</td>\n",
       "      <td>2110.000000</td>\n",
       "    </tr>\n",
       "  </tbody>\n",
       "</table>\n",
       "</div>"
      ],
      "text/plain": [
       "              precision    recall  f1-score      support\n",
       "0              0.816146  0.894125  0.853358  1549.000000\n",
       "1              0.602906  0.443850  0.511294   561.000000\n",
       "accuracy       0.774408  0.774408  0.774408     0.774408\n",
       "macro avg      0.709526  0.668988  0.682326  2110.000000\n",
       "weighted avg   0.759450  0.774408  0.762411  2110.000000"
      ]
     },
     "execution_count": 94,
     "metadata": {},
     "output_type": "execute_result"
    }
   ],
   "source": [
    "cm_rfcup = confusion_matrix(y_test, predict_rfcup)\n",
    "cr_rfcup = classification_report(y_test, predict_rfcup, output_dict=True)\n",
    "cr_rfcup = pd.DataFrame(cr_rfcup).transpose()\n",
    "cr_rfcup"
   ]
  },
  {
   "cell_type": "markdown",
   "metadata": {},
   "source": [
    "### Plot Visualization of Models"
   ]
  },
  {
   "cell_type": "markdown",
   "metadata": {},
   "source": [
    "#### >> Non-SMOTE"
   ]
  },
  {
   "cell_type": "code",
   "execution_count": 95,
   "metadata": {},
   "outputs": [],
   "source": [
    "prob1_lr = proba_lr[:,1]\n",
    "fpr_lr, tpr_lr, thres_lr = roc_curve(y_test, prob1_lr)\n",
    "roc_auc_lr = auc(fpr_lr, tpr_lr)\n",
    "\n",
    "prob1_dtr = proba_dtr[:,1]\n",
    "fpr_dtr, tpr_dtr, thres_dtr = roc_curve(y_test, prob1_dtr)\n",
    "roc_auc_dtr = auc(fpr_dtr, tpr_dtr)\n",
    "\n",
    "prob1_knn = proba_knn[:,1]\n",
    "fpr_knn, tpr_knn, thres_knn = roc_curve(y_test, prob1_knn)\n",
    "roc_auc_knn = auc(fpr_knn, tpr_knn)\n",
    "\n",
    "prob1_rfc = proba_rfc[:,1]\n",
    "fpr_rfc, tpr_rfc, thres_rfc = roc_curve(y_test, prob1_rfc)\n",
    "roc_auc_rfc = auc(fpr_rfc, tpr_rfc)"
   ]
  },
  {
   "cell_type": "code",
   "execution_count": 98,
   "metadata": {},
   "outputs": [
    {
     "data": {
      "text/plain": [
       "<matplotlib.legend.Legend at 0x208d91a28c8>"
      ]
     },
     "execution_count": 98,
     "metadata": {},
     "output_type": "execute_result"
    },
    {
     "data": {
      "image/png": "[encoded data removed]",
      "text/plain": [
       "<Figure size 1440x720 with 4 Axes>"
      ]
     },
     "metadata": {
      "needs_background": "light"
     },
     "output_type": "display_data"
    }
   ],
   "source": [
    "plt.figure(figsize=(20,10))\n",
    "plt.subplot(141)\n",
    "plt.title('ROC AUC Logistic Regression')\n",
    "plt.plot(fpr_lr, tpr_lr, 'blue', label='AUC Logistic Regression = {}'.format(round(roc_auc_lr,4)))\n",
    "plt.plot([0,1],[0,1], 'r--')\n",
    "plt.xlim([0,1])\n",
    "plt.ylim([0,1])\n",
    "plt.xlabel('False Positive Rate')\n",
    "plt.ylabel('True Positive Rate')\n",
    "plt.fill_between(fpr_lr,tpr_lr, 0, facecolor='azure', alpha=1)\n",
    "plt.legend(loc = 'lower right')\n",
    "\n",
    "plt.subplot(142)\n",
    "plt.title('ROC AUC K-Nearest Neighbour')\n",
    "plt.plot(fpr_knn, tpr_knn, 'brown', label='AUC K-Nearest Neighbour = {}'.format(round(roc_auc_knn,4)))\n",
    "plt.plot([0,1],[0,1], 'r--')\n",
    "plt.xlim([0,1])\n",
    "plt.ylim([0,1])\n",
    "plt.xlabel('False Positive Rate')\n",
    "plt.ylabel('True Positive Rate')\n",
    "plt.fill_between(fpr_knn,tpr_knn, 0, facecolor='orange', alpha=1)\n",
    "plt.legend(loc = 'lower right')\n",
    "\n",
    "plt.subplot(143)\n",
    "plt.title('ROC AUC Decision Tree')\n",
    "plt.plot(fpr_dtr, tpr_dtr, 'red', label='AUC Decision Tree = {}'.format(round(roc_auc_dtr,4)))\n",
    "plt.plot([0,1],[0,1], 'r--')\n",
    "plt.xlim([0,1])\n",
    "plt.ylim([0,1])\n",
    "plt.xlabel('False Positive Rate')\n",
    "plt.ylabel('True Positive Rate')\n",
    "plt.fill_between(fpr_dtr,tpr_dtr, 0, facecolor='pink', alpha=1)\n",
    "plt.legend(loc = 'lower right')\n",
    "\n",
    "plt.subplot(144)\n",
    "plt.title('ROC AUC Random Forest')\n",
    "plt.plot(fpr_rfc, tpr_rfc, 'red', label='AUC Random Forest = {}'.format(round(roc_auc_rfc,4)))\n",
    "plt.plot([0,1],[0,1], 'r--')\n",
    "plt.xlim([0,1])\n",
    "plt.ylim([0,1])\n",
    "plt.xlabel('False Positive Rate')\n",
    "plt.ylabel('True Positive Rate')\n",
    "plt.fill_between(fpr_rfc,tpr_rfc, 0, facecolor='green', alpha=1)\n",
    "plt.legend(loc = 'lower right')"
   ]
  },
  {
   "cell_type": "markdown",
   "metadata": {},
   "source": [
    "#### >> SMOTE"
   ]
  },
  {
   "cell_type": "code",
   "execution_count": 99,
   "metadata": {},
   "outputs": [],
   "source": [
    "prob1_lrsm = proba_lrsm[:,1]\n",
    "fpr_lrsm, tpr_lrsm, thres_lrsm = roc_curve(y_test, prob1_lrsm)\n",
    "roc_auc_lrsm = auc(fpr_lrsm, tpr_lrsm)\n",
    "\n",
    "prob1_dtrsm = proba_dtrsm[:,1]\n",
    "fpr_dtrsm, tpr_dtrsm, thres_dtrsm = roc_curve(y_test, prob1_dtrsm)\n",
    "roc_auc_dtrsm = auc(fpr_dtrsm, tpr_dtrsm)\n",
    "\n",
    "prob1_knnsm = proba_knnsm[:,1]\n",
    "fpr_knnsm, tpr_knnsm, thres_knnsm = roc_curve(y_test, prob1_knnsm)\n",
    "roc_auc_knnsm = auc(fpr_knnsm, tpr_knnsm)\n",
    "\n",
    "prob1_rfcsm = proba_rfcsm[:,1]\n",
    "fpr_rfcsm, tpr_rfcsm, thres_rfcsm = roc_curve(y_test, prob1_rfcsm)\n",
    "roc_auc_rfcsm = auc(fpr_rfcsm, tpr_rfcsm)"
   ]
  },
  {
   "cell_type": "code",
   "execution_count": 100,
   "metadata": {},
   "outputs": [
    {
     "data": {
      "text/plain": [
       "<matplotlib.legend.Legend at 0x208d9a26188>"
      ]
     },
     "execution_count": 100,
     "metadata": {},
     "output_type": "execute_result"
    },
    {
     "data": {
      "image/png": "[encoded data removed]",
      "text/plain": [
       "<Figure size 1440x720 with 4 Axes>"
      ]
     },
     "metadata": {
      "needs_background": "light"
     },
     "output_type": "display_data"
    }
   ],
   "source": [
    "plt.figure(figsize=(20,10))\n",
    "plt.subplot(141)\n",
    "plt.title('ROC AUC Logistic Regression')\n",
    "plt.plot(fpr_lrsm, tpr_lrsm, 'blue', label='AUC Logistic Regression = {}'.format(round(roc_auc_lrsm,4)))\n",
    "plt.plot([0,1],[0,1], 'r--')\n",
    "plt.xlim([0,1])\n",
    "plt.ylim([0,1])\n",
    "plt.xlabel('False Positive Rate')\n",
    "plt.ylabel('True Positive Rate')\n",
    "plt.fill_between(fpr_lrsm,tpr_lrsm, 0, facecolor='azure', alpha=1)\n",
    "plt.legend(loc = 'lower right')\n",
    "\n",
    "plt.subplot(142)\n",
    "plt.title('ROC AUC K-Nearest Neighbour')\n",
    "plt.plot(fpr_knnsm, tpr_knnsm, 'brown', label='AUC K-Nearest Neighbour = {}'.format(round(roc_auc_knnsm,4)))\n",
    "plt.plot([0,1],[0,1], 'r--')\n",
    "plt.xlim([0,1])\n",
    "plt.ylim([0,1])\n",
    "plt.xlabel('False Positive Rate')\n",
    "plt.ylabel('True Positive Rate')\n",
    "plt.fill_between(fpr_knnsm,tpr_knnsm, 0, facecolor='orange', alpha=1)\n",
    "plt.legend(loc = 'lower right')\n",
    "\n",
    "plt.subplot(143)\n",
    "plt.title('ROC AUC Decision Tree')\n",
    "plt.plot(fpr_dtrsm, tpr_dtrsm, 'red', label='AUC Decision Tree = {}'.format(round(roc_auc_dtrsm,4)))\n",
    "plt.plot([0,1],[0,1], 'r--')\n",
    "plt.xlim([0,1])\n",
    "plt.ylim([0,1])\n",
    "plt.xlabel('False Positive Rate')\n",
    "plt.ylabel('True Positive Rate')\n",
    "plt.fill_between(fpr_dtrsm,tpr_dtrsm, 0, facecolor='pink', alpha=1)\n",
    "plt.legend(loc = 'lower right')\n",
    "\n",
    "plt.subplot(144)\n",
    "plt.title('ROC AUC Random Forest')\n",
    "plt.plot(fpr_rfcsm, tpr_rfcsm, 'red', label='AUC Random Forest = {}'.format(round(roc_auc_rfcsm,4)))\n",
    "plt.plot([0,1],[0,1], 'r--')\n",
    "plt.xlim([0,1])\n",
    "plt.ylim([0,1])\n",
    "plt.xlabel('False Positive Rate')\n",
    "plt.ylabel('True Positive Rate')\n",
    "plt.fill_between(fpr_rfcsm,tpr_rfcsm, 0, facecolor='green', alpha=1)\n",
    "plt.legend(loc = 'lower right')"
   ]
  },
  {
   "cell_type": "markdown",
   "metadata": {},
   "source": [
    "#### >> Oversampling"
   ]
  },
  {
   "cell_type": "code",
   "execution_count": 101,
   "metadata": {},
   "outputs": [],
   "source": [
    "prob1_lrup = proba_lrup[:,1]\n",
    "fpr_lrup, tpr_lrup, thres_lrup = roc_curve(y_test, prob1_lrup)\n",
    "roc_auc_lrup = auc(fpr_lrup, tpr_lrup)\n",
    "\n",
    "prob1_dtrup = proba_dtrup[:,1]\n",
    "fpr_dtrup, tpr_dtrup, thres_dtrup = roc_curve(y_test, prob1_dtrup)\n",
    "roc_auc_dtrup = auc(fpr_dtrup, tpr_dtrup)\n",
    "\n",
    "prob1_knnup = proba_knnup[:,1]\n",
    "fpr_knnup, tpr_knnup, thres_knnup = roc_curve(y_test, prob1_knnup)\n",
    "roc_auc_knnup = auc(fpr_knnup, tpr_knnup)\n",
    "\n",
    "prob1_rfcup = proba_rfcup[:,1]\n",
    "fpr_rfcup, tpr_rfcup, thres_rfcup = roc_curve(y_test, prob1_rfcup)\n",
    "roc_auc_rfcup = auc(fpr_rfcup, tpr_rfcup)"
   ]
  },
  {
   "cell_type": "code",
   "execution_count": 102,
   "metadata": {},
   "outputs": [
    {
     "data": {
      "text/plain": [
       "<matplotlib.legend.Legend at 0x208d9b35908>"
      ]
     },
     "execution_count": 102,
     "metadata": {},
     "output_type": "execute_result"
    },
    {
     "data": {
      "image/png": "[encoded data removed]",
      "text/plain": [
       "<Figure size 1440x720 with 4 Axes>"
      ]
     },
     "metadata": {
      "needs_background": "light"
     },
     "output_type": "display_data"
    }
   ],
   "source": [
    "plt.figure(figsize=(20,10))\n",
    "plt.subplot(141)\n",
    "plt.title('ROC AUC Logistic Regression')\n",
    "plt.plot(fpr_lrup, tpr_lrup, 'blue', label='AUC Logistic Regression = {}'.format(round(roc_auc_lrup,4)))\n",
    "plt.plot([0,1],[0,1], 'r--')\n",
    "plt.xlim([0,1])\n",
    "plt.ylim([0,1])\n",
    "plt.xlabel('False Positive Rate')\n",
    "plt.ylabel('True Positive Rate')\n",
    "plt.fill_between(fpr_lrup,tpr_lrup, 0, facecolor='azure', alpha=1)\n",
    "plt.legend(loc = 'lower right')\n",
    "\n",
    "plt.subplot(142)\n",
    "plt.title('ROC AUC K-Nearest Neighbour')\n",
    "plt.plot(fpr_knnup, tpr_knnup, 'brown', label='AUC K-Nearest Neighbour = {}'.format(round(roc_auc_knnup,4)))\n",
    "plt.plot([0,1],[0,1], 'r--')\n",
    "plt.xlim([0,1])\n",
    "plt.ylim([0,1])\n",
    "plt.xlabel('False Positive Rate')\n",
    "plt.ylabel('True Positive Rate')\n",
    "plt.fill_between(fpr_knnup,tpr_knnup, 0, facecolor='orange', alpha=1)\n",
    "plt.legend(loc = 'lower right')\n",
    "\n",
    "plt.subplot(143)\n",
    "plt.title('ROC AUC Decision Tree')\n",
    "plt.plot(fpr_dtrup, tpr_dtrup, 'red', label='AUC Decision Tree = {}'.format(round(roc_auc_dtrup,4)))\n",
    "plt.plot([0,1],[0,1], 'r--')\n",
    "plt.xlim([0,1])\n",
    "plt.ylim([0,1])\n",
    "plt.xlabel('False Positive Rate')\n",
    "plt.ylabel('True Positive Rate')\n",
    "plt.fill_between(fpr_dtrup,tpr_dtrup, 0, facecolor='pink', alpha=1)\n",
    "plt.legend(loc = 'lower right')\n",
    "\n",
    "plt.subplot(144)\n",
    "plt.title('ROC AUC Random Forest')\n",
    "plt.plot(fpr_rfcup, tpr_rfcup, 'red', label='AUC Random Forest = {}'.format(round(roc_auc_rfcup,4)))\n",
    "plt.plot([0,1],[0,1], 'r--')\n",
    "plt.xlim([0,1])\n",
    "plt.ylim([0,1])\n",
    "plt.xlabel('False Positive Rate')\n",
    "plt.ylabel('True Positive Rate')\n",
    "plt.fill_between(fpr_rfcup,tpr_rfcup, 0, facecolor='green', alpha=1)\n",
    "plt.legend(loc = 'lower right')"
   ]
  },
  {
   "cell_type": "markdown",
   "metadata": {},
   "source": [
    "## 8. Classification Report"
   ]
  },
  {
   "cell_type": "code",
   "execution_count": 122,
   "metadata": {},
   "outputs": [
    {
     "data": {
      "text/html": [
       "<div>\n",
       "<style scoped>\n",
       "    .dataframe tbody tr th:only-of-type {\n",
       "        vertical-align: middle;\n",
       "    }\n",
       "\n",
       "    .dataframe tbody tr th {\n",
       "        vertical-align: top;\n",
       "    }\n",
       "\n",
       "    .dataframe thead th {\n",
       "        text-align: right;\n",
       "    }\n",
       "</style>\n",
       "<table border=\"1\" class=\"dataframe\">\n",
       "  <thead>\n",
       "    <tr style=\"text-align: right;\">\n",
       "      <th></th>\n",
       "      <th>Scores</th>\n",
       "      <th>False Positive</th>\n",
       "      <th>Precision +</th>\n",
       "      <th>Recall -</th>\n",
       "    </tr>\n",
       "  </thead>\n",
       "  <tbody>\n",
       "    <tr>\n",
       "      <td>LogReg</td>\n",
       "      <td>0.794313</td>\n",
       "      <td>174</td>\n",
       "      <td>0.633684</td>\n",
       "      <td>0.887669</td>\n",
       "    </tr>\n",
       "    <tr>\n",
       "      <td>KNN</td>\n",
       "      <td>0.783886</td>\n",
       "      <td>230</td>\n",
       "      <td>0.592920</td>\n",
       "      <td>0.851517</td>\n",
       "    </tr>\n",
       "    <tr>\n",
       "      <td>DST</td>\n",
       "      <td>0.771564</td>\n",
       "      <td>208</td>\n",
       "      <td>0.579798</td>\n",
       "      <td>0.865720</td>\n",
       "    </tr>\n",
       "    <tr>\n",
       "      <td>RFC</td>\n",
       "      <td>0.794787</td>\n",
       "      <td>152</td>\n",
       "      <td>0.648148</td>\n",
       "      <td>0.901872</td>\n",
       "    </tr>\n",
       "    <tr>\n",
       "      <td>LogReg-SMOTE</td>\n",
       "      <td>0.779192</td>\n",
       "      <td>423</td>\n",
       "      <td>0.516571</td>\n",
       "      <td>0.726921</td>\n",
       "    </tr>\n",
       "    <tr>\n",
       "      <td>KNN-SMOTE</td>\n",
       "      <td>0.770891</td>\n",
       "      <td>570</td>\n",
       "      <td>0.453500</td>\n",
       "      <td>0.632021</td>\n",
       "    </tr>\n",
       "    <tr>\n",
       "      <td>DST-SMOTE</td>\n",
       "      <td>0.840897</td>\n",
       "      <td>401</td>\n",
       "      <td>0.490470</td>\n",
       "      <td>0.741123</td>\n",
       "    </tr>\n",
       "    <tr>\n",
       "      <td>RFC-SMOTE</td>\n",
       "      <td>0.986995</td>\n",
       "      <td>251</td>\n",
       "      <td>0.570205</td>\n",
       "      <td>0.837960</td>\n",
       "    </tr>\n",
       "    <tr>\n",
       "      <td>LogReg-Oversampling</td>\n",
       "      <td>0.765495</td>\n",
       "      <td>439</td>\n",
       "      <td>0.507295</td>\n",
       "      <td>0.716591</td>\n",
       "    </tr>\n",
       "    <tr>\n",
       "      <td>KNN-Oversampling</td>\n",
       "      <td>0.758578</td>\n",
       "      <td>538</td>\n",
       "      <td>0.464677</td>\n",
       "      <td>0.652679</td>\n",
       "    </tr>\n",
       "    <tr>\n",
       "      <td>DST-Oversampling</td>\n",
       "      <td>0.807416</td>\n",
       "      <td>401</td>\n",
       "      <td>0.490470</td>\n",
       "      <td>0.741123</td>\n",
       "    </tr>\n",
       "    <tr>\n",
       "      <td>RFC-Oversampling</td>\n",
       "      <td>0.999170</td>\n",
       "      <td>164</td>\n",
       "      <td>0.602906</td>\n",
       "      <td>0.894125</td>\n",
       "    </tr>\n",
       "  </tbody>\n",
       "</table>\n",
       "</div>"
      ],
      "text/plain": [
       "                       Scores  False Positive  Precision +  Recall -\n",
       "LogReg               0.794313             174     0.633684  0.887669\n",
       "KNN                  0.783886             230     0.592920  0.851517\n",
       "DST                  0.771564             208     0.579798  0.865720\n",
       "RFC                  0.794787             152     0.648148  0.901872\n",
       "LogReg-SMOTE         0.779192             423     0.516571  0.726921\n",
       "KNN-SMOTE            0.770891             570     0.453500  0.632021\n",
       "DST-SMOTE            0.840897             401     0.490470  0.741123\n",
       "RFC-SMOTE            0.986995             251     0.570205  0.837960\n",
       "LogReg-Oversampling  0.765495             439     0.507295  0.716591\n",
       "KNN-Oversampling     0.758578             538     0.464677  0.652679\n",
       "DST-Oversampling     0.807416             401     0.490470  0.741123\n",
       "RFC-Oversampling     0.999170             164     0.602906  0.894125"
      ]
     },
     "execution_count": 122,
     "metadata": {},
     "output_type": "execute_result"
    }
   ],
   "source": [
    "list = [['LogReg',scores_df['scores'][0],cm_lr[0,1],cr_lr['precision'][1],cr_lr['recall'][0]],\n",
    "        ['KNN',scores_df['scores'][1],cm_knn[0,1],cr_knn['precision'][1],cr_knn['recall'][0]],\n",
    "        ['DST',scores_df['scores'][2],cm_dtr[0,1],cr_dtr['precision'][1],cr_dtr['recall'][0]],\n",
    "        ['RFC',scores_df['scores'][3],cm_rfc[0,1],cr_rfc['precision'][1],cr_rfc['recall'][0]],\n",
    "        ['LogReg-SMOTE',scores_dfsm['scores'][0],cm_lrsm[0,1],cr_lrsm['precision'][1],cr_lrsm['recall'][0]],\n",
    "        ['KNN-SMOTE',scores_dfsm['scores'][1],cm_knnsm[0,1],cr_knnsm['precision'][1],cr_knnsm['recall'][0]],\n",
    "        ['DST-SMOTE',scores_dfsm['scores'][2],cm_dtrsm[0,1],cr_dtrsm['precision'][1],cr_dtrsm['recall'][0]],\n",
    "        ['RFC-SMOTE',scores_dfsm['scores'][3],cm_rfcsm[0,1],cr_rfcsm['precision'][1],cr_rfcsm['recall'][0]],\n",
    "        ['LogReg-Oversampling',scores_dfup['scores'][0],cm_lrup[0,1],cr_lrup['precision'][1],cr_lrup['recall'][0]],\n",
    "        ['KNN-Oversampling',scores_dfup['scores'][1],cm_knnup[0,1],cr_knnup['precision'][1],cr_knnup['recall'][0]],\n",
    "        ['DST-Oversampling',scores_dfup['scores'][2],cm_dtrup[0,1],cr_dtrup['precision'][1],cr_dtrup['recall'][0]],\n",
    "        ['RFC-Oversampling',scores_dfup['scores'][3],cm_rfcup[0,1],cr_rfcup['precision'][1],cr_rfcup['recall'][0]]]\n",
    "report=pd.DataFrame(list,columns=['model','Scores','False Positive','Precision +','Recall -'],\n",
    "                   index=[i[0]for i in list])\n",
    "report.drop('model',axis=1)"
   ]
  },
  {
   "cell_type": "markdown",
   "metadata": {},
   "source": [
    "From the results above, we can conclude that:\n",
    "* If the company would like to doing promotion, they have to more focuse to FP (False Positive) since it has the lowest score means that this is the best score than others. We don't want to lose the opportunity to get the customer who keep to stay when giving the promotion.\n",
    "* As we focuse on FP, then we will focus on Precision (+) and Recall (-) which both metrics have FP as one of the contributing factors.\n",
    " - Precision(+) = $\\displaystyle \\frac{TP}{TP+FP}$\n",
    " - Recall(-) = $\\displaystyle \\frac{TN}{TN+FP}$\n",
    "* I choose Logistic Regression (Logreg) as the best estimator than other models as Logreg have the highest AUC score (0.84) even on non-SMOTE, SMOTE, or oversampling. Although, from the scoring, the RFC-Oversampling is the highest, but I think the data is too oversampled since the score is 0.99, almost 1."
   ]
  },
  {
   "cell_type": "code",
   "execution_count": 123,
   "metadata": {},
   "outputs": [],
   "source": [
    "lr_rand = logreg_random.best_estimator_"
   ]
  },
  {
   "cell_type": "code",
   "execution_count": 124,
   "metadata": {},
   "outputs": [
    {
     "name": "stdout",
     "output_type": "stream",
     "text": [
      "<sklearn.metrics._plot.confusion_matrix.ConfusionMatrixDisplay object at 0x00000208CBE93188>\n"
     ]
    },
    {
     "data": {
      "image/png": "[encoded data removed]",
      "text/plain": [
       "<Figure size 432x288 with 2 Axes>"
      ]
     },
     "metadata": {
      "needs_background": "light"
     },
     "output_type": "display_data"
    }
   ],
   "source": [
    "print(plot_confusion_matrix(lr_rand, X_test, y_test))"
   ]
  },
  {
   "cell_type": "markdown",
   "metadata": {},
   "source": [
    "## 9. Import Best Model to Joblib"
   ]
  },
  {
   "cell_type": "code",
   "execution_count": 125,
   "metadata": {},
   "outputs": [
    {
     "data": {
      "text/plain": [
       "['modelfix']"
      ]
     },
     "execution_count": 125,
     "metadata": {},
     "output_type": "execute_result"
    }
   ],
   "source": [
    "joblib.dump(best_lr, \"modelfix\")"
   ]
  }
 ],
 "metadata": {
  "kernelspec": {
   "display_name": "Python 3",
   "language": "python",
   "name": "python3"
  },
  "language_info": {
   "codemirror_mode": {
    "name": "ipython",
    "version": 3
   },
   "file_extension": ".py",
   "mimetype": "text/x-python",
   "name": "python",
   "nbconvert_exporter": "python",
   "pygments_lexer": "ipython3",
   "version": "3.7.4"
  }
 },
 "nbformat": 4,
 "nbformat_minor": 2
}
